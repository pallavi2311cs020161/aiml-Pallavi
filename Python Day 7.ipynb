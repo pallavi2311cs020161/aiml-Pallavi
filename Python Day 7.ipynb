{
 "cells": [
  {
   "cell_type": "markdown",
   "id": "b414b9d0-8bfe-47b1-93be-7ccbaf8ee0fe",
   "metadata": {},
   "source": [
    "#### User input in Python"
   ]
  },
  {
   "cell_type": "code",
   "execution_count": 2,
   "id": "86772f36-3ea3-4461-977b-b08dbbd16a98",
   "metadata": {},
   "outputs": [
    {
     "name": "stdin",
     "output_type": "stream",
     "text": [
      " 5\n",
      " 6\n"
     ]
    },
    {
     "name": "stdout",
     "output_type": "stream",
     "text": [
      "56\n"
     ]
    }
   ],
   "source": [
    "###### Sum of two numbers (not works)\n",
    "x = input()\n",
    "y = input()\n",
    "z = x + y\n",
    "print(z)"
   ]
  },
  {
   "cell_type": "code",
   "execution_count": 3,
   "id": "226403e5-ff4b-4f4c-b2dc-6bb2b3de1cb2",
   "metadata": {},
   "outputs": [
    {
     "name": "stdin",
     "output_type": "stream",
     "text": [
      "Enter the 1st number 5\n",
      "Enter the 2nd number 6\n"
     ]
    },
    {
     "name": "stdout",
     "output_type": "stream",
     "text": [
      "56\n"
     ]
    }
   ],
   "source": [
    "#Sum of two numbers (not works)\n",
    "x = input(\"Enter the 1st number\")\n",
    "y = input(\"Enter the 2nd number\")\n",
    "z = x + y\n",
    "print(z)"
   ]
  },
  {
   "cell_type": "code",
   "execution_count": 4,
   "id": "773a181a-45c3-4419-930f-56d4dd9e204c",
   "metadata": {},
   "outputs": [
    {
     "name": "stdin",
     "output_type": "stream",
     "text": [
      "Enter the 1st number 20\n",
      "Enter the 2nd number 20\n"
     ]
    },
    {
     "name": "stdout",
     "output_type": "stream",
     "text": [
      "40\n"
     ]
    }
   ],
   "source": [
    "#Sum of two numbers (Works)\n",
    "x = input(\"Enter the 1st number\")\n",
    "a = int(x)\n",
    "y = input(\"Enter the 2nd number\")\n",
    "b = int(y)\n",
    "z = a + b\n",
    "print(z)"
   ]
  },
  {
   "cell_type": "code",
   "execution_count": 5,
   "id": "4f966857-e32c-484e-bad6-c407472102c7",
   "metadata": {},
   "outputs": [
    {
     "name": "stdin",
     "output_type": "stream",
     "text": [
      "Enter the 1st number 40\n",
      "Enter the 2nd number 20\n"
     ]
    },
    {
     "name": "stdout",
     "output_type": "stream",
     "text": [
      "60\n"
     ]
    }
   ],
   "source": [
    "#Reducing the lines of code\n",
    "x = int(input(\"Enter the 1st number\"))\n",
    "y = int(input(\"Enter the 2nd number\"))\n",
    "z = x + y\n",
    "print(z)"
   ]
  },
  {
   "cell_type": "code",
   "execution_count": 6,
   "id": "0fd8e692-6fdb-421d-80bd-b34daac0f738",
   "metadata": {},
   "outputs": [
    {
     "name": "stdin",
     "output_type": "stream",
     "text": [
      "Enter a char p\n"
     ]
    },
    {
     "name": "stdout",
     "output_type": "stream",
     "text": [
      "p\n"
     ]
    }
   ],
   "source": [
    "#Character\n",
    "ch = input('Enter a char')\n",
    "print(ch)"
   ]
  },
  {
   "cell_type": "code",
   "execution_count": 7,
   "id": "312cee89-4ce0-4910-a5e1-e577f61bf1a7",
   "metadata": {},
   "outputs": [
    {
     "name": "stdin",
     "output_type": "stream",
     "text": [
      "Enter a char pqr\n"
     ]
    },
    {
     "name": "stdout",
     "output_type": "stream",
     "text": [
      "pqr\n"
     ]
    }
   ],
   "source": [
    "ch = input('Enter a char')\n",
    "print(ch)"
   ]
  },
  {
   "cell_type": "code",
   "execution_count": 8,
   "id": "ca33c466-ed14-4890-ab0e-3ffd80f784da",
   "metadata": {},
   "outputs": [
    {
     "name": "stdin",
     "output_type": "stream",
     "text": [
      "Enter a char pallavi\n"
     ]
    },
    {
     "name": "stdout",
     "output_type": "stream",
     "text": [
      "p\n"
     ]
    }
   ],
   "source": [
    "ch = input('Enter a char')\n",
    "print(ch[0])"
   ]
  },
  {
   "cell_type": "code",
   "execution_count": 9,
   "id": "00b83d02-3974-49dd-990a-ebcc78ce7a8a",
   "metadata": {},
   "outputs": [
    {
     "name": "stdin",
     "output_type": "stream",
     "text": [
      "Enter a char pandu\n"
     ]
    },
    {
     "name": "stdout",
     "output_type": "stream",
     "text": [
      "a\n"
     ]
    }
   ],
   "source": [
    "ch = input('Enter a char')[1]\n",
    "print(ch)"
   ]
  },
  {
   "cell_type": "code",
   "execution_count": 10,
   "id": "ec4595ac-2884-450c-8d85-5b8cdb41cf8f",
   "metadata": {},
   "outputs": [
    {
     "name": "stdin",
     "output_type": "stream",
     "text": [
      "Enter a char pallavi\n"
     ]
    },
    {
     "name": "stdout",
     "output_type": "stream",
     "text": [
      "p\n"
     ]
    }
   ],
   "source": [
    "ch = input('Enter a char')[0]\n",
    "print(ch)"
   ]
  },
  {
   "cell_type": "code",
   "execution_count": 11,
   "id": "90df9a57-59d7-471d-812e-48269ac37967",
   "metadata": {},
   "outputs": [
    {
     "name": "stdin",
     "output_type": "stream",
     "text": [
      "Enter an expr 2+3-1\n"
     ]
    },
    {
     "name": "stdout",
     "output_type": "stream",
     "text": [
      "4\n"
     ]
    }
   ],
   "source": [
    "result=eval(input(\"Enter an expr\"))\n",
    "print(result)\n",
    "\n",
    "            "
   ]
  },
  {
   "cell_type": "markdown",
   "id": "5411494e-f3e1-4a58-9e2e-32d5ecc736c0",
   "metadata": {},
   "source": [
    "#### Argument Values"
   ]
  },
  {
   "cell_type": "code",
   "execution_count": 13,
   "id": "2133bd0f-66e8-461d-a9de-b079b2b5ff35",
   "metadata": {},
   "outputs": [],
   "source": [
    "x = 5\n",
    "y = 6"
   ]
  },
  {
   "cell_type": "code",
   "execution_count": 14,
   "id": "adfb659c-3598-49c0-94d8-4ea53fd01e01",
   "metadata": {},
   "outputs": [
    {
     "name": "stdin",
     "output_type": "stream",
     "text": [
      "-f 5\n",
      "C:\\Users\\palla\\AppData\\Roaming\\jupyter\\runtime\\kernel-5dd9b630-b239-43c9-92e7-2a0f1b5a67c5.json 5\n"
     ]
    },
    {
     "name": "stdout",
     "output_type": "stream",
     "text": [
      "10\n"
     ]
    }
   ],
   "source": [
    "import sys\n",
    "x = int(input(sys.argv[1]))  \n",
    "y = int(input(sys.argv[2])) \n",
    "print(x + y)"
   ]
  },
  {
   "cell_type": "markdown",
   "id": "e4992e1c-3e6e-4cf4-8911-868585c75e01",
   "metadata": {},
   "source": [
    "#### if elif else"
   ]
  },
  {
   "cell_type": "code",
   "execution_count": 66,
   "id": "bcd59109-8727-4ea9-91cc-ade3778f0851",
   "metadata": {},
   "outputs": [
    {
     "name": "stdout",
     "output_type": "stream",
     "text": [
      "pandu\n"
     ]
    }
   ],
   "source": [
    "if False:\n",
    "    print(\"pallavi\")\n",
    "print(\"pandu\")"
   ]
  },
  {
   "cell_type": "code",
   "execution_count": 68,
   "id": "afc921d6-0e35-479e-87cf-736703363fed",
   "metadata": {},
   "outputs": [
    {
     "name": "stdout",
     "output_type": "stream",
     "text": [
      "Odd\n"
     ]
    }
   ],
   "source": [
    "x = 5\n",
    "r = x % 2\n",
    "if r==0:\n",
    "    print(\"Even\")\n",
    "print(\"Odd\")"
   ]
  },
  {
   "cell_type": "code",
   "execution_count": 70,
   "id": "af1d5110-0320-4d75-819b-c00720639f9a",
   "metadata": {},
   "outputs": [
    {
     "name": "stdout",
     "output_type": "stream",
     "text": [
      "Even\n"
     ]
    }
   ],
   "source": [
    "x = 10\n",
    "r = x % 2\n",
    "if r==0:\n",
    "    print(\"Even\")\n",
    "if r==1:\n",
    "    print(\"Odd\")"
   ]
  },
  {
   "cell_type": "code",
   "execution_count": 72,
   "id": "e033c225-c0a1-4ea3-aa5c-a539645509a4",
   "metadata": {},
   "outputs": [
    {
     "name": "stdout",
     "output_type": "stream",
     "text": [
      "Odd\n"
     ]
    }
   ],
   "source": [
    "x = 5\n",
    "r = x % 2\n",
    "if r==1:\n",
    "    print(\"Odd\")"
   ]
  },
  {
   "cell_type": "code",
   "execution_count": 74,
   "id": "e97b4ede-db0c-4824-aaae-b803aeb22352",
   "metadata": {},
   "outputs": [
    {
     "name": "stdout",
     "output_type": "stream",
     "text": [
      "Even\n"
     ]
    }
   ],
   "source": [
    "x = 12\n",
    "r = x % 2\n",
    "if r==0:\n",
    "    print(\"Even\")"
   ]
  },
  {
   "cell_type": "code",
   "execution_count": 76,
   "id": "90f8a444-f4d9-4401-a478-aaedf97546cf",
   "metadata": {},
   "outputs": [
    {
     "name": "stdout",
     "output_type": "stream",
     "text": [
      "Even\n"
     ]
    }
   ],
   "source": [
    "x = 10\n",
    "r = x % 2\n",
    "if r==0:\n",
    "    print(\"Even\")\n",
    "else:\n",
    "    print(\"Odd\")"
   ]
  },
  {
   "cell_type": "code",
   "execution_count": 78,
   "id": "9e1794a7-dba5-4a61-9c25-447ecfe2f517",
   "metadata": {},
   "outputs": [
    {
     "name": "stdout",
     "output_type": "stream",
     "text": [
      "Even1\n",
      "Even2\n"
     ]
    }
   ],
   "source": [
    "x = 10\n",
    "r = x % 2\n",
    "if r==0:\n",
    "    print(\"Even1\")\n",
    "    if r==0:\n",
    "        print(\"Even2\")\n",
    "    else:\n",
    "        print(\"Odd2\")\n",
    "else:\n",
    "    print(\"Odd\")"
   ]
  },
  {
   "cell_type": "code",
   "execution_count": 80,
   "id": "458615b5-f829-47c2-9dfe-04480bfaa025",
   "metadata": {},
   "outputs": [
    {
     "name": "stdout",
     "output_type": "stream",
     "text": [
      "Odd\n"
     ]
    }
   ],
   "source": [
    "x = 5\n",
    "r = x % 2\n",
    "if r==0:\n",
    "    print(\"Even1\")\n",
    "    if r==0:\n",
    "        print(\"Even2\")\n",
    "    else:\n",
    "        print(\"Odd2\")\n",
    "else:\n",
    "    print(\"Odd\")"
   ]
  },
  {
   "cell_type": "code",
   "execution_count": 82,
   "id": "6530b133-1d81-457d-8000-018ff1c73529",
   "metadata": {},
   "outputs": [
    {
     "name": "stdout",
     "output_type": "stream",
     "text": [
      "One\n"
     ]
    }
   ],
   "source": [
    "x = 1\n",
    "if x==1:\n",
    "    print(\"One\")\n",
    "elif x==2:\n",
    "    print(\"Two\")\n",
    "elif x==3:\n",
    "    print(\"Three\")\n",
    "elif x==4:\n",
    "    print(\"Four\")\n",
    "elif x==5:\n",
    "    print(\"Five\")\n",
    "elif x==6:\n",
    "    print(\"Six\")\n",
    "elif x==7:\n",
    "    print(\"Seven\")\n",
    "elif x==8:\n",
    "    print(\"Eight\")\n",
    "else:\n",
    "    print(\"shows error\") "
   ]
  },
  {
   "cell_type": "code",
   "execution_count": 84,
   "id": "462d6e52-b132-4cdf-8a34-4435521a085e",
   "metadata": {},
   "outputs": [
    {
     "name": "stdout",
     "output_type": "stream",
     "text": [
      "Six\n"
     ]
    }
   ],
   "source": [
    "x = 6\n",
    "if x==1:\n",
    "    print(\"One\")\n",
    "elif x==2:\n",
    "    print(\"Two\")\n",
    "elif x==3:\n",
    "    print(\"Three\")\n",
    "elif x==4:\n",
    "    print(\"Four\")\n",
    "elif x==5:\n",
    "    print(\"Five\")\n",
    "elif x==6:\n",
    "    print(\"Six\")\n",
    "elif x==7:\n",
    "    print(\"Seven\")\n",
    "elif x==8:\n",
    "    print(\"Eight\")\n",
    "else:\n",
    "    print(\"shows error\") "
   ]
  },
  {
   "cell_type": "code",
   "execution_count": 86,
   "id": "c18a5f8c-f29a-42cc-b7fe-51b884bcd8a1",
   "metadata": {},
   "outputs": [
    {
     "name": "stdout",
     "output_type": "stream",
     "text": [
      "shows error\n"
     ]
    }
   ],
   "source": [
    "x = 10\n",
    "if x==1:\n",
    "    print(\"One\")\n",
    "elif x==2:\n",
    "    print(\"Two\")\n",
    "elif x==3:\n",
    "    print(\"Three\")\n",
    "elif x==4:\n",
    "    print(\"Four\")\n",
    "elif x==5:\n",
    "    print(\"Five\")\n",
    "elif x==6:\n",
    "    print(\"Six\")\n",
    "elif x==7:\n",
    "    print(\"Seven\")\n",
    "elif x==8:\n",
    "    print(\"Eight\")\n",
    "else:\n",
    "    print(\"shows error\") "
   ]
  },
  {
   "cell_type": "markdown",
   "id": "5bd429e9-543d-4c20-93f5-75369f6ddd57",
   "metadata": {},
   "source": [
    "#### Looping"
   ]
  },
  {
   "cell_type": "code",
   "execution_count": 89,
   "id": "d7c919a8-a135-4f35-af38-cc1f34320769",
   "metadata": {},
   "outputs": [],
   "source": [
    "# While loop"
   ]
  },
  {
   "cell_type": "code",
   "execution_count": 91,
   "id": "0158e33a-f4d4-445d-9b1e-315e52aba2aa",
   "metadata": {},
   "outputs": [
    {
     "name": "stdout",
     "output_type": "stream",
     "text": [
      "pallavi\n",
      "pallavi\n",
      "pallavi\n",
      "pallavi\n",
      "pallavi\n"
     ]
    }
   ],
   "source": [
    "#printing a name 5 times(in sequence)\n",
    "i = 1\n",
    "while i<=5:\n",
    "    print(\"pallavi\")\n",
    "    i=i+1"
   ]
  },
  {
   "cell_type": "code",
   "execution_count": 93,
   "id": "7415d106-e4bb-4ed4-b698-f9187a0ee28d",
   "metadata": {},
   "outputs": [
    {
     "name": "stdout",
     "output_type": "stream",
     "text": [
      "pallavi\n",
      "pallavi\n",
      "pallavi\n",
      "pallavi\n",
      "pallavi\n"
     ]
    }
   ],
   "source": [
    "#printing a name 5 times(reverse)\n",
    "i = 5\n",
    "while i>=1:\n",
    "    print(\"pallavi\")\n",
    "    i=i-1"
   ]
  },
  {
   "cell_type": "code",
   "execution_count": 95,
   "id": "f4b9f87c-1cf4-4236-ab3b-0720f6455eaa",
   "metadata": {},
   "outputs": [
    {
     "name": "stdout",
     "output_type": "stream",
     "text": [
      "1 pallavi\n",
      "2 pallavi\n",
      "3 pallavi\n",
      "4 pallavi\n",
      "5 pallavi\n"
     ]
    }
   ],
   "source": [
    "#printing a name 5 times(in sequence)\n",
    "i = 1\n",
    "while i<=5:\n",
    "    print(i , \"pallavi\")\n",
    "    i=i+1"
   ]
  },
  {
   "cell_type": "code",
   "execution_count": 97,
   "id": "98483d52-4dbe-498d-9213-9e3cd5b08f5d",
   "metadata": {},
   "outputs": [
    {
     "name": "stdout",
     "output_type": "stream",
     "text": [
      "5 pallavi\n",
      "4 pallavi\n",
      "3 pallavi\n",
      "2 pallavi\n",
      "1 pallavi\n"
     ]
    }
   ],
   "source": [
    "#printing a name 5 times(reverse)\n",
    "i = 5\n",
    "while i>=1:\n",
    "    print(i , \"pallavi\")\n",
    "    i=i-1"
   ]
  },
  {
   "cell_type": "code",
   "execution_count": 33,
   "id": "3de96405-c99d-402b-9f56-91ae70d765e6",
   "metadata": {},
   "outputs": [
    {
     "name": "stdout",
     "output_type": "stream",
     "text": [
      "pallavi\n",
      "darji\n",
      "\n",
      "pallavi\n",
      "darji\n",
      "\n",
      "pallavi\n",
      "darji\n",
      "\n",
      "pallavi\n",
      "darji\n",
      "\n",
      "pallavi\n",
      "darji\n",
      "\n"
     ]
    }
   ],
   "source": [
    "i = 1\n",
    "while i<=5:\n",
    "    print(\"pallavi\")\n",
    "    j=4\n",
    "    while j<=4:\n",
    "        print(\"darji\")\n",
    "        j=j+1\n",
    "    i=i+1\n",
    "    print()"
   ]
  },
  {
   "cell_type": "code",
   "execution_count": 101,
   "id": "24b8fc93-1d1c-43d1-9c02-c08b543f406b",
   "metadata": {},
   "outputs": [
    {
     "name": "stdout",
     "output_type": "stream",
     "text": [
      "pallavi darji darji darji darji \n",
      "pallavi darji darji darji darji \n",
      "pallavi darji darji darji darji \n",
      "pallavi darji darji darji darji \n",
      "pallavi darji darji darji darji \n"
     ]
    }
   ],
   "source": [
    "i = 1\n",
    "\n",
    "while i<=5:\n",
    "    print(\"pallavi \",end=\"\")\n",
    "    j=1\n",
    "    while j<=4:\n",
    "        print(\"darji \",end=\"\")\n",
    "        j=j+1\n",
    "        \n",
    "    i=i+1\n",
    "    print()"
   ]
  },
  {
   "cell_type": "code",
   "execution_count": null,
   "id": "2c31859d-bb25-4fb6-8034-a53b8a39c893",
   "metadata": {},
   "outputs": [],
   "source": []
  }
 ],
 "metadata": {
  "kernelspec": {
   "display_name": "Python [conda env:base] *",
   "language": "python",
   "name": "conda-base-py"
  },
  "language_info": {
   "codemirror_mode": {
    "name": "ipython",
    "version": 3
   },
   "file_extension": ".py",
   "mimetype": "text/x-python",
   "name": "python",
   "nbconvert_exporter": "python",
   "pygments_lexer": "ipython3",
   "version": "3.12.7"
  }
 },
 "nbformat": 4,
 "nbformat_minor": 5
}
