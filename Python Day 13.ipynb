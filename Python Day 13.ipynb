{
 "cells": [
  {
   "cell_type": "markdown",
   "id": "c9eb8c32-6e59-4702-947c-ee75b9664760",
   "metadata": {},
   "source": [
    "#### Types of Arguments in Python"
   ]
  },
  {
   "cell_type": "code",
   "execution_count": 2,
   "id": "30bd02c1-f831-4a58-a3e8-105de4927124",
   "metadata": {},
   "outputs": [
    {
     "name": "stdout",
     "output_type": "stream",
     "text": [
      "16\n"
     ]
    }
   ],
   "source": [
    "def add(a,b):\n",
    "    c = a+b\n",
    "    print(c)\n",
    "add(7,9)"
   ]
  },
  {
   "cell_type": "code",
   "execution_count": 4,
   "id": "31f9e8fb-aff1-499d-87b4-2399f4464a37",
   "metadata": {},
   "outputs": [
    {
     "name": "stdout",
     "output_type": "stream",
     "text": [
      "11\n"
     ]
    }
   ],
   "source": [
    "def person(a,b):\n",
    "    c = a+b\n",
    "    print(c)\n",
    "add(5,6)"
   ]
  },
  {
   "cell_type": "code",
   "execution_count": 6,
   "id": "edffa54d-c0c1-43a0-89ad-31c7b6679e9b",
   "metadata": {},
   "outputs": [
    {
     "name": "stdout",
     "output_type": "stream",
     "text": [
      "15\n"
     ]
    }
   ],
   "source": [
    "def person(name,b):\n",
    "    c = a+b\n",
    "    print(c)\n",
    "add(9,6)\n",
    "    "
   ]
  },
  {
   "cell_type": "code",
   "execution_count": 10,
   "id": "7255607d-405f-4c18-87c8-98eb6d0d5fed",
   "metadata": {},
   "outputs": [
    {
     "name": "stdout",
     "output_type": "stream",
     "text": [
      "32\n"
     ]
    }
   ],
   "source": [
    "def person(name,age):\n",
    "    c = a+b\n",
    "    print(c)\n",
    "add(14,18)"
   ]
  },
  {
   "cell_type": "code",
   "execution_count": 12,
   "id": "bc151cee-bc07-4c0d-b5e0-3e765ba3e5be",
   "metadata": {},
   "outputs": [
    {
     "name": "stdout",
     "output_type": "stream",
     "text": [
      "pallavi\n",
      "19\n"
     ]
    }
   ],
   "source": [
    "def person(name,age):\n",
    "    print(name)\n",
    "    print(age)\n",
    "\n",
    "person('pallavi',19)"
   ]
  },
  {
   "cell_type": "code",
   "execution_count": 20,
   "id": "4c573e1c-d026-455f-844d-bc6d35ca7f39",
   "metadata": {},
   "outputs": [
    {
     "name": "stdout",
     "output_type": "stream",
     "text": [
      "19\n",
      "pallavi\n"
     ]
    }
   ],
   "source": [
    "def person(name,age):\n",
    "    print(name)\n",
    "    print(age)\n",
    "\n",
    "person(19,'pallavi')"
   ]
  },
  {
   "cell_type": "code",
   "execution_count": 22,
   "id": "9ea7e3bc-691e-4feb-91c2-9a13d7bb113f",
   "metadata": {},
   "outputs": [
    {
     "name": "stdout",
     "output_type": "stream",
     "text": [
      "pallavi\n",
      "19\n"
     ]
    }
   ],
   "source": [
    "def person(name,age):\n",
    "    print(name)\n",
    "    print(age)\n",
    "\n",
    "person(name='pallavi',age=19)"
   ]
  },
  {
   "cell_type": "code",
   "execution_count": 28,
   "id": "a033260e-3b56-4e17-bc8a-cb3fccb79a46",
   "metadata": {},
   "outputs": [
    {
     "name": "stdout",
     "output_type": "stream",
     "text": [
      "pallavi\n",
      "19\n"
     ]
    }
   ],
   "source": [
    "def person(name='pallavi',age=19):\n",
    "    print(name)\n",
    "    print(age)\n",
    "person()"
   ]
  },
  {
   "cell_type": "code",
   "execution_count": 32,
   "id": "77e99c5a-1675-4042-82d1-54fbaac59b73",
   "metadata": {},
   "outputs": [
    {
     "name": "stdout",
     "output_type": "stream",
     "text": [
      "33\n"
     ]
    }
   ],
   "source": [
    "def sum(a,b):\n",
    "    c = a+b\n",
    "    print(c)\n",
    "sum(18,15)"
   ]
  },
  {
   "cell_type": "code",
   "execution_count": 40,
   "id": "5e8abd17-7621-4677-9905-80115510fb70",
   "metadata": {},
   "outputs": [
    {
     "name": "stdout",
     "output_type": "stream",
     "text": [
      "33\n"
     ]
    }
   ],
   "source": [
    "def sum(a,b):\n",
    "    c = a+b\n",
    "    print(c)\n",
    "sum(18,15)"
   ]
  },
  {
   "cell_type": "code",
   "execution_count": 42,
   "id": "de0a79b2-c9b8-4d54-bde6-8f9d4af49479",
   "metadata": {},
   "outputs": [
    {
     "name": "stdout",
     "output_type": "stream",
     "text": [
      "5\n",
      "(6, 34, 78)\n"
     ]
    }
   ],
   "source": [
    "def sum(a, *b):\n",
    "    print(a)\n",
    "    print(b)\n",
    "sum(5,6,34,78)"
   ]
  },
  {
   "cell_type": "code",
   "execution_count": 46,
   "id": "dd5058dd-d2d0-4cf9-a5d7-b07e976672ca",
   "metadata": {},
   "outputs": [
    {
     "name": "stdout",
     "output_type": "stream",
     "text": [
      "246\n"
     ]
    }
   ],
   "source": [
    "def sum(a, *b):\n",
    "    c = a\n",
    "    for i in b:\n",
    "        c = c + i\n",
    "    print(c)\n",
    "sum(5,64,99,78)"
   ]
  },
  {
   "cell_type": "code",
   "execution_count": 48,
   "id": "09cec857-23c4-436e-becf-a67529520c4a",
   "metadata": {},
   "outputs": [
    {
     "name": "stdout",
     "output_type": "stream",
     "text": [
      "753\n"
     ]
    }
   ],
   "source": [
    "def sum(a, *b):\n",
    "    c = a\n",
    "    for i in b:\n",
    "        c = c + i\n",
    "    print(c)\n",
    "sum(88,665)"
   ]
  },
  {
   "cell_type": "code",
   "execution_count": 52,
   "id": "5a1d2809-eb70-4c01-b57b-40096789f449",
   "metadata": {},
   "outputs": [
    {
     "name": "stdout",
     "output_type": "stream",
     "text": [
      "753\n"
     ]
    }
   ],
   "source": [
    "def sum(*b):\n",
    "    c = 0\n",
    "    for i in b:\n",
    "        c = c + i\n",
    "    print(c)\n",
    "sum(88,665)"
   ]
  },
  {
   "cell_type": "markdown",
   "id": "b62a67eb-8b6a-4b09-be89-3e8c228caeed",
   "metadata": {},
   "source": [
    "#### Global vs Local"
   ]
  },
  {
   "cell_type": "code",
   "execution_count": 57,
   "id": "294ea50c-b28f-46fa-9622-5b2baffd5bc1",
   "metadata": {},
   "outputs": [
    {
     "name": "stdout",
     "output_type": "stream",
     "text": [
      "25\n"
     ]
    }
   ],
   "source": [
    "a = 25 #global\n",
    "def something():# local\n",
    "    a = 15\n",
    "    print(a)\n",
    "print(a)"
   ]
  },
  {
   "cell_type": "code",
   "execution_count": 61,
   "id": "e8c5e0a6-0c61-427b-9b6b-25211d3814d3",
   "metadata": {},
   "outputs": [
    {
     "name": "stdout",
     "output_type": "stream",
     "text": [
      "25\n",
      "27\n"
     ]
    }
   ],
   "source": [
    "a = 25#global\n",
    "b = 27\n",
    "def something():# local\n",
    "    a = 15\n",
    "    b = 8\n",
    "    print(a)\n",
    "    print(b)\n",
    "print(a)\n",
    "print(b)"
   ]
  },
  {
   "cell_type": "code",
   "execution_count": 77,
   "id": "d035a2ee-97b5-4dde-9fc6-6e8aa7f4ce05",
   "metadata": {},
   "outputs": [
    {
     "name": "stdout",
     "output_type": "stream",
     "text": [
      "in fun  15\n",
      "outside 15\n"
     ]
    }
   ],
   "source": [
    "a = 10\n",
    "\n",
    "def something():\n",
    "    global a\n",
    "    a = 15\n",
    "    \n",
    "\n",
    "    print(\"in fun \" ,a)\n",
    "something()\n",
    "\n",
    "    \n",
    "print(\"outside\",a)"
   ]
  },
  {
   "cell_type": "code",
   "execution_count": 85,
   "id": "e96ffd5e-9618-432c-bf65-41a7273f5912",
   "metadata": {},
   "outputs": [
    {
     "name": "stdout",
     "output_type": "stream",
     "text": [
      "140722737195736\n",
      "140722737195736\n",
      "in fun  5\n",
      "outside 10\n"
     ]
    }
   ],
   "source": [
    "a = 10\n",
    "print(id(a))\n",
    "\n",
    "def something():\n",
    "    a = 5\n",
    "    x = globals()['a']\n",
    "    print(id(x))\n",
    "    print(\"in fun \" ,a)\n",
    "something()\n",
    "\n",
    "print(\"outside\",a)"
   ]
  },
  {
   "cell_type": "code",
   "execution_count": 87,
   "id": "43e82c23-21e3-4c36-9f70-89d0826b159e",
   "metadata": {},
   "outputs": [
    {
     "name": "stdout",
     "output_type": "stream",
     "text": [
      "140722737195736\n",
      "140722737195736\n",
      "in fun  5\n",
      "outside 15\n"
     ]
    }
   ],
   "source": [
    "a = 10\n",
    "print(id(a))\n",
    "\n",
    "def something():\n",
    "    a = 5\n",
    "    x = globals()['a']\n",
    "    print(id(x))\n",
    "    print(\"in fun \" ,a)\n",
    "    globals()['a'] = 15\n",
    "something()\n",
    "\n",
    "print(\"outside\",a)"
   ]
  },
  {
   "cell_type": "markdown",
   "id": "56922072-2a73-4445-8c63-e4aa5072641b",
   "metadata": {},
   "source": [
    "#### Pass List to a function"
   ]
  },
  {
   "cell_type": "code",
   "execution_count": 94,
   "id": "b4adb5bc-86a9-451c-a70e-ffc85d3c1148",
   "metadata": {},
   "outputs": [
    {
     "name": "stdout",
     "output_type": "stream",
     "text": [
      "6\n",
      "3\n"
     ]
    }
   ],
   "source": [
    "def count(lst):\n",
    "    even = 0\n",
    "    odd = 0\n",
    "    for i in lst:\n",
    "        if i%2==0:\n",
    "            even+=1\n",
    "        else:\n",
    "            odd+=1\n",
    "    return even,odd\n",
    "lst = [20,25,14,19,16,24,28,47,26]\n",
    "even, odd = count(lst)\n",
    "print(even)\n",
    "print(odd)"
   ]
  },
  {
   "cell_type": "code",
   "execution_count": null,
   "id": "f1d5fd96-4cdf-4874-9e7f-7f511120a06b",
   "metadata": {},
   "outputs": [],
   "source": [
    "def count(lst):\n",
    "    even = 0\n",
    "    odd = 0\n",
    "    for i in lst:\n",
    "        if i%2==0:\n",
    "            even+=1\n",
    "        else:\n",
    "            odd+=1\n",
    "    return even,odd\n",
    "lst = [20,25,14,19,16,24,28,47,26]\n",
    "even, odd = count(lst)\n",
    "print(\"Even : () and Odd : ()"
   ]
  }
 ],
 "metadata": {
  "kernelspec": {
   "display_name": "Python [conda env:base] *",
   "language": "python",
   "name": "conda-base-py"
  },
  "language_info": {
   "codemirror_mode": {
    "name": "ipython",
    "version": 3
   },
   "file_extension": ".py",
   "mimetype": "text/x-python",
   "name": "python",
   "nbconvert_exporter": "python",
   "pygments_lexer": "ipython3",
   "version": "3.12.7"
  }
 },
 "nbformat": 4,
 "nbformat_minor": 5
}
