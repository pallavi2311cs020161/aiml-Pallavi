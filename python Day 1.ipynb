{
 "cells": [
  {
   "cell_type": "markdown",
   "id": "1149558a-a92c-43bf-8e4a-22e8b160c0d2",
   "metadata": {},
   "source": [
    "#Introduction Basics"
   ]
  },
  {
   "cell_type": "code",
   "execution_count": 2,
   "id": "628ea5e8-1927-4edb-8442-b5733526be90",
   "metadata": {},
   "outputs": [
    {
     "data": {
      "text/plain": [
       "5"
      ]
     },
     "execution_count": 2,
     "metadata": {},
     "output_type": "execute_result"
    }
   ],
   "source": [
    "#To sum the numbers\n",
    "2 + 3"
   ]
  },
  {
   "cell_type": "code",
   "execution_count": 3,
   "id": "a15230cd-faf6-4e57-aeac-ec43647b9c3a",
   "metadata": {},
   "outputs": [
    {
     "data": {
      "text/plain": [
       "1"
      ]
     },
     "execution_count": 3,
     "metadata": {},
     "output_type": "execute_result"
    }
   ],
   "source": [
    "#To substract the numbers\n",
    "3 - 2"
   ]
  },
  {
   "cell_type": "code",
   "execution_count": 4,
   "id": "febac37d-bf8d-4cba-b670-47846b85e7a7",
   "metadata": {},
   "outputs": [
    {
     "data": {
      "text/plain": [
       "8"
      ]
     },
     "execution_count": 4,
     "metadata": {},
     "output_type": "execute_result"
    }
   ],
   "source": [
    "#To multiply numbers\n",
    "4 * 2"
   ]
  },
  {
   "cell_type": "code",
   "execution_count": 5,
   "id": "527b4ba8-5a97-4b5a-8dd4-2087b87f7288",
   "metadata": {},
   "outputs": [
    {
     "data": {
      "text/plain": [
       "1.5"
      ]
     },
     "execution_count": 5,
     "metadata": {},
     "output_type": "execute_result"
    }
   ],
   "source": [
    "#To divide the numbers\n",
    "6 / 4"
   ]
  },
  {
   "cell_type": "code",
   "execution_count": 6,
   "id": "93065902-818a-4cdb-84e2-89485270e8dc",
   "metadata": {},
   "outputs": [
    {
     "data": {
      "text/plain": [
       "1"
      ]
     },
     "execution_count": 6,
     "metadata": {},
     "output_type": "execute_result"
    }
   ],
   "source": [
    "# to avoid float output\n",
    "6 // 4"
   ]
  },
  {
   "cell_type": "code",
   "execution_count": 7,
   "id": "0a007ad2-3486-476d-9767-e4647f19f156",
   "metadata": {},
   "outputs": [
    {
     "data": {
      "text/plain": [
       "1296"
      ]
     },
     "execution_count": 7,
     "metadata": {},
     "output_type": "execute_result"
    }
   ],
   "source": [
    "#To multiply a single number in multiple times\n",
    "6 ** 4"
   ]
  },
  {
   "cell_type": "code",
   "execution_count": 8,
   "id": "9485af38-b9c4-4ba5-ba6b-d1089a034676",
   "metadata": {},
   "outputs": [
    {
     "data": {
      "text/plain": [
       "16"
      ]
     },
     "execution_count": 8,
     "metadata": {},
     "output_type": "execute_result"
    }
   ],
   "source": [
    "4**2"
   ]
  },
  {
   "cell_type": "code",
   "execution_count": 9,
   "id": "b9039a7c-5154-4eb5-b196-c184d54f2655",
   "metadata": {},
   "outputs": [
    {
     "data": {
      "text/plain": [
       "20"
      ]
     },
     "execution_count": 9,
     "metadata": {},
     "output_type": "execute_result"
    }
   ],
   "source": [
    "#\n",
    "(6 + 4) * 2"
   ]
  },
  {
   "cell_type": "code",
   "execution_count": 10,
   "id": "eae2bb28-75c0-4550-93dc-b42cdf708f7a",
   "metadata": {},
   "outputs": [
    {
     "data": {
      "text/plain": [
       "22"
      ]
     },
     "execution_count": 10,
     "metadata": {},
     "output_type": "execute_result"
    }
   ],
   "source": [
    "3 * 6 + 4"
   ]
  },
  {
   "cell_type": "code",
   "execution_count": 11,
   "id": "3db364eb-d24c-49bf-a71f-e689bc748883",
   "metadata": {},
   "outputs": [
    {
     "data": {
      "text/plain": [
       "'pallavi'"
      ]
     },
     "execution_count": 11,
     "metadata": {},
     "output_type": "execute_result"
    }
   ],
   "source": [
    "#Strings\n",
    "'pallavi'"
   ]
  },
  {
   "cell_type": "code",
   "execution_count": 12,
   "id": "f8336775-96ab-4037-a634-b422ab8163d5",
   "metadata": {},
   "outputs": [
    {
     "name": "stdout",
     "output_type": "stream",
     "text": [
      "pallavi\n"
     ]
    }
   ],
   "source": [
    "print('pallavi')"
   ]
  },
  {
   "cell_type": "code",
   "execution_count": 13,
   "id": "87dd825c-e08f-4710-af65-4c65609e942c",
   "metadata": {},
   "outputs": [
    {
     "data": {
      "text/plain": [
       "'pallavipallavipallavipallavipallavipallavipallavipallavipallavipallavi'"
      ]
     },
     "execution_count": 13,
     "metadata": {},
     "output_type": "execute_result"
    }
   ],
   "source": [
    "#To execute name into multiple times\n",
    "10 * 'pallavi'"
   ]
  },
  {
   "cell_type": "code",
   "execution_count": 14,
   "id": "d97d70af-d671-4d81-9e88-b7279d3ff4f0",
   "metadata": {},
   "outputs": [
    {
     "name": "stdout",
     "output_type": "stream",
     "text": [
      "pallavi's laptop\n"
     ]
    }
   ],
   "source": [
    "print(\"pallavi's laptop\")"
   ]
  },
  {
   "cell_type": "code",
   "execution_count": 15,
   "id": "ae04b71a-ba9a-4d51-89cb-904fec6738ef",
   "metadata": {},
   "outputs": [
    {
     "name": "stdout",
     "output_type": "stream",
     "text": [
      "pallavi's laptop\n"
     ]
    }
   ],
   "source": [
    "print('pallavi\\'s laptop')"
   ]
  },
  {
   "cell_type": "code",
   "execution_count": 16,
   "id": "e993eff4-ec54-4aaf-87d8-937fe794c6ec",
   "metadata": {},
   "outputs": [
    {
     "name": "stdout",
     "output_type": "stream",
     "text": [
      "c:docs\n",
      "avin\\com\n"
     ]
    },
    {
     "name": "stderr",
     "output_type": "stream",
     "text": [
      "<>:1: SyntaxWarning: invalid escape sequence '\\c'\n",
      "<>:1: SyntaxWarning: invalid escape sequence '\\c'\n",
      "C:\\Users\\palla\\AppData\\Local\\Temp\\ipykernel_12140\\3170799890.py:1: SyntaxWarning: invalid escape sequence '\\c'\n",
      "  print(\"c:docs\\navin\\com\")\n"
     ]
    }
   ],
   "source": [
    "print(\"c:docs\\navin\\com\")"
   ]
  },
  {
   "cell_type": "code",
   "execution_count": 17,
   "id": "f29e2ea9-74c7-41ea-a30f-549f14d97f6e",
   "metadata": {},
   "outputs": [
    {
     "name": "stdout",
     "output_type": "stream",
     "text": [
      "c:docs\\navin\\com\n"
     ]
    }
   ],
   "source": [
    "#To avoid multiple lines printing\n",
    "print(r\"c:docs\\navin\\com\")"
   ]
  },
  {
   "cell_type": "code",
   "execution_count": null,
   "id": "77da1d5b-38b1-4ab4-803a-714ee721174c",
   "metadata": {},
   "outputs": [],
   "source": []
  }
 ],
 "metadata": {
  "kernelspec": {
   "display_name": "Python [conda env:base] *",
   "language": "python",
   "name": "conda-base-py"
  },
  "language_info": {
   "codemirror_mode": {
    "name": "ipython",
    "version": 3
   },
   "file_extension": ".py",
   "mimetype": "text/x-python",
   "name": "python",
   "nbconvert_exporter": "python",
   "pygments_lexer": "ipython3",
   "version": "3.12.7"
  }
 },
 "nbformat": 4,
 "nbformat_minor": 5
}
