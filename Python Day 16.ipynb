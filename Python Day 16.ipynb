{
 "cells": [
  {
   "cell_type": "markdown",
   "id": "ff525434-857d-4bdc-9b18-4b67a3724beb",
   "metadata": {},
   "source": [
    "#### Decorators"
   ]
  },
  {
   "cell_type": "code",
   "execution_count": 10,
   "id": "a4b6dfdb-bb6e-4da4-8731-269befb64e8d",
   "metadata": {},
   "outputs": [
    {
     "name": "stdout",
     "output_type": "stream",
     "text": [
      "2.0\n"
     ]
    }
   ],
   "source": [
    "def div(a,b):\n",
    "    print(a/b)\n",
    "    \n",
    "div(4,2)"
   ]
  },
  {
   "cell_type": "code",
   "execution_count": 12,
   "id": "0b5e5de8-fa8e-4237-bef7-a052a0a9a9ff",
   "metadata": {},
   "outputs": [
    {
     "name": "stdout",
     "output_type": "stream",
     "text": [
      "0.5\n"
     ]
    }
   ],
   "source": [
    "def div(a,b):\n",
    "    print(a/b)\n",
    "    \n",
    "div(2,4)"
   ]
  },
  {
   "cell_type": "code",
   "execution_count": 22,
   "id": "df30a6c9-2f7f-4594-8858-1ce04470b458",
   "metadata": {},
   "outputs": [
    {
     "name": "stdout",
     "output_type": "stream",
     "text": [
      "2.0\n"
     ]
    }
   ],
   "source": [
    "def div(a,b):\n",
    "     if a<b:\n",
    "         a,b = b,a\n",
    "     print(a/b)\n",
    "\n",
    "div(2,4) "
   ]
  },
  {
   "cell_type": "code",
   "execution_count": 24,
   "id": "78cad014-df57-4032-9280-514772f1044f",
   "metadata": {},
   "outputs": [
    {
     "name": "stdout",
     "output_type": "stream",
     "text": [
      "0.5\n"
     ]
    }
   ],
   "source": [
    "def div(a,b):\n",
    "    print(a/b)\n",
    "def smart_div(func):\n",
    "    def inner(a,b):\n",
    "        if a>b:\n",
    "            a,b = b,a\n",
    "        return func(a,b)\n",
    "    return inner\n",
    "div(2,4)\n",
    "    "
   ]
  },
  {
   "cell_type": "code",
   "execution_count": 33,
   "id": "f17ed641-012d-433a-85dc-a6a0514ff83b",
   "metadata": {},
   "outputs": [
    {
     "name": "stdout",
     "output_type": "stream",
     "text": [
      "0.5\n"
     ]
    }
   ],
   "source": [
    "def div(a,b):\n",
    "    print(a/b)\n",
    "def smart_div(func):\n",
    "    def inner(a,b):\n",
    "        if a>b:\n",
    "            a,b = b,a\n",
    "        return func(a,b)\n",
    "    return inner\n",
    "div1 = smart_div(div)\n",
    "div1(2,4)\n",
    "    "
   ]
  },
  {
   "cell_type": "markdown",
   "id": "ba5c8768-4c1c-4c88-9f17-713bd40a1343",
   "metadata": {},
   "source": [
    "#### Modules"
   ]
  },
  {
   "cell_type": "code",
   "execution_count": 51,
   "id": "c7460043-24f6-4694-84f4-650d439b2403",
   "metadata": {},
   "outputs": [
    {
     "ename": "ModuleNotFoundError",
     "evalue": "No module named 'Calc'",
     "output_type": "error",
     "traceback": [
      "\u001b[1;31m---------------------------------------------------------------------------\u001b[0m",
      "\u001b[1;31mModuleNotFoundError\u001b[0m                       Traceback (most recent call last)",
      "Cell \u001b[1;32mIn[51], line 2\u001b[0m\n\u001b[0;32m      1\u001b[0m \u001b[38;5;66;03m#Calc\u001b[39;00m\n\u001b[1;32m----> 2\u001b[0m \u001b[38;5;28;01mimport\u001b[39;00m \u001b[38;5;21;01mCalc\u001b[39;00m \u001b[38;5;28;01mas\u001b[39;00m \u001b[38;5;21;01mCl\u001b[39;00m\n\u001b[0;32m      4\u001b[0m \u001b[38;5;28;01mdef\u001b[39;00m \u001b[38;5;21madd\u001b[39m(a,b):\n\u001b[0;32m      5\u001b[0m     \u001b[38;5;28;01mreturn\u001b[39;00m a\u001b[38;5;241m+\u001b[39mb\n",
      "\u001b[1;31mModuleNotFoundError\u001b[0m: No module named 'Calc'"
     ]
    }
   ],
   "source": [
    "#Calc\n",
    "import Calc as C\n",
    "    \n",
    "def add(a,b):\n",
    "    return a+b\n",
    "def sub(a,b):\n",
    "    return a-b\n",
    "def multi(a,b):\n",
    "    return a*b\n",
    "def div(a,b):\n",
    "    return a/b"
   ]
  },
  {
   "cell_type": "code",
   "execution_count": 55,
   "id": "6f9170ca-8773-40cf-86a7-0d2bf4ce0e0a",
   "metadata": {},
   "outputs": [
    {
     "ename": "SyntaxError",
     "evalue": "invalid syntax (2035455445.py, line 2)",
     "output_type": "error",
     "traceback": [
      "\u001b[1;36m  Cell \u001b[1;32mIn[55], line 2\u001b[1;36m\u001b[0m\n\u001b[1;33m    from Calc import C*\u001b[0m\n\u001b[1;37m                      ^\u001b[0m\n\u001b[1;31mSyntaxError\u001b[0m\u001b[1;31m:\u001b[0m invalid syntax\n"
     ]
    }
   ],
   "source": [
    "#demo\n",
    "from Calc import C*\n",
    "a = 9\n",
    "b = 7\n",
    "c = add(a,b)\n",
    "print(c) \n",
    " "
   ]
  },
  {
   "cell_type": "markdown",
   "id": "d20cedde-be99-488e-b3bf-a1d2e4eaf406",
   "metadata": {},
   "source": [
    "#### Special Variable_name_"
   ]
  },
  {
   "cell_type": "code",
   "execution_count": 58,
   "id": "0707f4dd-e6d0-4f0b-9de7-5005ab8efbcc",
   "metadata": {},
   "outputs": [
    {
     "name": "stdout",
     "output_type": "stream",
     "text": [
      "__main__\n"
     ]
    }
   ],
   "source": [
    "print(__name__)"
   ]
  },
  {
   "cell_type": "code",
   "execution_count": 64,
   "id": "10669070-9a29-4fcf-a791-0bd5e386476e",
   "metadata": {},
   "outputs": [
    {
     "name": "stdout",
     "output_type": "stream",
     "text": [
      "Hello\n"
     ]
    }
   ],
   "source": [
    "print(\"Hello\")"
   ]
  },
  {
   "cell_type": "code",
   "execution_count": 62,
   "id": "03dae01a-c645-43d1-94f0-0c5188171e73",
   "metadata": {},
   "outputs": [
    {
     "name": "stdout",
     "output_type": "stream",
     "text": [
      "Hello__main__\n"
     ]
    }
   ],
   "source": [
    " print(\"Hello\" + __name__)"
   ]
  },
  {
   "cell_type": "code",
   "execution_count": null,
   "id": "6ed2fcb0-b0fb-4536-945c-3789b4fa6fab",
   "metadata": {},
   "outputs": [],
   "source": [
    "import Ca"
   ]
  }
 ],
 "metadata": {
  "kernelspec": {
   "display_name": "Python [conda env:base] *",
   "language": "python",
   "name": "conda-base-py"
  },
  "language_info": {
   "codemirror_mode": {
    "name": "ipython",
    "version": 3
   },
   "file_extension": ".py",
   "mimetype": "text/x-python",
   "name": "python",
   "nbconvert_exporter": "python",
   "pygments_lexer": "ipython3",
   "version": "3.12.7"
  }
 },
 "nbformat": 4,
 "nbformat_minor": 5
}
