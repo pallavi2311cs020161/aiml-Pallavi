{
 "cells": [
  {
   "cell_type": "markdown",
   "id": "585d2f6e-55e2-4281-82ec-00146cd14157",
   "metadata": {},
   "source": [
    "#### Variables"
   ]
  },
  {
   "cell_type": "code",
   "execution_count": 2,
   "id": "d8cfc5c2-1b38-4f95-bc4d-bbd12f1103b0",
   "metadata": {},
   "outputs": [],
   "source": [
    "num = 5"
   ]
  },
  {
   "cell_type": "code",
   "execution_count": 3,
   "id": "c1eaffa0-fb43-418e-a3bd-d93f2d955cb3",
   "metadata": {},
   "outputs": [
    {
     "data": {
      "text/plain": [
       "140712193501752"
      ]
     },
     "execution_count": 3,
     "metadata": {},
     "output_type": "execute_result"
    }
   ],
   "source": [
    "id(num)"
   ]
  },
  {
   "cell_type": "code",
   "execution_count": 4,
   "id": "aa0c2e78-2b49-4871-b7fd-d78c4bb5a944",
   "metadata": {},
   "outputs": [],
   "source": [
    "name = 'pallavi'"
   ]
  },
  {
   "cell_type": "code",
   "execution_count": 5,
   "id": "3b9cdd90-b5b2-4723-980d-b69c2c075274",
   "metadata": {},
   "outputs": [
    {
     "data": {
      "text/plain": [
       "2336824017952"
      ]
     },
     "execution_count": 5,
     "metadata": {},
     "output_type": "execute_result"
    }
   ],
   "source": [
    "id(name)"
   ]
  },
  {
   "cell_type": "code",
   "execution_count": 6,
   "id": "7d74fae0-6b30-4896-9212-675a085d55c2",
   "metadata": {},
   "outputs": [],
   "source": [
    "a = 25"
   ]
  },
  {
   "cell_type": "code",
   "execution_count": 7,
   "id": "a0bf721d-715d-459e-b884-12e9de4ccec0",
   "metadata": {},
   "outputs": [],
   "source": [
    "b = 27"
   ]
  },
  {
   "cell_type": "code",
   "execution_count": 8,
   "id": "16a83486-c337-4a57-8dec-96acfee0b0d7",
   "metadata": {},
   "outputs": [
    {
     "data": {
      "text/plain": [
       "140712193502392"
      ]
     },
     "execution_count": 8,
     "metadata": {},
     "output_type": "execute_result"
    }
   ],
   "source": [
    "id(a)"
   ]
  },
  {
   "cell_type": "code",
   "execution_count": 9,
   "id": "05196c68-a27b-4f20-a9b9-0be9c3f2b249",
   "metadata": {},
   "outputs": [
    {
     "data": {
      "text/plain": [
       "140712193502456"
      ]
     },
     "execution_count": 9,
     "metadata": {},
     "output_type": "execute_result"
    }
   ],
   "source": [
    "id(b)"
   ]
  },
  {
   "cell_type": "code",
   "execution_count": 10,
   "id": "18f4f576-8d8a-485b-8d3b-95eced419520",
   "metadata": {},
   "outputs": [],
   "source": [
    "a = 10\n",
    "b = 10"
   ]
  },
  {
   "cell_type": "code",
   "execution_count": 11,
   "id": "9dbb7ba5-9e06-46b2-bb02-0e5aa879bbea",
   "metadata": {},
   "outputs": [
    {
     "data": {
      "text/plain": [
       "140712193501912"
      ]
     },
     "execution_count": 11,
     "metadata": {},
     "output_type": "execute_result"
    }
   ],
   "source": [
    "id(a)"
   ]
  },
  {
   "cell_type": "code",
   "execution_count": 12,
   "id": "4635074d-225c-4e26-b56b-c72a7d097846",
   "metadata": {},
   "outputs": [
    {
     "data": {
      "text/plain": [
       "140712193501912"
      ]
     },
     "execution_count": 12,
     "metadata": {},
     "output_type": "execute_result"
    }
   ],
   "source": [
    "id(b)"
   ]
  },
  {
   "cell_type": "code",
   "execution_count": 13,
   "id": "12affcda-15f7-4fda-b836-b23347164fa7",
   "metadata": {},
   "outputs": [],
   "source": [
    "a = 15"
   ]
  },
  {
   "cell_type": "code",
   "execution_count": 14,
   "id": "04b2d24c-d6c6-45a9-9275-1fa4ac323e89",
   "metadata": {},
   "outputs": [
    {
     "data": {
      "text/plain": [
       "140712193502072"
      ]
     },
     "execution_count": 14,
     "metadata": {},
     "output_type": "execute_result"
    }
   ],
   "source": [
    "id(a)"
   ]
  },
  {
   "cell_type": "code",
   "execution_count": 15,
   "id": "3e7deff8-e655-40ad-9a4c-a12f7fc8730e",
   "metadata": {},
   "outputs": [
    {
     "data": {
      "text/plain": [
       "140712193501912"
      ]
     },
     "execution_count": 15,
     "metadata": {},
     "output_type": "execute_result"
    }
   ],
   "source": [
    "id(b)"
   ]
  },
  {
   "cell_type": "code",
   "execution_count": 16,
   "id": "8403ab28-51a3-40bc-8956-7629642d8e93",
   "metadata": {},
   "outputs": [],
   "source": [
    "k = a"
   ]
  },
  {
   "cell_type": "code",
   "execution_count": 17,
   "id": "1277513c-1625-4adf-a734-00abd9ca553c",
   "metadata": {},
   "outputs": [
    {
     "data": {
      "text/plain": [
       "140712193502072"
      ]
     },
     "execution_count": 17,
     "metadata": {},
     "output_type": "execute_result"
    }
   ],
   "source": [
    "id(k)"
   ]
  },
  {
   "cell_type": "code",
   "execution_count": 18,
   "id": "80b72e62-6f74-4d2f-bfb8-fb8e35aae17a",
   "metadata": {},
   "outputs": [],
   "source": [
    "k = b"
   ]
  },
  {
   "cell_type": "code",
   "execution_count": 19,
   "id": "49ff8ecd-2a2c-43e0-ba84-fc0cb7bcca7f",
   "metadata": {},
   "outputs": [
    {
     "data": {
      "text/plain": [
       "140712193501912"
      ]
     },
     "execution_count": 19,
     "metadata": {},
     "output_type": "execute_result"
    }
   ],
   "source": [
    "id(k)"
   ]
  },
  {
   "cell_type": "code",
   "execution_count": 20,
   "id": "309780a7-1082-4f0e-b2ca-495a241b5f5d",
   "metadata": {},
   "outputs": [
    {
     "data": {
      "text/plain": [
       "3.14"
      ]
     },
     "execution_count": 20,
     "metadata": {},
     "output_type": "execute_result"
    }
   ],
   "source": [
    "PI = 3.14\n",
    "PI"
   ]
  },
  {
   "cell_type": "code",
   "execution_count": 21,
   "id": "eb414367-b4c6-4941-970b-92388c498fee",
   "metadata": {},
   "outputs": [
    {
     "data": {
      "text/plain": [
       "float"
      ]
     },
     "execution_count": 21,
     "metadata": {},
     "output_type": "execute_result"
    }
   ],
   "source": [
    "type(PI)"
   ]
  },
  {
   "cell_type": "markdown",
   "id": "f812a0ab-9e5d-4510-90f8-c41d72fa0eed",
   "metadata": {},
   "source": [
    "#### Datatypes"
   ]
  },
  {
   "cell_type": "code",
   "execution_count": 23,
   "id": "b87f7e45-9e3d-469f-94be-fbc1741435c4",
   "metadata": {},
   "outputs": [],
   "source": [
    "list = [25,27,1,30,45,50,35]"
   ]
  },
  {
   "cell_type": "code",
   "execution_count": 24,
   "id": "1717d5bb-c3b4-4bce-b6b5-b380c612092b",
   "metadata": {},
   "outputs": [
    {
     "data": {
      "text/plain": [
       "list"
      ]
     },
     "execution_count": 24,
     "metadata": {},
     "output_type": "execute_result"
    }
   ],
   "source": [
    "type(list)"
   ]
  },
  {
   "cell_type": "code",
   "execution_count": 25,
   "id": "ce5d57a2-dd61-4863-8987-19ed0a49f381",
   "metadata": {},
   "outputs": [
    {
     "data": {
      "text/plain": [
       "set"
      ]
     },
     "execution_count": 25,
     "metadata": {},
     "output_type": "execute_result"
    }
   ],
   "source": [
    "set = {1,2,3,4,5,6,7,8,9}\n",
    "type(set)"
   ]
  },
  {
   "cell_type": "code",
   "execution_count": 26,
   "id": "5206184b-ab39-426a-80dc-aa601ff1898b",
   "metadata": {},
   "outputs": [
    {
     "data": {
      "text/plain": [
       "tuple"
      ]
     },
     "execution_count": 26,
     "metadata": {},
     "output_type": "execute_result"
    }
   ],
   "source": [
    "tup = (2,4,6,8,9,10)\n",
    "type(tup)"
   ]
  },
  {
   "cell_type": "code",
   "execution_count": 27,
   "id": "8b1266c0-7956-4086-bd8a-400dddc9b943",
   "metadata": {},
   "outputs": [
    {
     "data": {
      "text/plain": [
       "str"
      ]
     },
     "execution_count": 27,
     "metadata": {},
     "output_type": "execute_result"
    }
   ],
   "source": [
    "str = 'pallavi'\n",
    "type(str)"
   ]
  },
  {
   "cell_type": "code",
   "execution_count": 44,
   "id": "14cfb7a9-be8a-4053-963d-93592ce6247d",
   "metadata": {},
   "outputs": [
    {
     "data": {
      "text/plain": [
       "range(0, 10)"
      ]
     },
     "execution_count": 44,
     "metadata": {},
     "output_type": "execute_result"
    }
   ],
   "source": [
    "range(10)"
   ]
  },
  {
   "cell_type": "code",
   "execution_count": 54,
   "id": "4eef70ec-2f2a-4882-94eb-9659b40906a2",
   "metadata": {},
   "outputs": [
    {
     "data": {
      "text/plain": [
       "type"
      ]
     },
     "execution_count": 54,
     "metadata": {},
     "output_type": "execute_result"
    }
   ],
   "source": [
    "type(range)"
   ]
  },
  {
   "cell_type": "code",
   "execution_count": 58,
   "id": "674e6226-e3e3-4ed9-a94b-dc5d88da8263",
   "metadata": {},
   "outputs": [],
   "source": [
    "d = {'pallavi' : 'realme','pandu' : 'Iphone','sweety' : 'samsung'}"
   ]
  },
  {
   "cell_type": "code",
   "execution_count": 60,
   "id": "ce5f57ea-d7a9-4d5f-bc44-8253881f33dc",
   "metadata": {},
   "outputs": [
    {
     "data": {
      "text/plain": [
       "{'pallavi': 'realme', 'pandu': 'Iphone', 'sweety': 'samsung'}"
      ]
     },
     "execution_count": 60,
     "metadata": {},
     "output_type": "execute_result"
    }
   ],
   "source": [
    "d"
   ]
  },
  {
   "cell_type": "code",
   "execution_count": 62,
   "id": "84fa6d16-2ae6-432a-89b7-e48619a22e07",
   "metadata": {},
   "outputs": [
    {
     "data": {
      "text/plain": [
       "dict_keys(['pallavi', 'pandu', 'sweety'])"
      ]
     },
     "execution_count": 62,
     "metadata": {},
     "output_type": "execute_result"
    }
   ],
   "source": [
    "d.keys()"
   ]
  },
  {
   "cell_type": "code",
   "execution_count": 64,
   "id": "8e0b120f-193e-4c49-8339-cd8d3d1cd86b",
   "metadata": {},
   "outputs": [
    {
     "data": {
      "text/plain": [
       "dict_values(['realme', 'Iphone', 'samsung'])"
      ]
     },
     "execution_count": 64,
     "metadata": {},
     "output_type": "execute_result"
    }
   ],
   "source": [
    "d.values()"
   ]
  },
  {
   "cell_type": "code",
   "execution_count": 68,
   "id": "74eed022-22dc-49d5-be41-02b3fcdb0a57",
   "metadata": {},
   "outputs": [
    {
     "data": {
      "text/plain": [
       "'realme'"
      ]
     },
     "execution_count": 68,
     "metadata": {},
     "output_type": "execute_result"
    }
   ],
   "source": [
    "d['pallavi']"
   ]
  },
  {
   "cell_type": "code",
   "execution_count": 70,
   "id": "43630ef4-ca71-4529-8161-6fdf942964c0",
   "metadata": {},
   "outputs": [
    {
     "data": {
      "text/plain": [
       "'samsung'"
      ]
     },
     "execution_count": 70,
     "metadata": {},
     "output_type": "execute_result"
    }
   ],
   "source": [
    "d['sweety']"
   ]
  },
  {
   "cell_type": "code",
   "execution_count": 72,
   "id": "77612ba5-2c9a-43bb-bfb3-ded221291edc",
   "metadata": {},
   "outputs": [
    {
     "data": {
      "text/plain": [
       "'samsung'"
      ]
     },
     "execution_count": 72,
     "metadata": {},
     "output_type": "execute_result"
    }
   ],
   "source": [
    "d.get('sweety')"
   ]
  },
  {
   "cell_type": "code",
   "execution_count": 46,
   "id": "c504d162-c659-4876-bb5a-05c29968e1f5",
   "metadata": {},
   "outputs": [
    {
     "data": {
      "text/plain": [
       "float"
      ]
     },
     "execution_count": 46,
     "metadata": {},
     "output_type": "execute_result"
    }
   ],
   "source": [
    "num = 2.5\n",
    "type(num)"
   ]
  },
  {
   "cell_type": "code",
   "execution_count": 48,
   "id": "3b0a3161-8c47-4c37-8d33-5d70e60d33ec",
   "metadata": {},
   "outputs": [
    {
     "data": {
      "text/plain": [
       "int"
      ]
     },
     "execution_count": 48,
     "metadata": {},
     "output_type": "execute_result"
    }
   ],
   "source": [
    "num = 25\n",
    "type(num)"
   ]
  },
  {
   "cell_type": "code",
   "execution_count": null,
   "id": "16e026b5-a282-4f99-9f1f-a53cc54ed685",
   "metadata": {},
   "outputs": [],
   "source": [
    "num = 6+5j\n",
    "type(num)"
   ]
  },
  {
   "cell_type": "code",
   "execution_count": null,
   "id": "fc3aa328-db77-4ca9-97b4-90f4a6c9c2f5",
   "metadata": {},
   "outputs": [],
   "source": [
    "a>b"
   ]
  },
  {
   "cell_type": "code",
   "execution_count": null,
   "id": "13251447-b1b7-4497-b85a-eb32186ce25b",
   "metadata": {},
   "outputs": [],
   "source": [
    "a<b"
   ]
  },
  {
   "cell_type": "code",
   "execution_count": null,
   "id": "444de14a-6af8-41f0-8168-b5bb65adb50a",
   "metadata": {},
   "outputs": [],
   "source": [
    "a = 0.5\n",
    "b = int(a)"
   ]
  },
  {
   "cell_type": "code",
   "execution_count": null,
   "id": "5ee2c6c3-cb09-4262-b7e3-5f4ec3c0f9cd",
   "metadata": {},
   "outputs": [],
   "source": [
    "b"
   ]
  },
  {
   "cell_type": "code",
   "execution_count": null,
   "id": "d5df0bfe-ca3e-48da-a12e-229b73ec994d",
   "metadata": {},
   "outputs": [],
   "source": [
    "a = 5\n",
    "b = float(a)\n",
    "b"
   ]
  },
  {
   "cell_type": "code",
   "execution_count": null,
   "id": "c61688cf-a2b4-4fe1-ae1c-ddb6d977ea08",
   "metadata": {},
   "outputs": [],
   "source": [
    "a = 9\n",
    "b = complex(a,b)\n",
    "b"
   ]
  },
  {
   "cell_type": "code",
   "execution_count": null,
   "id": "cb0d20bc-830f-445a-856c-da65d95e4fad",
   "metadata": {},
   "outputs": [],
   "source": [
    "a = 5\n",
    "b = 10"
   ]
  },
  {
   "cell_type": "code",
   "execution_count": null,
   "id": "613dd0cc-efa5-4552-b3d8-b6f95f68efa7",
   "metadata": {},
   "outputs": [],
   "source": [
    "a<b"
   ]
  },
  {
   "cell_type": "code",
   "execution_count": null,
   "id": "724f5461-06e7-4c0e-8aa1-2ebc1aaa133d",
   "metadata": {},
   "outputs": [],
   "source": [
    "b<a"
   ]
  },
  {
   "cell_type": "code",
   "execution_count": null,
   "id": "868b2428-d48f-42a1-a258-347f24a5efd9",
   "metadata": {},
   "outputs": [],
   "source": [
    "a = 5\n",
    "b = bool(a)"
   ]
  },
  {
   "cell_type": "code",
   "execution_count": null,
   "id": "436241ec-29a6-4f79-8869-a48fdf004fc3",
   "metadata": {},
   "outputs": [],
   "source": [
    "b "
   ]
  },
  {
   "cell_type": "code",
   "execution_count": null,
   "id": "a274fa20-5747-4066-aec2-dd12ede59bf8",
   "metadata": {},
   "outputs": [],
   "source": [
    "int(True)"
   ]
  },
  {
   "cell_type": "code",
   "execution_count": null,
   "id": "df235dde-166e-4205-b68e-ea720ff50c9d",
   "metadata": {},
   "outputs": [],
   "source": [
    "int(False)"
   ]
  },
  {
   "cell_type": "markdown",
   "id": "4fc6afa7-2631-4a39-810b-e30dcf3743d1",
   "metadata": {},
   "source": [
    "#### Operators\n",
    "- assignmet operator\n",
    "- unary operator\n",
    "- boolean operator\n",
    "- relational operator\n",
    "- logical operator"
   ]
  },
  {
   "cell_type": "code",
   "execution_count": 78,
   "id": "23d20ea9-2632-4f93-9577-3bc5100c7502",
   "metadata": {},
   "outputs": [],
   "source": [
    "#1\n",
    "x = 5\n",
    "y = 10"
   ]
  },
  {
   "cell_type": "code",
   "execution_count": 82,
   "id": "5a784aac-71f0-40a8-ac22-905d517f9501",
   "metadata": {},
   "outputs": [
    {
     "data": {
      "text/plain": [
       "15"
      ]
     },
     "execution_count": 82,
     "metadata": {},
     "output_type": "execute_result"
    }
   ],
   "source": [
    "x + y"
   ]
  },
  {
   "cell_type": "code",
   "execution_count": 84,
   "id": "0e69b1d5-4698-4be4-b573-39047192ee4c",
   "metadata": {},
   "outputs": [
    {
     "data": {
      "text/plain": [
       "-5"
      ]
     },
     "execution_count": 84,
     "metadata": {},
     "output_type": "execute_result"
    }
   ],
   "source": [
    "x - y"
   ]
  },
  {
   "cell_type": "code",
   "execution_count": 88,
   "id": "879dc5f6-58a1-4024-8236-d548bb975b56",
   "metadata": {},
   "outputs": [
    {
     "data": {
      "text/plain": [
       "50"
      ]
     },
     "execution_count": 88,
     "metadata": {},
     "output_type": "execute_result"
    }
   ],
   "source": [
    "x * y"
   ]
  },
  {
   "cell_type": "code",
   "execution_count": 90,
   "id": "0035eae5-4e36-4d22-8259-689a29091fa5",
   "metadata": {},
   "outputs": [
    {
     "data": {
      "text/plain": [
       "0.5"
      ]
     },
     "execution_count": 90,
     "metadata": {},
     "output_type": "execute_result"
    }
   ],
   "source": [
    "x / y"
   ]
  },
  {
   "cell_type": "code",
   "execution_count": 92,
   "id": "dcd8527d-cb09-4a7d-80ad-69a14d812275",
   "metadata": {},
   "outputs": [
    {
     "data": {
      "text/plain": [
       "0"
      ]
     },
     "execution_count": 92,
     "metadata": {},
     "output_type": "execute_result"
    }
   ],
   "source": [
    "x // y"
   ]
  },
  {
   "cell_type": "code",
   "execution_count": 126,
   "id": "1ea26ce4-ea7b-4541-955c-622677ffe345",
   "metadata": {},
   "outputs": [
    {
     "data": {
      "text/plain": [
       "1125899906842624"
      ]
     },
     "execution_count": 126,
     "metadata": {},
     "output_type": "execute_result"
    }
   ],
   "source": [
    "x ** y"
   ]
  },
  {
   "cell_type": "code",
   "execution_count": 96,
   "id": "639b25ab-59c9-413a-850a-2991dff00665",
   "metadata": {},
   "outputs": [
    {
     "data": {
      "text/plain": [
       "5"
      ]
     },
     "execution_count": 96,
     "metadata": {},
     "output_type": "execute_result"
    }
   ],
   "source": [
    "x % y"
   ]
  },
  {
   "cell_type": "code",
   "execution_count": 122,
   "id": "e4e11baf-43b8-4615-8ee5-e576a0c53a60",
   "metadata": {},
   "outputs": [],
   "source": [
    "x += 2"
   ]
  },
  {
   "cell_type": "code",
   "execution_count": 124,
   "id": "fb8a1bce-3a06-4405-9b15-f0c108210177",
   "metadata": {},
   "outputs": [
    {
     "data": {
      "text/plain": [
       "32"
      ]
     },
     "execution_count": 124,
     "metadata": {},
     "output_type": "execute_result"
    }
   ],
   "source": [
    "x"
   ]
  },
  {
   "cell_type": "code",
   "execution_count": 128,
   "id": "317f9b40-bf96-4eec-9371-d63882f8c85f",
   "metadata": {},
   "outputs": [],
   "source": [
    "x *= 4"
   ]
  },
  {
   "cell_type": "code",
   "execution_count": 130,
   "id": "3a73f2f9-3619-4611-89d2-08b1329a4b09",
   "metadata": {},
   "outputs": [
    {
     "data": {
      "text/plain": [
       "128"
      ]
     },
     "execution_count": 130,
     "metadata": {},
     "output_type": "execute_result"
    }
   ],
   "source": [
    "x"
   ]
  },
  {
   "cell_type": "code",
   "execution_count": 134,
   "id": "fd39a2ed-adc7-4a44-8b1c-24f91b122de8",
   "metadata": {},
   "outputs": [],
   "source": [
    "x %= 4"
   ]
  },
  {
   "cell_type": "code",
   "execution_count": 136,
   "id": "20698d42-9db4-488e-be7a-29ff97e55924",
   "metadata": {},
   "outputs": [
    {
     "data": {
      "text/plain": [
       "0"
      ]
     },
     "execution_count": 136,
     "metadata": {},
     "output_type": "execute_result"
    }
   ],
   "source": [
    "x"
   ]
  },
  {
   "cell_type": "code",
   "execution_count": 138,
   "id": "3d412913-4e41-499c-b93a-bb35833f7d0e",
   "metadata": {},
   "outputs": [],
   "source": [
    "#2\n",
    "k = 7"
   ]
  },
  {
   "cell_type": "code",
   "execution_count": 140,
   "id": "2c2c0142-b7da-4295-ac74-775e2478c988",
   "metadata": {},
   "outputs": [
    {
     "data": {
      "text/plain": [
       "7"
      ]
     },
     "execution_count": 140,
     "metadata": {},
     "output_type": "execute_result"
    }
   ],
   "source": [
    "k"
   ]
  },
  {
   "cell_type": "code",
   "execution_count": 142,
   "id": "4722b3ef-9943-4a7a-b01c-a4957dafe737",
   "metadata": {},
   "outputs": [
    {
     "data": {
      "text/plain": [
       "-7"
      ]
     },
     "execution_count": 142,
     "metadata": {},
     "output_type": "execute_result"
    }
   ],
   "source": [
    "-k"
   ]
  },
  {
   "cell_type": "code",
   "execution_count": 144,
   "id": "3e09545c-5a7d-4dc3-8042-39698f01ac6c",
   "metadata": {},
   "outputs": [],
   "source": [
    "k = -k"
   ]
  },
  {
   "cell_type": "code",
   "execution_count": 146,
   "id": "12f3905a-02d0-4f22-bc11-cbb8c0b28fc0",
   "metadata": {},
   "outputs": [
    {
     "data": {
      "text/plain": [
       "-7"
      ]
     },
     "execution_count": 146,
     "metadata": {},
     "output_type": "execute_result"
    }
   ],
   "source": [
    "k"
   ]
  },
  {
   "cell_type": "code",
   "execution_count": 148,
   "id": "ad890821-99da-4b9d-b366-05d39acc9975",
   "metadata": {},
   "outputs": [
    {
     "data": {
      "text/plain": [
       "7"
      ]
     },
     "execution_count": 148,
     "metadata": {},
     "output_type": "execute_result"
    }
   ],
   "source": [
    "-k == k\n",
    "-k"
   ]
  },
  {
   "cell_type": "code",
   "execution_count": 150,
   "id": "8442f43f-a27f-4d9f-9d10-2101cd8602d1",
   "metadata": {},
   "outputs": [],
   "source": [
    "#3\n",
    "a = 50\n",
    "b = 30"
   ]
  },
  {
   "cell_type": "code",
   "execution_count": 152,
   "id": "3702d3a6-cab6-4933-a661-0423566e32aa",
   "metadata": {},
   "outputs": [
    {
     "data": {
      "text/plain": [
       "False"
      ]
     },
     "execution_count": 152,
     "metadata": {},
     "output_type": "execute_result"
    }
   ],
   "source": [
    "a < b"
   ]
  },
  {
   "cell_type": "code",
   "execution_count": 154,
   "id": "4c6fd2d4-7bd6-429d-91d8-ca0d6fa29215",
   "metadata": {},
   "outputs": [
    {
     "data": {
      "text/plain": [
       "True"
      ]
     },
     "execution_count": 154,
     "metadata": {},
     "output_type": "execute_result"
    }
   ],
   "source": [
    "a > b"
   ]
  },
  {
   "cell_type": "code",
   "execution_count": 156,
   "id": "56d4785f-2b70-490a-a976-2c794f12cc29",
   "metadata": {},
   "outputs": [
    {
     "data": {
      "text/plain": [
       "False"
      ]
     },
     "execution_count": 156,
     "metadata": {},
     "output_type": "execute_result"
    }
   ],
   "source": [
    "a == b"
   ]
  },
  {
   "cell_type": "code",
   "execution_count": 158,
   "id": "ff926ad2-ae22-421d-8b9a-681e2d53d384",
   "metadata": {},
   "outputs": [],
   "source": [
    "#4\n",
    "a = 25\n",
    "b = 50"
   ]
  },
  {
   "cell_type": "code",
   "execution_count": 162,
   "id": "a1b04496-fe04-4cac-8d1a-16e2e16cbfb8",
   "metadata": {},
   "outputs": [
    {
     "data": {
      "text/plain": [
       "False"
      ]
     },
     "execution_count": 162,
     "metadata": {},
     "output_type": "execute_result"
    }
   ],
   "source": [
    "a == b"
   ]
  },
  {
   "cell_type": "code",
   "execution_count": 165,
   "id": "a5470dad-1573-433f-bc87-32535886d9b4",
   "metadata": {},
   "outputs": [
    {
     "data": {
      "text/plain": [
       "False"
      ]
     },
     "execution_count": 165,
     "metadata": {},
     "output_type": "execute_result"
    }
   ],
   "source": [
    "a >= b"
   ]
  },
  {
   "cell_type": "code",
   "execution_count": 167,
   "id": "8bdbe3db-4f0c-4f8a-8a4e-8fe64e1f3d53",
   "metadata": {},
   "outputs": [
    {
     "data": {
      "text/plain": [
       "True"
      ]
     },
     "execution_count": 167,
     "metadata": {},
     "output_type": "execute_result"
    }
   ],
   "source": [
    "a <= b"
   ]
  },
  {
   "cell_type": "code",
   "execution_count": 169,
   "id": "b3507f5a-1909-45b0-b940-27faec62b2f6",
   "metadata": {},
   "outputs": [
    {
     "data": {
      "text/plain": [
       "True"
      ]
     },
     "execution_count": 169,
     "metadata": {},
     "output_type": "execute_result"
    }
   ],
   "source": [
    "a != b"
   ]
  },
  {
   "cell_type": "code",
   "execution_count": 171,
   "id": "84332bfe-3de5-4770-a79b-d6d8579e1ac5",
   "metadata": {},
   "outputs": [],
   "source": [
    "a %= b"
   ]
  },
  {
   "cell_type": "code",
   "execution_count": 173,
   "id": "eabe24f4-7633-49ab-9c1a-d2417a423b79",
   "metadata": {},
   "outputs": [
    {
     "data": {
      "text/plain": [
       "25"
      ]
     },
     "execution_count": 173,
     "metadata": {},
     "output_type": "execute_result"
    }
   ],
   "source": [
    "a"
   ]
  },
  {
   "cell_type": "code",
   "execution_count": 175,
   "id": "646e61fc-3d3c-41a8-8944-4ba68560f628",
   "metadata": {},
   "outputs": [],
   "source": [
    "#5\n",
    "a = 6\n",
    "b = 3"
   ]
  },
  {
   "cell_type": "code",
   "execution_count": 177,
   "id": "9f7583e0-4250-4929-92ee-188b095bf098",
   "metadata": {},
   "outputs": [
    {
     "data": {
      "text/plain": [
       "False"
      ]
     },
     "execution_count": 177,
     "metadata": {},
     "output_type": "execute_result"
    }
   ],
   "source": [
    "a < 3 and b > 4"
   ]
  },
  {
   "cell_type": "code",
   "execution_count": 181,
   "id": "d78535d4-6523-40e8-9f2b-c1311db79b29",
   "metadata": {},
   "outputs": [
    {
     "data": {
      "text/plain": [
       "True"
      ]
     },
     "execution_count": 181,
     "metadata": {},
     "output_type": "execute_result"
    }
   ],
   "source": [
    "a < 9 or b > 6"
   ]
  },
  {
   "cell_type": "code",
   "execution_count": 189,
   "id": "ada93bc2-597b-414d-ad04-a84eb0d725c0",
   "metadata": {},
   "outputs": [
    {
     "data": {
      "text/plain": [
       "True"
      ]
     },
     "execution_count": 189,
     "metadata": {},
     "output_type": "execute_result"
    }
   ],
   "source": [
    "x = True\n",
    "x"
   ]
  },
  {
   "cell_type": "code",
   "execution_count": 191,
   "id": "78138b65-85e7-49c5-a1de-caf9c481a350",
   "metadata": {},
   "outputs": [],
   "source": [
    "x = not x"
   ]
  },
  {
   "cell_type": "code",
   "execution_count": 193,
   "id": "07dbdbab-e545-4c9c-b769-3239d22ceac0",
   "metadata": {},
   "outputs": [
    {
     "data": {
      "text/plain": [
       "False"
      ]
     },
     "execution_count": 193,
     "metadata": {},
     "output_type": "execute_result"
    }
   ],
   "source": [
    "x"
   ]
  },
  {
   "cell_type": "code",
   "execution_count": null,
   "id": "6fc3e1fa-5b35-4fa9-88c8-9a61a107d044",
   "metadata": {},
   "outputs": [],
   "source": []
  },
  {
   "cell_type": "code",
   "execution_count": null,
   "id": "6e00d051-7f43-4ab0-8fb2-3f1c7a291d0b",
   "metadata": {},
   "outputs": [],
   "source": []
  }
 ],
 "metadata": {
  "kernelspec": {
   "display_name": "Python [conda env:base] *",
   "language": "python",
   "name": "conda-base-py"
  },
  "language_info": {
   "codemirror_mode": {
    "name": "ipython",
    "version": 3
   },
   "file_extension": ".py",
   "mimetype": "text/x-python",
   "name": "python",
   "nbconvert_exporter": "python",
   "pygments_lexer": "ipython3",
   "version": "3.12.7"
  }
 },
 "nbformat": 4,
 "nbformat_minor": 5
}
