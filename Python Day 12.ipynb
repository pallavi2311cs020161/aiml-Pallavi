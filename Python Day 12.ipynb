{
 "cells": [
  {
   "cell_type": "markdown",
   "id": "3a10348b-7b1e-4660-adc0-93b0ce73fd4a",
   "metadata": {},
   "source": [
    "#### Functions in Python"
   ]
  },
  {
   "cell_type": "code",
   "execution_count": 2,
   "id": "8d8efe5a-7620-4af4-9e02-ac59f0b7f4d0",
   "metadata": {},
   "outputs": [
    {
     "name": "stdout",
     "output_type": "stream",
     "text": [
      "Hey\n",
      "Hiii\n"
     ]
    }
   ],
   "source": [
    "def welcome():\n",
    "    print(\"Hey\")\n",
    "    print(\"Hiii\")\n",
    "welcome()"
   ]
  },
  {
   "cell_type": "code",
   "execution_count": 4,
   "id": "72a04c05-9034-4ebd-bb12-6d632d9bfdb0",
   "metadata": {},
   "outputs": [
    {
     "name": "stdout",
     "output_type": "stream",
     "text": [
      "Hey\n",
      "Hiii\n",
      "Hey\n",
      "Hiii\n"
     ]
    }
   ],
   "source": [
    "def welcome():\n",
    "    print(\"Hey\")\n",
    "    print(\"Hiii\")\n",
    "welcome()\n",
    "welcome()"
   ]
  },
  {
   "cell_type": "code",
   "execution_count": 8,
   "id": "543992ff-8356-4520-b82e-968ba40893be",
   "metadata": {},
   "outputs": [
    {
     "name": "stdout",
     "output_type": "stream",
     "text": [
      "Hey\n",
      "Hiii\n",
      "11\n"
     ]
    }
   ],
   "source": [
    "def welcome():\n",
    "    print(\"Hey\")\n",
    "    print(\"Hiii\")\n",
    "welcome()\n",
    "def add(x,y):\n",
    "    c = x+y\n",
    "    print(c)\n",
    "add(2,9)"
   ]
  },
  {
   "cell_type": "code",
   "execution_count": 10,
   "id": "cc276cf0-eb90-46e7-bd58-f2da472b1cee",
   "metadata": {},
   "outputs": [
    {
     "name": "stdout",
     "output_type": "stream",
     "text": [
      "11\n"
     ]
    }
   ],
   "source": [
    "def welcome():\n",
    "    print(\"Hey\")\n",
    "    print(\"Hiii\")\n",
    "def add(x,y):\n",
    "    c = x+y\n",
    "    print(c)\n",
    "add(2,9)"
   ]
  },
  {
   "cell_type": "code",
   "execution_count": 12,
   "id": "e2fea353-c644-4533-91b2-809997a49be1",
   "metadata": {},
   "outputs": [
    {
     "name": "stdout",
     "output_type": "stream",
     "text": [
      "9 1\n"
     ]
    }
   ],
   "source": [
    "def add_sub(x,y):\n",
    "    c = x+y\n",
    "    d = x-y\n",
    "    return c,d\n",
    "result1,result2 = add_sub(5,4)\n",
    "print(result1,result2)"
   ]
  },
  {
   "cell_type": "markdown",
   "id": "4672309c-536d-4df4-9911-22103bca82b6",
   "metadata": {},
   "source": [
    "#### Function Arguments in Python"
   ]
  },
  {
   "cell_type": "code",
   "execution_count": 15,
   "id": "6ebfec44-9062-4e98-a484-b9ed4e74771c",
   "metadata": {},
   "outputs": [
    {
     "name": "stdout",
     "output_type": "stream",
     "text": [
      "9\n"
     ]
    }
   ],
   "source": [
    "def update(x):\n",
    "    x = 9\n",
    "    print(x)\n",
    "update(15)"
   ]
  },
  {
   "cell_type": "code",
   "execution_count": 17,
   "id": "2dec99db-28a4-4ca1-907e-db2bc5de7883",
   "metadata": {},
   "outputs": [
    {
     "name": "stdout",
     "output_type": "stream",
     "text": [
      "x  9\n",
      "a  10\n"
     ]
    }
   ],
   "source": [
    "def update(x):\n",
    "    x = 9\n",
    "    print(\"x \", x)\n",
    "a = 10\n",
    "update(a)\n",
    "print(\"a \", a)"
   ]
  },
  {
   "cell_type": "code",
   "execution_count": 19,
   "id": "5b6adf39-4dc1-4612-99cc-f646836399b5",
   "metadata": {},
   "outputs": [
    {
     "name": "stdout",
     "output_type": "stream",
     "text": [
      "140722710325976\n",
      "140722710325976\n",
      "x  6\n",
      "a  10\n"
     ]
    }
   ],
   "source": [
    "def update(x):\n",
    "    print(id(x))\n",
    "    x = 6\n",
    "    print(\"x \", x)\n",
    "a = 10\n",
    "print(id(a))\n",
    "update(a)\n",
    "print(\"a \", a)"
   ]
  },
  {
   "cell_type": "code",
   "execution_count": 21,
   "id": "8b59e8f9-18dc-4bac-b24e-d2e40cae722d",
   "metadata": {},
   "outputs": [
    {
     "name": "stdout",
     "output_type": "stream",
     "text": [
      "140722710325976\n",
      "140722710325976\n",
      "140722710325848\n",
      "x  6\n",
      "a  10\n"
     ]
    }
   ],
   "source": [
    "def update(x):\n",
    "    print(id(x))\n",
    "    x = 6\n",
    "    print(id(x))\n",
    "    print(\"x \", x)\n",
    "a = 10\n",
    "print(id(a))\n",
    "update(a)\n",
    "print(\"a \", a)"
   ]
  },
  {
   "cell_type": "code",
   "execution_count": 33,
   "id": "7b25be63-35c2-467b-93ed-6cfaa92e0a58",
   "metadata": {},
   "outputs": [
    {
     "name": "stdout",
     "output_type": "stream",
     "text": [
      "1905604881536\n",
      "1905604881536\n",
      "140722710325848\n",
      "lst  6\n",
      "lst  [10, 20, 30]\n"
     ]
    }
   ],
   "source": [
    "def update(lst):\n",
    "    print(id(lst))\n",
    "    lst = 6\n",
    "    print(id(lst))\n",
    "    print(\"lst \", lst)\n",
    "lst = [10,20,30]\n",
    "print(id(lst))\n",
    "update(lst)\n",
    "print(\"lst \", lst)"
   ]
  },
  {
   "cell_type": "markdown",
   "id": "25f67304-1e82-4fd0-a294-68276a608a37",
   "metadata": {},
   "source": [
    "#### Kwargs"
   ]
  },
  {
   "cell_type": "code",
   "execution_count": 38,
   "id": "bd1f6cc7-856a-4d50-8a26-f7f433b6ddad",
   "metadata": {},
   "outputs": [
    {
     "name": "stdout",
     "output_type": "stream",
     "text": [
      "pallavi\n",
      "(19, 'Medak', 9177850)\n"
     ]
    }
   ],
   "source": [
    "def person (name, *data):\n",
    "    print(name)\n",
    "    print(data)\n",
    "person('pallavi',19,'Medak',9177850)"
   ]
  },
  {
   "cell_type": "code",
   "execution_count": 44,
   "id": "c3c1c914-30ea-44a8-b955-309da14e65d4",
   "metadata": {},
   "outputs": [
    {
     "name": "stdout",
     "output_type": "stream",
     "text": [
      "pallavi\n",
      "age 19\n",
      "city Medak\n",
      "mob 9177850\n"
     ]
    }
   ],
   "source": [
    "def person (name, **data):\n",
    "    print(name)\n",
    "    for i,j in data.items():\n",
    "        print(i,j)\n",
    "person('pallavi',age=19, city='Medak',mob=9177850)"
   ]
  },
  {
   "cell_type": "code",
   "execution_count": null,
   "id": "05edd35c-72f2-4f70-98b9-f906ea8f76b6",
   "metadata": {},
   "outputs": [],
   "source": []
  }
 ],
 "metadata": {
  "kernelspec": {
   "display_name": "Python [conda env:base] *",
   "language": "python",
   "name": "conda-base-py"
  },
  "language_info": {
   "codemirror_mode": {
    "name": "ipython",
    "version": 3
   },
   "file_extension": ".py",
   "mimetype": "text/x-python",
   "name": "python",
   "nbconvert_exporter": "python",
   "pygments_lexer": "ipython3",
   "version": "3.12.7"
  }
 },
 "nbformat": 4,
 "nbformat_minor": 5
}
