{
 "cells": [
  {
   "cell_type": "markdown",
   "id": "20597d86-e543-43de-baf9-234ecfff8500",
   "metadata": {},
   "source": [
    "#### Constructor,Self and Comparing Objects"
   ]
  },
  {
   "cell_type": "code",
   "execution_count": 2,
   "id": "8abd4259-a4ae-4751-a8d9-de0a4b9e070e",
   "metadata": {},
   "outputs": [
    {
     "name": "stdout",
     "output_type": "stream",
     "text": [
      "2046059156576\n"
     ]
    }
   ],
   "source": [
    "class Computer:\n",
    "    pass\n",
    "c1 = Computer()\n",
    "print(id(c1))\n",
    "\n",
    "\n",
    "    "
   ]
  },
  {
   "cell_type": "code",
   "execution_count": 3,
   "id": "bcb666dc-5661-4d8e-8d6e-d7cf19c490b9",
   "metadata": {},
   "outputs": [
    {
     "name": "stdout",
     "output_type": "stream",
     "text": [
      "2046048553056\n",
      "2046059156576\n"
     ]
    }
   ],
   "source": [
    "class Computer:\n",
    "    pass\n",
    "c1 = Computer()\n",
    "c2 = Computer()\n",
    "print(id(c1))\n",
    "print(id(c2))\n"
   ]
  },
  {
   "cell_type": "code",
   "execution_count": 4,
   "id": "2deaf779-4ca3-4b28-ab3b-ea4edbdcf869",
   "metadata": {},
   "outputs": [
    {
     "name": "stdout",
     "output_type": "stream",
     "text": [
      "Pallavi\n",
      "Pallavi\n"
     ]
    }
   ],
   "source": [
    "class Computer:\n",
    "    def __init__(self):\n",
    "        self.name = 'Pallavi'\n",
    "        self.age = 28\n",
    "\n",
    "c1 = Computer()\n",
    "c2 = Computer()\n",
    "\n",
    "print(c1.name)\n",
    "print(c2.name)\n",
    "    "
   ]
  },
  {
   "cell_type": "code",
   "execution_count": 5,
   "id": "ca6c58ba-4b04-4ff4-92f2-3518f8acb541",
   "metadata": {},
   "outputs": [
    {
     "name": "stdout",
     "output_type": "stream",
     "text": [
      "Pandu\n",
      "Pallavi\n"
     ]
    }
   ],
   "source": [
    "class Computer:\n",
    "    def __init__(self):\n",
    "        self.name = 'Pallavi'\n",
    "        self.age = 28\n",
    "\n",
    "c1 = Computer()\n",
    "c2 = Computer()\n",
    "c1.name = 'Pandu'\n",
    "\n",
    "print(c1.name)\n",
    "print(c2.name)\n",
    "    "
   ]
  },
  {
   "cell_type": "code",
   "execution_count": 21,
   "id": "2295a54c-e5d3-4225-a5e7-53aa1b2f01d0",
   "metadata": {},
   "outputs": [
    {
     "name": "stdout",
     "output_type": "stream",
     "text": [
      "They are same\n",
      "Pallavi\n",
      "Pallavi\n"
     ]
    }
   ],
   "source": [
    "class Computer:\n",
    "    def __init__(self):\n",
    "        self.name = 'Pallavi'\n",
    "        self.age = 28\n",
    "    def update(self):\n",
    "        self.age = 30\n",
    "    def compare(self,other):\n",
    "        if self.age == other.age:\n",
    "            return True\n",
    "        else:\n",
    "            return False\n",
    "c1 = Computer()\n",
    "c2 = Computer()\n",
    "if c1.compare(c2):\n",
    "    print(\"They are same\")\n",
    " \n",
    "print(c1.name)\n",
    "print(c2.name)\n",
    "            "
   ]
  },
  {
   "cell_type": "code",
   "execution_count": 31,
   "id": "5bb9992f-6d71-4ad9-83fc-fdb5c97865cb",
   "metadata": {},
   "outputs": [
    {
     "name": "stdout",
     "output_type": "stream",
     "text": [
      "They are different\n",
      "Pallavi\n",
      "Pallavi\n"
     ]
    }
   ],
   "source": [
    "class Computer:\n",
    "    def __init__(self):\n",
    "        self.name = 'Pallavi'\n",
    "        self.age = 28\n",
    "     \n",
    "    def compare(self,other):\n",
    "        if self.age == other.age:\n",
    "            return True\n",
    "        else:\n",
    "            return False\n",
    "\n",
    "c1 = Computer()\n",
    "c1.age = 30 \n",
    "c2 = Computer()\n",
    "if c1.compare(c2):\n",
    "    print(\"They are same\")\n",
    "else:\n",
    "    print(\"They are different\")\n",
    " \n",
    "print(c1.name)\n",
    "print(c2.name)\n",
    "            \n",
    "    "
   ]
  },
  {
   "cell_type": "markdown",
   "id": "81c98bcc-c275-4eb2-8a67-bc5a49066d3d",
   "metadata": {},
   "source": [
    "#### Types of Variables"
   ]
  },
  {
   "cell_type": "code",
   "execution_count": 34,
   "id": "dc292b25-a0e3-4918-9ae6-3eac9f6ba82e",
   "metadata": {},
   "outputs": [
    {
     "name": "stdout",
     "output_type": "stream",
     "text": [
      "BMW 10\n",
      "BMW 10\n"
     ]
    }
   ],
   "source": [
    "class Car:\n",
    "    def __init__(self):\n",
    "        self.mil = 10\n",
    "        self.com = \"BMW\"\n",
    "c1 = Car()\n",
    "c2 = Car()\n",
    "print(c1.com , c1.mil)\n",
    "print(c2.com , c2.mil)"
   ]
  },
  {
   "cell_type": "code",
   "execution_count": 36,
   "id": "7673548b-bc99-487f-8abe-f171494f3a42",
   "metadata": {},
   "outputs": [
    {
     "name": "stdout",
     "output_type": "stream",
     "text": [
      "BMW 8\n",
      "BMW 10\n"
     ]
    }
   ],
   "source": [
    "class Car:\n",
    "    def __init__(self):\n",
    "        self.mil = 10\n",
    "        self.com = \"BMW\"\n",
    "c1 = Car()\n",
    "c2 = Car()\n",
    "c1.mil = 8\n",
    "print(c1.com , c1.mil)\n",
    "print(c2.com , c2.mil)"
   ]
  },
  {
   "cell_type": "code",
   "execution_count": 38,
   "id": "9f52b98b-32bd-4b2a-a658-d96a88de8c71",
   "metadata": {},
   "outputs": [
    {
     "name": "stdout",
     "output_type": "stream",
     "text": [
      "BMW 8 4\n",
      "BMW 10 4\n"
     ]
    }
   ],
   "source": [
    "class Car:\n",
    "    wheels = 4\n",
    "    def __init__(self):\n",
    "        self.mil = 10\n",
    "        self.com = \"BMW\"\n",
    "c1 = Car()\n",
    "c2 = Car()\n",
    "c1.mil = 8\n",
    "print(c1.com , c1.mil, c1.wheels)\n",
    "print(c2.com , c2.mil, c2.wheels)"
   ]
  },
  {
   "cell_type": "code",
   "execution_count": 40,
   "id": "fb148534-6f66-4675-93e9-6daaaeb262a8",
   "metadata": {},
   "outputs": [
    {
     "name": "stdout",
     "output_type": "stream",
     "text": [
      "BMW 8 5\n",
      "BMW 10 5\n"
     ]
    }
   ],
   "source": [
    "class Car:\n",
    "    wheels = 4\n",
    "    def __init__(self):\n",
    "        self.mil = 10\n",
    "        self.com = \"BMW\"\n",
    "c1 = Car()\n",
    "c2 = Car()\n",
    "c1.mil = 8\n",
    "Car.wheels = 5\n",
    "print(c1.com , c1.mil, c1.wheels)\n",
    "print(c2.com , c2.mil, c2.wheels)"
   ]
  },
  {
   "cell_type": "markdown",
   "id": "fb0f4a85-dde0-415b-8c24-3fee0776ae1f",
   "metadata": {},
   "source": [
    "#### Types of Methods"
   ]
  },
  {
   "cell_type": "code",
   "execution_count": 43,
   "id": "e1269f06-931b-4460-9712-177f6caa49ea",
   "metadata": {},
   "outputs": [
    {
     "name": "stdout",
     "output_type": "stream",
     "text": [
      "44.333333333333336\n"
     ]
    }
   ],
   "source": [
    "class Student:\n",
    "    school = 'Telusko'\n",
    "    def __init__(self,m1,m2,m3):\n",
    "        self.m1 = m1\n",
    "        self.m2 = m2\n",
    "        self.m3 = m3\n",
    "    def avg(self):\n",
    "        return (self.m1 + self.m2 + self.m3)/3\n",
    "s1 = Student(34,67,32)\n",
    "s2 = Student(89,32,12)\n",
    "print(s1.avg())"
   ]
  },
  {
   "cell_type": "code",
   "execution_count": 54,
   "id": "575874ad-be44-44b5-bb91-c38600adb031",
   "metadata": {},
   "outputs": [
    {
     "name": "stdout",
     "output_type": "stream",
     "text": [
      "44.333333333333336\n"
     ]
    }
   ],
   "source": [
    "class Student:\n",
    "    school = 'Telusko'\n",
    "    def __init__(self,m1,m2,m3):\n",
    "        self.m1 = m1\n",
    "        self.m2 = m2\n",
    "        self.m3 = m3\n",
    "    def avg(self):\n",
    "        return (self.m1 + self.m2 + self.m3)/3\n",
    "    def get_m1(self):\n",
    "        return self.m1\n",
    "    def set_m1(self,value):\n",
    "        self.m1 = value\n",
    "s1 = Student(34,67,32)\n",
    "s2 = Student(89,32,12)\n",
    "print(s1.avg())"
   ]
  },
  {
   "cell_type": "code",
   "execution_count": 58,
   "id": "e2248220-4bde-47ee-8f51-1eae0594a3ef",
   "metadata": {},
   "outputs": [
    {
     "name": "stdout",
     "output_type": "stream",
     "text": [
      "44.333333333333336\n",
      "Telusko\n"
     ]
    }
   ],
   "source": [
    "class Student:\n",
    "    school = 'Telusko'\n",
    "    def __init__(self,m1,m2,m3):\n",
    "        self.m1 = m1\n",
    "        self.m2 = m2\n",
    "        self.m3 = m3\n",
    "    def avg(self):\n",
    "        return (self.m1 + self.m2 + self.m3)/3\n",
    "\n",
    "    @classmethod\n",
    "    def info(cls):\n",
    "        return cls.school\n",
    "     \n",
    "s1 = Student(34,67,32)\n",
    "s2 = Student(89,32,12)\n",
    "print(s1.avg())\n",
    "print(Student.info())"
   ]
  },
  {
   "cell_type": "code",
   "execution_count": 66,
   "id": "5c38a60c-bdcb-43d0-9647-2293b921b8e1",
   "metadata": {},
   "outputs": [
    {
     "ename": "IndentationError",
     "evalue": "unexpected indent (1053810853.py, line 16)",
     "output_type": "error",
     "traceback": [
      "\u001b[1;36m  Cell \u001b[1;32mIn[66], line 16\u001b[1;36m\u001b[0m\n\u001b[1;33m    def info():\u001b[0m\n\u001b[1;37m    ^\u001b[0m\n\u001b[1;31mIndentationError\u001b[0m\u001b[1;31m:\u001b[0m unexpected indent\n"
     ]
    }
   ],
   "source": [
    " class Student:\n",
    "    school = 'Telusko'\n",
    "    def __init__(self,m1,m2,m3):\n",
    "        self.m1 = m1\n",
    "        self.m2 = m2\n",
    "        self.m3 = m3\n",
    "    def avg(self):\n",
    "        return (self.m1 + self.m2 + self.m3)/3\n",
    "\n",
    "    @classmethod\n",
    "    def getSchool(cls):\n",
    "        return cls.school\n",
    "\n",
    "     \n",
    "    @staticmethod\n",
    "     def info():\n",
    "         print(\"This is Student class.. in abc molude\")\n",
    "     \n",
    "s1 = Student(34,67,32)\n",
    "s2 = Student(89,32,12)\n",
    "\n",
    "\n",
    "print(s1.avg())\n",
    "print(Student.getSchool())\n",
    "Student.info()"
   ]
  },
  {
   "cell_type": "code",
   "execution_count": null,
   "id": "8bd13766-a7e5-444a-9865-2b2759576a43",
   "metadata": {},
   "outputs": [],
   "source": []
  }
 ],
 "metadata": {
  "kernelspec": {
   "display_name": "Python [conda env:base] *",
   "language": "python",
   "name": "conda-base-py"
  },
  "language_info": {
   "codemirror_mode": {
    "name": "ipython",
    "version": 3
   },
   "file_extension": ".py",
   "mimetype": "text/x-python",
   "name": "python",
   "nbconvert_exporter": "python",
   "pygments_lexer": "ipython3",
   "version": "3.12.7"
  }
 },
 "nbformat": 4,
 "nbformat_minor": 5
}
