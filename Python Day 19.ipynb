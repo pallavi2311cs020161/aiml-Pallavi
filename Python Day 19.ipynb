{
 "cells": [
  {
   "cell_type": "markdown",
   "id": "fa0be111-eda3-4810-a52b-0bc83b18fecc",
   "metadata": {},
   "source": [
    "### Inner class  "
   ]
  },
  {
   "cell_type": "code",
   "execution_count": 4,
   "id": "197e1a99-e4df-4f6f-88f9-7bb9b1c841ad",
   "metadata": {},
   "outputs": [
    {
     "name": "stdout",
     "output_type": "stream",
     "text": [
      "Pallavi 18\n"
     ]
    }
   ],
   "source": [
    "class Student:\n",
    "    def __init__(self,name,rollno):\n",
    "        self.name = name\n",
    "        self.rollno = rollno\n",
    "s1 = Student('Pallavi',18)\n",
    "s2 = Student('Pandu',17)\n",
    "print(s1.name , s1.rollno)"
   ]
  },
  {
   "cell_type": "code",
   "execution_count": 8,
   "id": "f15c22bb-842f-48fa-80d0-83f88940567e",
   "metadata": {},
   "outputs": [
    {
     "name": "stdout",
     "output_type": "stream",
     "text": [
      "Pallavi 18\n",
      "2911578275808\n",
      "2911578449504\n"
     ]
    }
   ],
   "source": [
    "class Student:\n",
    "    def __init__(self,name,rollno):\n",
    "        self.name = name\n",
    "        self.rollno = rollno\n",
    "        self.lap = self.Laptop()\n",
    "    def show(self):\n",
    "        print(self.name , self.rollno)\n",
    "    class Laptop:\n",
    "        def __init__(self):\n",
    "            self.brand = 'HP'\n",
    "            self.cpu = 'i5'\n",
    "            self.ram = 8\n",
    "            \n",
    "s1 = Student('Pallavi',18)\n",
    "s2 = Student('Pandu',17)\n",
    "\n",
    "s1.show()\n",
    "\n",
    "lap1 = s1.lap\n",
    "lap2 = s2.lap\n",
    "\n",
    "print(id(lap1))\n",
    "print(id(lap2))\n",
    " "
   ]
  },
  {
   "cell_type": "code",
   "execution_count": 12,
   "id": "62e69504-f18d-4b11-8137-65ad6ffc7ef7",
   "metadata": {},
   "outputs": [
    {
     "name": "stdout",
     "output_type": "stream",
     "text": [
      "Pallavi 18\n",
      "HP i5 8\n"
     ]
    }
   ],
   "source": [
    "class Student:\n",
    "    def __init__(self,name,rollno):\n",
    "        self.name = name\n",
    "        self.rollno = rollno\n",
    "        self.lap = self.Laptop()\n",
    "    def show(self):\n",
    "        print(self.name , self.rollno)\n",
    "        self.lap.show()\n",
    "    class Laptop:\n",
    "        def __init__(self):\n",
    "            self.brand = 'HP'\n",
    "            self.cpu = 'i5'\n",
    "            self.ram = 8\n",
    "        def show(self):\n",
    "            print(self.brand, self.cpu, self.ram)\n",
    "s1 = Student('Pallavi',18)\n",
    "s2 = Student('Pandu',17)\n",
    "\n",
    "s1.show()\n",
    "\n",
    "\n",
    "    "
   ]
  },
  {
   "cell_type": "markdown",
   "id": "2c48cb61-69f2-4e80-95a4-6ac23f0f7f92",
   "metadata": {},
   "source": [
    "#### Inheritance"
   ]
  },
  {
   "cell_type": "code",
   "execution_count": 20,
   "id": "4f7112b1-a189-46dd-b49d-350cbf4d4e88",
   "metadata": {},
   "outputs": [
    {
     "name": "stdout",
     "output_type": "stream",
     "text": [
      "Feature 1 working\n",
      "Feature 2 working\n"
     ]
    }
   ],
   "source": [
    "class A:\n",
    "     def feature1(self):\n",
    "         print(\"Feature 1 working\")\n",
    "     def feature2(self):\n",
    "         print(\"Feature 2 working\")\n",
    "\n",
    "a1 = A()\n",
    "a2 = A()\n",
    "a1.feature1()\n",
    "a2.feature2()\n",
    "         \n",
    "         "
   ]
  },
  {
   "cell_type": "code",
   "execution_count": 33,
   "id": "b20c2c10-1bae-4534-bc0b-eaa2bb8ae94e",
   "metadata": {},
   "outputs": [
    {
     "name": "stdout",
     "output_type": "stream",
     "text": [
      "Feature 1 working\n",
      "Feature 2 working\n",
      "Feature 3 working\n",
      "Feature 4 working\n",
      "Feature 5 working\n"
     ]
    }
   ],
   "source": [
    "class A:\n",
    "     def feature1(self):\n",
    "         print(\"Feature 1 working\")\n",
    "     def feature2(self):\n",
    "         print(\"Feature 2 working\")\n",
    "class B:\n",
    "     def feature3(self):\n",
    "         print(\"Feature 3 working\")\n",
    "     def feature4(self):\n",
    "         print(\"Feature 4 working\")\n",
    "class C:\n",
    "     def feature5(self):\n",
    "         print(\"Feature 5 working\")\n",
    "      \n",
    "a1 = A()\n",
    "\n",
    "a1.feature1()\n",
    "a2.feature2()\n",
    "b1 = B()\n",
    "b2 = B()\n",
    "b1.feature3()\n",
    "b2.feature4()\n",
    "c1 = C()\n",
    "c1.feature5()\n",
    " "
   ]
  },
  {
   "cell_type": "markdown",
   "id": "ed8b23f9-4892-4e68-8620-15a2e7a70d79",
   "metadata": {},
   "source": [
    "#### Constructor in inheritance"
   ]
  },
  {
   "cell_type": "code",
   "execution_count": 35,
   "id": "d4625ddb-351b-44fa-a250-f88a7475fe6b",
   "metadata": {},
   "outputs": [
    {
     "name": "stdout",
     "output_type": "stream",
     "text": [
      "in A Init\n"
     ]
    }
   ],
   "source": [
    "class A:\n",
    "    def __init__(self):\n",
    "        print(\"in A Init\")\n",
    "    def feature1(self):\n",
    "        print(\"Feature 1 working\")\n",
    "    def feature2(self):\n",
    "        print(\"Feature 2 working\")\n",
    "\n",
    "class B(A):\n",
    "    \n",
    "    def feature1(self):\n",
    "        print(\"Feature 1 working\")\n",
    "    def feature2(self):\n",
    "        print(\"Feature 4 working\")\n",
    "\n",
    "a1 = A()"
   ]
  },
  {
   "cell_type": "code",
   "execution_count": 39,
   "id": "df178db9-2a5f-4b6f-bba7-f29229fbf96e",
   "metadata": {},
   "outputs": [
    {
     "name": "stdout",
     "output_type": "stream",
     "text": [
      "in B Init\n"
     ]
    }
   ],
   "source": [
    "class A:\n",
    "    def __init__(self):\n",
    "        print(\"in A Init\")\n",
    "    def feature1(self):\n",
    "        print(\"Feature 1 working\")\n",
    "    def feature2(self):\n",
    "        print(\"Feature 2 working\")\n",
    "\n",
    "class B(A):\n",
    "    def __init__(self):\n",
    "        print(\"in B Init\")\n",
    "    \n",
    "    def feature1(self):\n",
    "        print(\"Feature 1 working\")\n",
    "    def feature2(self):\n",
    "        print(\"Feature 4 working\")\n",
    "\n",
    "a1 = B()"
   ]
  },
  {
   "cell_type": "code",
   "execution_count": 47,
   "id": "e1fbc0f3-1f63-48ca-86cc-6a1fed4902da",
   "metadata": {},
   "outputs": [
    {
     "name": "stdout",
     "output_type": "stream",
     "text": [
      "in C init\n"
     ]
    }
   ],
   "source": [
    "class A:\n",
    "    def __init__(self):\n",
    "        print(\"in A Init\")\n",
    "    def feature1(self):\n",
    "        print(\"Feature 1 working\")\n",
    "    def feature2(self):\n",
    "        print(\"Feature 2 working\")\n",
    "\n",
    "class B(A):\n",
    "    def __init__(self):\n",
    "        super().__init__()\n",
    "        print(\"in B Init\")\n",
    "    \n",
    "    def feature1(self):\n",
    "        print(\"Feature 1 working\")\n",
    "    def feature2(self):\n",
    "        print(\"Feature 4 working\")\n",
    "class C(B):\n",
    "    def __init__(self):\n",
    "        print(\"in C init\")\n",
    "     \n",
    "\n",
    "a1 = C()"
   ]
  },
  {
   "cell_type": "code",
   "execution_count": 49,
   "id": "e8cb68e2-bfbc-40b1-ad12-58e4bffaf92c",
   "metadata": {},
   "outputs": [
    {
     "name": "stdout",
     "output_type": "stream",
     "text": [
      "in A Init\n",
      "in B Init\n",
      "in C init\n"
     ]
    }
   ],
   "source": [
    "class A:\n",
    "    def __init__(self):\n",
    "        print(\"in A Init\")\n",
    "    def feature1(self):\n",
    "        print(\"Feature 1 working\")\n",
    "    def feature2(self):\n",
    "        print(\"Feature 2 working\")\n",
    "\n",
    "class B(A):\n",
    "    def __init__(self):\n",
    "        super().__init__()\n",
    "        print(\"in B Init\")\n",
    "    \n",
    "    def feature1(self):\n",
    "        print(\"Feature 1 working\")\n",
    "    def feature2(self):\n",
    "        print(\"Feature 4 working\")\n",
    "class C(B):\n",
    "    def __init__(self):\n",
    "        super().__init__()\n",
    "        print(\"in C init\")\n",
    "     \n",
    "\n",
    "a1 = C()"
   ]
  },
  {
   "cell_type": "code",
   "execution_count": 51,
   "id": "f0441412-5471-46fb-9a4f-1f71441e10b1",
   "metadata": {},
   "outputs": [
    {
     "name": "stdout",
     "output_type": "stream",
     "text": [
      "in A Init\n",
      "in B Init\n",
      "in C init\n",
      "Feature 1 working\n"
     ]
    }
   ],
   "source": [
    "class A:\n",
    "    def __init__(self):\n",
    "        print(\"in A Init\")\n",
    "    def feature1(self):\n",
    "        print(\"Feature 1 working\")\n",
    "    def feature2(self):\n",
    "        print(\"Feature 2 working\")\n",
    "\n",
    "class B(A):\n",
    "    def __init__(self):\n",
    "        super().__init__()\n",
    "        print(\"in B Init\")\n",
    "    \n",
    "    def feature1(self):\n",
    "        print(\"Feature 1 working\")\n",
    "    def feature2(self):\n",
    "        print(\"Feature 4 working\")\n",
    "class C(B):\n",
    "    def __init__(self):\n",
    "        super().__init__()\n",
    "        print(\"in C init\")\n",
    "     \n",
    "\n",
    "a1 = C()\n",
    "a1.feature1()"
   ]
  },
  {
   "cell_type": "code",
   "execution_count": 59,
   "id": "cd46efa4-5587-4983-9936-87487899d2b5",
   "metadata": {},
   "outputs": [
    {
     "name": "stdout",
     "output_type": "stream",
     "text": [
      "Feature 4 working\n",
      "Feature 1 working\n"
     ]
    }
   ],
   "source": [
    "class A:\n",
    "    def __init__(self):\n",
    "        print(\"in A Init\")\n",
    "    def feature1(self):\n",
    "        print(\"Feature 1 working\")\n",
    "    def feature2(self):\n",
    "        print(\"Feature 2 working\")\n",
    "\n",
    "class B(A):\n",
    "    def __init__(self):\n",
    "        super().__init__()\n",
    "        print(\"in B Init\")\n",
    "    \n",
    "    def feature1(self):\n",
    "        print(\"Feature 1 working\")\n",
    "    def feature2(self):\n",
    "        print(\"Feature 4 working\")\n",
    "class C(B):\n",
    "    def __init__(self):\n",
    "        super().feature2()\n",
    "     \n",
    "\n",
    "a1 = C()\n",
    "a1.feature1()"
   ]
  },
  {
   "cell_type": "code",
   "execution_count": null,
   "id": "cbd0ee3e-7d6e-4a64-801e-b0361923845c",
   "metadata": {},
   "outputs": [],
   "source": []
  }
 ],
 "metadata": {
  "kernelspec": {
   "display_name": "Python [conda env:base] *",
   "language": "python",
   "name": "conda-base-py"
  },
  "language_info": {
   "codemirror_mode": {
    "name": "ipython",
    "version": 3
   },
   "file_extension": ".py",
   "mimetype": "text/x-python",
   "name": "python",
   "nbconvert_exporter": "python",
   "pygments_lexer": "ipython3",
   "version": "3.12.7"
  }
 },
 "nbformat": 4,
 "nbformat_minor": 5
}
