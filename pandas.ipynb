{
 "cells": [
  {
   "cell_type": "code",
   "execution_count": 1,
   "id": "bf0808b3-8997-4182-9f87-1e5e129b3dd2",
   "metadata": {},
   "outputs": [],
   "source": [
    "#Import pandas\n",
    "import pandas as pd"
   ]
  },
  {
   "cell_type": "code",
   "execution_count": 5,
   "id": "6b3bb14a-3fd4-4569-bd65-809688a22613",
   "metadata": {},
   "outputs": [
    {
     "name": "stdout",
     "output_type": "stream",
     "text": [
      "0    10\n",
      "1    20\n",
      "2    30\n",
      "3    40\n",
      "dtype: int64\n"
     ]
    }
   ],
   "source": [
    "#Create panda series using list\n",
    "data = [10, 20, 30, 40]\n",
    "series = pd.Series(data)\n",
    "print(series)"
   ]
  },
  {
   "cell_type": "code",
   "execution_count": 11,
   "id": "ac5d8336-8428-4696-a39f-70fe6f187a5b",
   "metadata": {},
   "outputs": [
    {
     "name": "stdout",
     "output_type": "stream",
     "text": [
      "0    10\n",
      "1    20\n",
      "2    30\n",
      "3    40\n",
      "4     A\n",
      "dtype: object\n"
     ]
    }
   ],
   "source": [
    "data = [10, 20, 30, 40, 'A']\n",
    "series = pd.Series(data)\n",
    "print(series)"
   ]
  },
  {
   "cell_type": "code",
   "execution_count": 13,
   "id": "eabcbcc3-fce5-4f52-8b39-81cd1e851882",
   "metadata": {},
   "outputs": [
    {
     "name": "stdout",
     "output_type": "stream",
     "text": [
      "A    1\n",
      "B    2\n",
      "C    3\n",
      "D    4\n",
      "dtype: int64\n"
     ]
    }
   ],
   "source": [
    "#Create series using a custom index\n",
    "data = [1, 2, 3, 4]\n",
    "i = ['A', 'B', 'C', 'D']\n",
    "series = pd.Series(data, index=i)\n",
    "print(series)"
   ]
  },
  {
   "cell_type": "code",
   "execution_count": 17,
   "id": "c5daa152-5cce-4299-b0cb-1b758993e821",
   "metadata": {},
   "outputs": [
    {
     "name": "stdout",
     "output_type": "stream",
     "text": [
      "a    10\n",
      "b    20\n",
      "c    30\n",
      "dtype: int64\n"
     ]
    }
   ],
   "source": [
    "#Create series using dictionary\n",
    "data = {'a': 10, 'b': 20, 'c': 30}\n",
    "series = pd.Series(data)\n",
    "print(series)"
   ]
  },
  {
   "cell_type": "code",
   "execution_count": 19,
   "id": "0f3ffa35-4ecf-4436-8c66-9b64332ff946",
   "metadata": {},
   "outputs": [
    {
     "data": {
      "text/plain": [
       "a    10\n",
       "b    40\n",
       "c    30\n",
       "dtype: int64"
      ]
     },
     "execution_count": 19,
     "metadata": {},
     "output_type": "execute_result"
    }
   ],
   "source": [
    "series.replace(20,40)"
   ]
  },
  {
   "cell_type": "code",
   "execution_count": 27,
   "id": "2a7b5dac-de53-4bb1-825a-c93d5aca818a",
   "metadata": {},
   "outputs": [
    {
     "name": "stdout",
     "output_type": "stream",
     "text": [
      "a    100\n",
      "b    200\n",
      "c    300\n",
      "dtype: int32\n"
     ]
    }
   ],
   "source": [
    "#Create series using numpy array\n",
    "import numpy as np\n",
    "data = np.array([100, 200, 300])\n",
    "series = pd.Series(data, index=['a','b','c'])\n",
    "print(series)"
   ]
  },
  {
   "cell_type": "code",
   "execution_count": 29,
   "id": "5d608be6-bbfd-46b5-a6e4-efa872a29e69",
   "metadata": {},
   "outputs": [
    {
     "name": "stdout",
     "output_type": "stream",
     "text": [
      "1    100\n",
      "2    200\n",
      "3    300\n",
      "dtype: int32\n"
     ]
    }
   ],
   "source": [
    "import numpy as np\n",
    "data = np.array([100, 200, 300])\n",
    "series = pd.Series(data, index=[1, 2, 3])\n",
    "print(series)"
   ]
  },
  {
   "cell_type": "code",
   "execution_count": 31,
   "id": "b3adfd3e-7e18-4201-b901-6c653b4eac87",
   "metadata": {},
   "outputs": [],
   "source": [
    "#PANDAS DATAFRAME"
   ]
  },
  {
   "cell_type": "code",
   "execution_count": 45,
   "id": "23080182-459e-415a-84e6-238451cd37af",
   "metadata": {},
   "outputs": [
    {
     "name": "stdout",
     "output_type": "stream",
     "text": [
      "    Name  Age Country\n",
      "0  Alice   25     USA\n",
      "1    Bob   30      UK\n",
      "2   Mary   34     AUS\n"
     ]
    }
   ],
   "source": [
    "#Create pandas dataframe from dictionary of lists\n",
    "import pandas as pd\n",
    "data = {'Name': ['Alice', 'Bob','Mary'], 'Age': [25, 30, 34],'Country':[\"USA\",\"UK\",\"AUS\"]}\n",
    "df = pd.DataFrame(data)\n",
    "print(df)"
   ]
  },
  {
   "cell_type": "code",
   "execution_count": 57,
   "id": "6ece5d4c-12eb-4c57-8d10-3fa2d17ac64b",
   "metadata": {},
   "outputs": [
    {
     "name": "stdout",
     "output_type": "stream",
     "text": [
      "      Name  Age  CGPA Subjects\n",
      "0  Pallavi   19   9.0    Maths\n",
      "1    Divya   19   9.5   Social\n",
      "2  Srushti   19   9.5  Science\n",
      "3  Shivani   19   9.0  English\n"
     ]
    }
   ],
   "source": [
    "import pandas as pd\n",
    "data = {'Name': ['Pallavi', 'Divya','Srushti', 'Shivani'], 'Age': [19, 19, 19, 19],'CGPA':[9.0,9.5,9.5,9.0], 'Subjects':['Maths','Social','Science','English']}\n",
    "df = pd.DataFrame(data)\n",
    "print(df)"
   ]
  },
  {
   "cell_type": "code",
   "execution_count": 53,
   "id": "be212608-134a-44bc-8224-13080266d2b2",
   "metadata": {},
   "outputs": [
    {
     "name": "stdout",
     "output_type": "stream",
     "text": [
      "[[1 2 3]\n",
      " [4 5 6]\n",
      " [7 8 9]]\n",
      "   A  B  C\n",
      "0  1  2  3\n",
      "1  4  5  6\n",
      "2  7  8  9\n"
     ]
    }
   ],
   "source": [
    "#Create pandas dataframe from numpy array\n",
    "import numpy as np\n",
    "array = np.array([[1, 2, 3], [4, 5, 6],[7,8,9]])\n",
    "print(array)\n",
    "df = pd.DataFrame(array, columns=['A', 'B', 'C'])\n",
    "print(df)"
   ]
  },
  {
   "cell_type": "code",
   "execution_count": 59,
   "id": "0da1e479-55cf-4774-838e-0aaf966dfa87",
   "metadata": {},
   "outputs": [
    {
     "name": "stdout",
     "output_type": "stream",
     "text": [
      "[[1 2 3]\n",
      " [4 5 6]\n",
      " [7 8 9]]\n",
      "   0  1  2\n",
      "0  1  2  3\n",
      "1  4  5  6\n",
      "2  7  8  9\n"
     ]
    }
   ],
   "source": [
    "import numpy as np\n",
    "array = np.array([[1, 2, 3], [4, 5, 6],[7,8,9]])\n",
    "print(array)\n",
    "df = pd.DataFrame(array)\n",
    "print(df)"
   ]
  },
  {
   "cell_type": "code",
   "execution_count": null,
   "id": "7fdef78c-eb3d-4508-a5b0-e0e105a0d756",
   "metadata": {},
   "outputs": [],
   "source": []
  }
 ],
 "metadata": {
  "kernelspec": {
   "display_name": "Python [conda env:base] *",
   "language": "python",
   "name": "conda-base-py"
  },
  "language_info": {
   "codemirror_mode": {
    "name": "ipython",
    "version": 3
   },
   "file_extension": ".py",
   "mimetype": "text/x-python",
   "name": "python",
   "nbconvert_exporter": "python",
   "pygments_lexer": "ipython3",
   "version": "3.12.7"
  }
 },
 "nbformat": 4,
 "nbformat_minor": 5
}
