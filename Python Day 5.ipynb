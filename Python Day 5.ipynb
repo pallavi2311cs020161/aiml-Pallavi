{
 "cells": [
  {
   "cell_type": "markdown",
   "id": "d161cb6e-a044-46cf-9a10-b29bd802c961",
   "metadata": {},
   "source": [
    "#### Number Systems\n",
    "- Binary\n",
    "- Hexa\n",
    "- octal"
   ]
  },
  {
   "cell_type": "code",
   "execution_count": 6,
   "id": "9efc1cb8-4aca-4cfe-bd3c-bb59a0c2d2f2",
   "metadata": {},
   "outputs": [
    {
     "data": {
      "text/plain": [
       "'0b11001'"
      ]
     },
     "execution_count": 6,
     "metadata": {},
     "output_type": "execute_result"
    }
   ],
   "source": [
    "bin(25)"
   ]
  },
  {
   "cell_type": "code",
   "execution_count": 8,
   "id": "391de1ca-088f-40d4-ba65-cec7e4bb840c",
   "metadata": {},
   "outputs": [
    {
     "data": {
      "text/plain": [
       "'0b11001'"
      ]
     },
     "execution_count": 8,
     "metadata": {},
     "output_type": "execute_result"
    }
   ],
   "source": [
    "bin(0b11001)"
   ]
  },
  {
   "cell_type": "code",
   "execution_count": 10,
   "id": "f0992b64-7bdd-4b0e-a3f2-e0fc5044796e",
   "metadata": {},
   "outputs": [
    {
     "data": {
      "text/plain": [
       "'0x19'"
      ]
     },
     "execution_count": 10,
     "metadata": {},
     "output_type": "execute_result"
    }
   ],
   "source": [
    "hex(0b11001)"
   ]
  },
  {
   "cell_type": "code",
   "execution_count": 12,
   "id": "4213b370-57c4-4d9d-8d98-21d271bc0cf7",
   "metadata": {},
   "outputs": [
    {
     "data": {
      "text/plain": [
       "'0x19'"
      ]
     },
     "execution_count": 12,
     "metadata": {},
     "output_type": "execute_result"
    }
   ],
   "source": [
    "hex(25)"
   ]
  },
  {
   "cell_type": "code",
   "execution_count": 14,
   "id": "0ff55f8d-9865-4ca3-9550-b206e72eb73f",
   "metadata": {},
   "outputs": [
    {
     "data": {
      "text/plain": [
       "'0o31'"
      ]
     },
     "execution_count": 14,
     "metadata": {},
     "output_type": "execute_result"
    }
   ],
   "source": [
    "oct(25)"
   ]
  },
  {
   "cell_type": "code",
   "execution_count": 16,
   "id": "019aa5a9-d276-4539-9dce-80f52b291f80",
   "metadata": {},
   "outputs": [
    {
     "data": {
      "text/plain": [
       "'0b11001'"
      ]
     },
     "execution_count": 16,
     "metadata": {},
     "output_type": "execute_result"
    }
   ],
   "source": [
    "bin(0o31)"
   ]
  },
  {
   "cell_type": "code",
   "execution_count": 18,
   "id": "597bc973-1464-4414-baea-392abb334b9b",
   "metadata": {},
   "outputs": [
    {
     "data": {
      "text/plain": [
       "15"
      ]
     },
     "execution_count": 18,
     "metadata": {},
     "output_type": "execute_result"
    }
   ],
   "source": [
    "0xf"
   ]
  },
  {
   "cell_type": "code",
   "execution_count": 22,
   "id": "0b59488b-4b14-4093-a93b-f37b920e2b73",
   "metadata": {},
   "outputs": [
    {
     "data": {
      "text/plain": [
       "11"
      ]
     },
     "execution_count": 22,
     "metadata": {},
     "output_type": "execute_result"
    }
   ],
   "source": [
    "0xb"
   ]
  },
  {
   "cell_type": "code",
   "execution_count": 26,
   "id": "14a48e92-3b8e-4599-b0ca-aa1fbb9e5553",
   "metadata": {},
   "outputs": [
    {
     "data": {
      "text/plain": [
       "10"
      ]
     },
     "execution_count": 26,
     "metadata": {},
     "output_type": "execute_result"
    }
   ],
   "source": [
    "0xa"
   ]
  },
  {
   "cell_type": "markdown",
   "id": "7f2936d4-5963-46fb-a783-cd55bff95b2c",
   "metadata": {},
   "source": [
    "#### Operators\n",
    "- Complement\n",
    "- Bitwise(and,or)\n",
    "- XOR\n",
    "- Left shift\n",
    "- Right shift"
   ]
  },
  {
   "cell_type": "code",
   "execution_count": 32,
   "id": "4905c4ee-d67a-4727-9db3-ee8daa495cc5",
   "metadata": {},
   "outputs": [
    {
     "data": {
      "text/plain": [
       "-26"
      ]
     },
     "execution_count": 32,
     "metadata": {},
     "output_type": "execute_result"
    }
   ],
   "source": [
    "#1\n",
    "~25"
   ]
  },
  {
   "cell_type": "code",
   "execution_count": 36,
   "id": "544d25f7-3fb8-440c-9741-91a8f92d452a",
   "metadata": {},
   "outputs": [
    {
     "data": {
      "text/plain": [
       "-51"
      ]
     },
     "execution_count": 36,
     "metadata": {},
     "output_type": "execute_result"
    }
   ],
   "source": [
    "~50"
   ]
  },
  {
   "cell_type": "code",
   "execution_count": 38,
   "id": "4f750315-4744-4707-8fd7-e474f4ed14d0",
   "metadata": {},
   "outputs": [
    {
     "data": {
      "text/plain": [
       "25"
      ]
     },
     "execution_count": 38,
     "metadata": {},
     "output_type": "execute_result"
    }
   ],
   "source": [
    "#2\n",
    "25 & 27"
   ]
  },
  {
   "cell_type": "code",
   "execution_count": 40,
   "id": "67cb7f5e-495b-45ed-bdd8-f5315c7ca076",
   "metadata": {},
   "outputs": [
    {
     "data": {
      "text/plain": [
       "27"
      ]
     },
     "execution_count": 40,
     "metadata": {},
     "output_type": "execute_result"
    }
   ],
   "source": [
    "25 | 27"
   ]
  },
  {
   "cell_type": "code",
   "execution_count": 42,
   "id": "55c74c60-6af6-4d73-949e-bc399ee6d900",
   "metadata": {},
   "outputs": [
    {
     "data": {
      "text/plain": [
       "22"
      ]
     },
     "execution_count": 42,
     "metadata": {},
     "output_type": "execute_result"
    }
   ],
   "source": [
    "#3\n",
    "25 ^ 15"
   ]
  },
  {
   "cell_type": "code",
   "execution_count": 44,
   "id": "e5e727dd-1c96-419d-8642-80b694cb70ab",
   "metadata": {},
   "outputs": [
    {
     "data": {
      "text/plain": [
       "31"
      ]
     },
     "execution_count": 44,
     "metadata": {},
     "output_type": "execute_result"
    }
   ],
   "source": [
    "15 ^ 16"
   ]
  },
  {
   "cell_type": "code",
   "execution_count": 46,
   "id": "690156e4-3495-4622-8298-fa5e23bca581",
   "metadata": {},
   "outputs": [
    {
     "data": {
      "text/plain": [
       "7133701809754865664"
      ]
     },
     "execution_count": 46,
     "metadata": {},
     "output_type": "execute_result"
    }
   ],
   "source": [
    "#4\n",
    "99 << 56"
   ]
  },
  {
   "cell_type": "code",
   "execution_count": 48,
   "id": "5d8e90f7-05ee-4cda-9e2f-a78d02832921",
   "metadata": {},
   "outputs": [
    {
     "data": {
      "text/plain": [
       "704643072"
      ]
     },
     "execution_count": 48,
     "metadata": {},
     "output_type": "execute_result"
    }
   ],
   "source": [
    "21 << 25"
   ]
  },
  {
   "cell_type": "code",
   "execution_count": 50,
   "id": "7a6c10c3-020a-46fa-b0a5-511ef2a2e2ce",
   "metadata": {},
   "outputs": [
    {
     "data": {
      "text/plain": [
       "0"
      ]
     },
     "execution_count": 50,
     "metadata": {},
     "output_type": "execute_result"
    }
   ],
   "source": [
    "#5\n",
    "14 >> 19"
   ]
  },
  {
   "cell_type": "code",
   "execution_count": 54,
   "id": "8d59fd4f-01c4-49d5-a081-84a28b1c9122",
   "metadata": {},
   "outputs": [
    {
     "data": {
      "text/plain": [
       "0"
      ]
     },
     "execution_count": 54,
     "metadata": {},
     "output_type": "execute_result"
    }
   ],
   "source": [
    "20 >> 16"
   ]
  },
  {
   "cell_type": "code",
   "execution_count": null,
   "id": "b38280b2-8654-463f-8a72-395fa7a2e05d",
   "metadata": {},
   "outputs": [],
   "source": []
  }
 ],
 "metadata": {
  "kernelspec": {
   "display_name": "Python [conda env:base] *",
   "language": "python",
   "name": "conda-base-py"
  },
  "language_info": {
   "codemirror_mode": {
    "name": "ipython",
    "version": 3
   },
   "file_extension": ".py",
   "mimetype": "text/x-python",
   "name": "python",
   "nbconvert_exporter": "python",
   "pygments_lexer": "ipython3",
   "version": "3.12.7"
  }
 },
 "nbformat": 4,
 "nbformat_minor": 5
}
