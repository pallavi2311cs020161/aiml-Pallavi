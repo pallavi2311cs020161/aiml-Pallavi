{
 "cells": [
  {
   "cell_type": "markdown",
   "id": "9f0d9527-8651-418d-b657-6c19270cb412",
   "metadata": {},
   "source": [
    "#### VARIABLES"
   ]
  },
  {
   "cell_type": "code",
   "execution_count": 2,
   "id": "dc126299-6f86-49fc-8e1f-7517ddb3661b",
   "metadata": {},
   "outputs": [
    {
     "data": {
      "text/plain": [
       "5"
      ]
     },
     "execution_count": 2,
     "metadata": {},
     "output_type": "execute_result"
    }
   ],
   "source": [
    "2 + 3"
   ]
  },
  {
   "cell_type": "code",
   "execution_count": 3,
   "id": "6d1fbcce-e8f5-45e9-9733-e0e0b35abc45",
   "metadata": {},
   "outputs": [],
   "source": [
    "x = 2"
   ]
  },
  {
   "cell_type": "code",
   "execution_count": 4,
   "id": "124a9b4a-7ce2-4ed4-8647-d5cd3671e873",
   "metadata": {},
   "outputs": [
    {
     "data": {
      "text/plain": [
       "5"
      ]
     },
     "execution_count": 4,
     "metadata": {},
     "output_type": "execute_result"
    }
   ],
   "source": [
    "x + 3"
   ]
  },
  {
   "cell_type": "code",
   "execution_count": 5,
   "id": "8ac5b6e2-9da5-469d-946a-053f359ab60a",
   "metadata": {},
   "outputs": [],
   "source": [
    "y = 4"
   ]
  },
  {
   "cell_type": "code",
   "execution_count": 6,
   "id": "e0f7ee21-f08e-402b-bb93-b3d6a74cb5f0",
   "metadata": {},
   "outputs": [
    {
     "data": {
      "text/plain": [
       "6"
      ]
     },
     "execution_count": 6,
     "metadata": {},
     "output_type": "execute_result"
    }
   ],
   "source": [
    "x + y"
   ]
  },
  {
   "cell_type": "code",
   "execution_count": 7,
   "id": "360d7ba2-2909-42b2-a999-6c0f216e1f82",
   "metadata": {},
   "outputs": [],
   "source": [
    "x = 6"
   ]
  },
  {
   "cell_type": "code",
   "execution_count": 8,
   "id": "92657762-3208-4f87-b267-08c5fd63dd7b",
   "metadata": {},
   "outputs": [
    {
     "data": {
      "text/plain": [
       "10"
      ]
     },
     "execution_count": 8,
     "metadata": {},
     "output_type": "execute_result"
    }
   ],
   "source": [
    "x + y"
   ]
  },
  {
   "cell_type": "code",
   "execution_count": 9,
   "id": "6160e804-a122-4dc2-9123-f98db8551de5",
   "metadata": {},
   "outputs": [
    {
     "data": {
      "text/plain": [
       "9"
      ]
     },
     "execution_count": 9,
     "metadata": {},
     "output_type": "execute_result"
    }
   ],
   "source": [
    "x + 3"
   ]
  },
  {
   "cell_type": "code",
   "execution_count": 10,
   "id": "5cea6001-f6b2-4e3f-a9a4-bd66a6a4c289",
   "metadata": {},
   "outputs": [],
   "source": [
    "y = 9"
   ]
  },
  {
   "cell_type": "code",
   "execution_count": 11,
   "id": "0b32948e-6115-4b5c-a278-30479a132ddd",
   "metadata": {},
   "outputs": [
    {
     "data": {
      "text/plain": [
       "15"
      ]
     },
     "execution_count": 11,
     "metadata": {},
     "output_type": "execute_result"
    }
   ],
   "source": [
    "x + y"
   ]
  },
  {
   "cell_type": "code",
   "execution_count": 12,
   "id": "ba570df0-4a93-417d-98ac-25bce1428441",
   "metadata": {},
   "outputs": [],
   "source": [
    "names = 'pallavi'"
   ]
  },
  {
   "cell_type": "code",
   "execution_count": 13,
   "id": "a8cf2327-b4e4-485f-9490-9822dab13ac6",
   "metadata": {},
   "outputs": [
    {
     "data": {
      "text/plain": [
       "'pallavi'"
      ]
     },
     "execution_count": 13,
     "metadata": {},
     "output_type": "execute_result"
    }
   ],
   "source": [
    "names"
   ]
  },
  {
   "cell_type": "code",
   "execution_count": 14,
   "id": "c29c28ee-7e56-45f6-9342-3e5d4c94e808",
   "metadata": {},
   "outputs": [
    {
     "data": {
      "text/plain": [
       "' my name is pallavi'"
      ]
     },
     "execution_count": 14,
     "metadata": {},
     "output_type": "execute_result"
    }
   ],
   "source": [
    "' my name is ' + names"
   ]
  },
  {
   "cell_type": "code",
   "execution_count": 15,
   "id": "e2e302f5-1008-49e5-ba4d-37f703c43150",
   "metadata": {},
   "outputs": [],
   "source": [
    "names = 'pallavi'"
   ]
  },
  {
   "cell_type": "code",
   "execution_count": 16,
   "id": "5d1a59de-ce51-4ef3-9e33-306658ccb1c5",
   "metadata": {},
   "outputs": [
    {
     "data": {
      "text/plain": [
       "'pallavi'"
      ]
     },
     "execution_count": 16,
     "metadata": {},
     "output_type": "execute_result"
    }
   ],
   "source": [
    "names"
   ]
  },
  {
   "cell_type": "code",
   "execution_count": 17,
   "id": "49332c6a-c0ab-42cc-92bf-57ea708072f2",
   "metadata": {},
   "outputs": [
    {
     "data": {
      "text/plain": [
       "'l'"
      ]
     },
     "execution_count": 17,
     "metadata": {},
     "output_type": "execute_result"
    }
   ],
   "source": [
    "names[2]"
   ]
  },
  {
   "cell_type": "code",
   "execution_count": 18,
   "id": "340a6c75-a827-4b9e-bb8b-e80a89f53f4d",
   "metadata": {},
   "outputs": [
    {
     "data": {
      "text/plain": [
       "'lla'"
      ]
     },
     "execution_count": 18,
     "metadata": {},
     "output_type": "execute_result"
    }
   ],
   "source": [
    "names[2:5]"
   ]
  },
  {
   "cell_type": "code",
   "execution_count": 19,
   "id": "1da43711-8c67-4fb8-8a07-8ec61d96b333",
   "metadata": {},
   "outputs": [
    {
     "data": {
      "text/plain": [
       "'allavi'"
      ]
     },
     "execution_count": 19,
     "metadata": {},
     "output_type": "execute_result"
    }
   ],
   "source": [
    "names[1:]"
   ]
  },
  {
   "cell_type": "code",
   "execution_count": 20,
   "id": "fc6c3381-3969-4833-956e-ef37e7f59708",
   "metadata": {},
   "outputs": [
    {
     "data": {
      "text/plain": [
       "'pall'"
      ]
     },
     "execution_count": 20,
     "metadata": {},
     "output_type": "execute_result"
    }
   ],
   "source": [
    "names[:4]"
   ]
  },
  {
   "cell_type": "markdown",
   "id": "13c0e214-6dbe-40b6-b398-da23ff0b7bb8",
   "metadata": {},
   "source": [
    "#### LIST"
   ]
  },
  {
   "cell_type": "code",
   "execution_count": 22,
   "id": "3b3c0c3f-ed83-4329-9e8e-db78931db2f1",
   "metadata": {},
   "outputs": [],
   "source": [
    "nums = [25,43,64,58,5,18]"
   ]
  },
  {
   "cell_type": "code",
   "execution_count": 23,
   "id": "cb55d8c2-4fd4-447d-9e04-f7c29c62d830",
   "metadata": {},
   "outputs": [
    {
     "data": {
      "text/plain": [
       "[25, 43, 64, 58, 5, 18]"
      ]
     },
     "execution_count": 23,
     "metadata": {},
     "output_type": "execute_result"
    }
   ],
   "source": [
    "nums"
   ]
  },
  {
   "cell_type": "code",
   "execution_count": 24,
   "id": "5d6045f7-75a2-4135-a1a4-94cfdce5ba0c",
   "metadata": {},
   "outputs": [
    {
     "data": {
      "text/plain": [
       "64"
      ]
     },
     "execution_count": 24,
     "metadata": {},
     "output_type": "execute_result"
    }
   ],
   "source": [
    "nums[2]"
   ]
  },
  {
   "cell_type": "code",
   "execution_count": 25,
   "id": "182f9153-a0f0-4fee-982b-64e41259f8a2",
   "metadata": {},
   "outputs": [
    {
     "data": {
      "text/plain": [
       "18"
      ]
     },
     "execution_count": 25,
     "metadata": {},
     "output_type": "execute_result"
    }
   ],
   "source": [
    "nums[-1]"
   ]
  },
  {
   "cell_type": "code",
   "execution_count": 26,
   "id": "8c344d7e-5382-4e35-9278-d889199f099c",
   "metadata": {},
   "outputs": [
    {
     "data": {
      "text/plain": [
       "[25, 43]"
      ]
     },
     "execution_count": 26,
     "metadata": {},
     "output_type": "execute_result"
    }
   ],
   "source": [
    "nums[:2]"
   ]
  },
  {
   "cell_type": "code",
   "execution_count": 27,
   "id": "e79a9709-9465-46d8-a9f8-134afaf0e797",
   "metadata": {},
   "outputs": [],
   "source": [
    "nums.append(45)"
   ]
  },
  {
   "cell_type": "code",
   "execution_count": 28,
   "id": "0401d750-8101-4f14-8fb2-816ad345c93d",
   "metadata": {},
   "outputs": [
    {
     "data": {
      "text/plain": [
       "[25, 43, 64, 58, 5, 18, 45]"
      ]
     },
     "execution_count": 28,
     "metadata": {},
     "output_type": "execute_result"
    }
   ],
   "source": [
    "nums"
   ]
  },
  {
   "cell_type": "code",
   "execution_count": 29,
   "id": "3c912e66-8efc-4e4c-91a1-e671f441912f",
   "metadata": {},
   "outputs": [],
   "source": [
    "nums.remove(18)"
   ]
  },
  {
   "cell_type": "code",
   "execution_count": 30,
   "id": "741c8e95-9264-420b-8e74-22ceda7e652a",
   "metadata": {},
   "outputs": [
    {
     "data": {
      "text/plain": [
       "[25, 43, 64, 58, 5, 45]"
      ]
     },
     "execution_count": 30,
     "metadata": {},
     "output_type": "execute_result"
    }
   ],
   "source": [
    "nums"
   ]
  },
  {
   "cell_type": "code",
   "execution_count": 31,
   "id": "6cd45c25-feb4-45b4-a513-019ecc5b6568",
   "metadata": {},
   "outputs": [
    {
     "data": {
      "text/plain": [
       "43"
      ]
     },
     "execution_count": 31,
     "metadata": {},
     "output_type": "execute_result"
    }
   ],
   "source": [
    "nums.pop(1)"
   ]
  },
  {
   "cell_type": "code",
   "execution_count": 32,
   "id": "58142b1c-e25e-45d0-8e58-d7bea42aa0f5",
   "metadata": {},
   "outputs": [],
   "source": [
    "del nums[:2]"
   ]
  },
  {
   "cell_type": "code",
   "execution_count": 33,
   "id": "0bd90c5c-4ebc-4df8-b80b-b25f165f9ca4",
   "metadata": {},
   "outputs": [
    {
     "data": {
      "text/plain": [
       "[58, 5, 45]"
      ]
     },
     "execution_count": 33,
     "metadata": {},
     "output_type": "execute_result"
    }
   ],
   "source": [
    "nums"
   ]
  },
  {
   "cell_type": "code",
   "execution_count": 34,
   "id": "5f0eaa96-53eb-41f4-9c97-28df3e8f4f00",
   "metadata": {},
   "outputs": [],
   "source": [
    "nums = [5,10,15,20,25,30,35,40,45]"
   ]
  },
  {
   "cell_type": "code",
   "execution_count": 35,
   "id": "655ac8dd-4999-4b34-ba99-03e12cd7f7ff",
   "metadata": {},
   "outputs": [
    {
     "data": {
      "text/plain": [
       "[5, 10, 15, 20, 25, 30, 35, 40, 45]"
      ]
     },
     "execution_count": 35,
     "metadata": {},
     "output_type": "execute_result"
    }
   ],
   "source": [
    "nums"
   ]
  },
  {
   "cell_type": "code",
   "execution_count": 39,
   "id": "b7c3a300-dd8b-4d0c-baff-063c2f819fed",
   "metadata": {},
   "outputs": [],
   "source": [
    "values = [25,names,2005]"
   ]
  },
  {
   "cell_type": "code",
   "execution_count": 41,
   "id": "a69ee6b3-21fd-4c62-8c38-6024d40d13a4",
   "metadata": {},
   "outputs": [
    {
     "data": {
      "text/plain": [
       "[25, 'pallavi', 2005]"
      ]
     },
     "execution_count": 41,
     "metadata": {},
     "output_type": "execute_result"
    }
   ],
   "source": [
    "values"
   ]
  },
  {
   "cell_type": "markdown",
   "id": "fdcaecb7-5ce8-45b9-90ab-a514877ebfeb",
   "metadata": {},
   "source": [
    "#### TUPLES AND SETS"
   ]
  },
  {
   "cell_type": "code",
   "execution_count": 78,
   "id": "bb75bdee-532e-43de-a3ef-e95fbe0e67f4",
   "metadata": {},
   "outputs": [],
   "source": [
    "tup = (56,24,3,64,5,6,7,7,8)"
   ]
  },
  {
   "cell_type": "code",
   "execution_count": 80,
   "id": "a1a828a6-d982-4021-9d99-4a72a88ccaaf",
   "metadata": {},
   "outputs": [
    {
     "data": {
      "text/plain": [
       "(56, 24, 3, 64, 5, 6, 7, 7, 8)"
      ]
     },
     "execution_count": 80,
     "metadata": {},
     "output_type": "execute_result"
    }
   ],
   "source": [
    "tup"
   ]
  },
  {
   "cell_type": "code",
   "execution_count": 82,
   "id": "eff50d1b-917d-4ee0-9ad4-7a3fea2e6106",
   "metadata": {},
   "outputs": [
    {
     "data": {
      "text/plain": [
       "24"
      ]
     },
     "execution_count": 82,
     "metadata": {},
     "output_type": "execute_result"
    }
   ],
   "source": [
    "tup[1]"
   ]
  },
  {
   "cell_type": "code",
   "execution_count": 84,
   "id": "f3b0b29b-fa26-4ada-8490-595d7414680f",
   "metadata": {},
   "outputs": [
    {
     "data": {
      "text/plain": [
       "7"
      ]
     },
     "execution_count": 84,
     "metadata": {},
     "output_type": "execute_result"
    }
   ],
   "source": [
    "tup[6]"
   ]
  },
  {
   "cell_type": "code",
   "execution_count": 86,
   "id": "165e4c88-c34b-4f52-8ba8-07165e77a582",
   "metadata": {},
   "outputs": [
    {
     "data": {
      "text/plain": [
       "0"
      ]
     },
     "execution_count": 86,
     "metadata": {},
     "output_type": "execute_result"
    }
   ],
   "source": [
    "tup.count(2)"
   ]
  },
  {
   "cell_type": "code",
   "execution_count": 88,
   "id": "99f1581a-028f-42e3-a177-4e5a99744a4b",
   "metadata": {},
   "outputs": [
    {
     "data": {
      "text/plain": [
       "2"
      ]
     },
     "execution_count": 88,
     "metadata": {},
     "output_type": "execute_result"
    }
   ],
   "source": [
    "tup.count(7)"
   ]
  },
  {
   "cell_type": "code",
   "execution_count": 90,
   "id": "1e8bb0f2-dd8e-4b4d-b59a-21005e720fd7",
   "metadata": {},
   "outputs": [
    {
     "data": {
      "text/plain": [
       "6"
      ]
     },
     "execution_count": 90,
     "metadata": {},
     "output_type": "execute_result"
    }
   ],
   "source": [
    "tup.index(7)"
   ]
  },
  {
   "cell_type": "code",
   "execution_count": 68,
   "id": "42aaa57a-4c58-4123-82f7-149f1c8ccf91",
   "metadata": {},
   "outputs": [],
   "source": [
    "s = {56,23,12,49,10,64}"
   ]
  },
  {
   "cell_type": "code",
   "execution_count": 72,
   "id": "1da39c71-b54d-44b5-9430-41b5226525e0",
   "metadata": {},
   "outputs": [
    {
     "data": {
      "text/plain": [
       "{10, 12, 23, 49, 56, 64}"
      ]
     },
     "execution_count": 72,
     "metadata": {},
     "output_type": "execute_result"
    }
   ],
   "source": [
    "s"
   ]
  },
  {
   "cell_type": "code",
   "execution_count": null,
   "id": "a4847ef9-570a-4f65-a23d-81e407871bd5",
   "metadata": {},
   "outputs": [],
   "source": [
    "s"
   ]
  }
 ],
 "metadata": {
  "kernelspec": {
   "display_name": "Python [conda env:base] *",
   "language": "python",
   "name": "conda-base-py"
  },
  "language_info": {
   "codemirror_mode": {
    "name": "ipython",
    "version": 3
   },
   "file_extension": ".py",
   "mimetype": "text/x-python",
   "name": "python",
   "nbconvert_exporter": "python",
   "pygments_lexer": "ipython3",
   "version": "3.12.7"
  }
 },
 "nbformat": 4,
 "nbformat_minor": 5
}
