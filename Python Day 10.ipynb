{
 "cells": [
  {
   "cell_type": "markdown",
   "id": "58ab5ad2-e9f0-47f0-90f6-eb7d960788a4",
   "metadata": {},
   "source": [
    "#### Arrays in Python"
   ]
  },
  {
   "cell_type": "code",
   "execution_count": 8,
   "id": "6c5a16d0-da7c-4c23-87d0-7f7a36ee8b8f",
   "metadata": {},
   "outputs": [
    {
     "name": "stdout",
     "output_type": "stream",
     "text": [
      "array('i', [2, 5, 7, 8, 12, 19])\n"
     ]
    }
   ],
   "source": [
    "from array import *\n",
    "vals = array('i',[2,5,7,8,12,19])\n",
    "print(vals)"
   ]
  },
  {
   "cell_type": "code",
   "execution_count": 10,
   "id": "707c3a09-d06a-496b-8167-aedadcdf366e",
   "metadata": {},
   "outputs": [
    {
     "name": "stdout",
     "output_type": "stream",
     "text": [
      "array('i', [2, -16, -25, -8, 12, 19])\n"
     ]
    }
   ],
   "source": [
    "from array import *\n",
    "vals = array('i',[2,-16,-25,-8,12,19])\n",
    "print(vals)"
   ]
  },
  {
   "cell_type": "code",
   "execution_count": 16,
   "id": "95cef294-c5d3-4edc-ba3f-a82cbd57bd08",
   "metadata": {},
   "outputs": [
    {
     "name": "stdout",
     "output_type": "stream",
     "text": [
      "array('I', [2, 16, 25, 8, 12, 19])\n"
     ]
    }
   ],
   "source": [
    "from array import *\n",
    "vals = array('I',[2,16,25,8,12,19])\n",
    "print(vals)"
   ]
  },
  {
   "cell_type": "code",
   "execution_count": 26,
   "id": "97fa8d04-34b9-43cc-be37-19f2c9c228f6",
   "metadata": {},
   "outputs": [
    {
     "name": "stdout",
     "output_type": "stream",
     "text": [
      "(2097223192016, 6)\n"
     ]
    }
   ],
   "source": [
    "from array import *\n",
    "vals = array('i',[2,16,25,8,12,19])\n",
    "print(vals.buffer_info())"
   ]
  },
  {
   "cell_type": "code",
   "execution_count": 30,
   "id": "3d58d114-a3ff-4e23-af30-2643c4c0483b",
   "metadata": {},
   "outputs": [
    {
     "name": "stdout",
     "output_type": "stream",
     "text": [
      "i\n"
     ]
    }
   ],
   "source": [
    "from array import *\n",
    "vals = array('i',[2,16,25,8,12,19])\n",
    "print(vals.typecode)"
   ]
  },
  {
   "cell_type": "code",
   "execution_count": 37,
   "id": "5ffc1677-4e51-4080-bc58-aca8498555bb",
   "metadata": {},
   "outputs": [
    {
     "name": "stdout",
     "output_type": "stream",
     "text": [
      "array('i', [19, 12, 8, 25, 16, 2])\n"
     ]
    }
   ],
   "source": [
    "from array import *\n",
    "vals = array('i',[2,16,25,8,12,19])\n",
    "vals.reverse()\n",
    "print(vals)"
   ]
  },
  {
   "cell_type": "code",
   "execution_count": 39,
   "id": "660730e4-8924-4894-af6e-35e4cb270fcc",
   "metadata": {},
   "outputs": [
    {
     "name": "stdout",
     "output_type": "stream",
     "text": [
      "19\n"
     ]
    }
   ],
   "source": [
    "from array import *\n",
    "vals = array('i',[2,16,25,8,12,19])\n",
    "vals.reverse()\n",
    "print(vals[0])"
   ]
  },
  {
   "cell_type": "code",
   "execution_count": 41,
   "id": "dcb93c6e-2539-4caf-923a-b783a9a9569d",
   "metadata": {},
   "outputs": [
    {
     "name": "stdout",
     "output_type": "stream",
     "text": [
      "2\n"
     ]
    }
   ],
   "source": [
    "from array import *\n",
    "vals = array('i',[2,16,25,8,12,19])\n",
    "print(vals[0])"
   ]
  },
  {
   "cell_type": "code",
   "execution_count": 43,
   "id": "04b21308-3be9-4fb7-b768-b6676460c74d",
   "metadata": {},
   "outputs": [
    {
     "name": "stdout",
     "output_type": "stream",
     "text": [
      "2\n",
      "16\n",
      "25\n",
      "8\n",
      "12\n",
      "19\n"
     ]
    }
   ],
   "source": [
    "from array import *\n",
    "vals = array('i',[2,16,25,8,12,19])\n",
    "for i in range(6):\n",
    "    print(vals[i])"
   ]
  },
  {
   "cell_type": "code",
   "execution_count": 45,
   "id": "41557152-39f3-4cd3-aa12-cd79fa0432f8",
   "metadata": {},
   "outputs": [
    {
     "name": "stdout",
     "output_type": "stream",
     "text": [
      "2\n",
      "16\n",
      "25\n",
      "8\n",
      "12\n",
      "19\n"
     ]
    }
   ],
   "source": [
    "from array import *\n",
    "vals = array('i',[2,16,25,8,12,19])\n",
    "for e in vals:\n",
    "    print(e)"
   ]
  },
  {
   "cell_type": "code",
   "execution_count": 53,
   "id": "52c94cf5-8355-4803-a62c-fd58427cd2a6",
   "metadata": {},
   "outputs": [
    {
     "name": "stdout",
     "output_type": "stream",
     "text": [
      "p\n",
      "a\n",
      "l\n",
      "l\n",
      "a\n",
      "v\n",
      "i\n"
     ]
    }
   ],
   "source": [
    "from array import *\n",
    "vals = array('u',['p','a','l','l','a','v','i'])\n",
    "for e in vals:\n",
    "    print(e)"
   ]
  },
  {
   "cell_type": "code",
   "execution_count": 63,
   "id": "8783ef24-beb3-4330-94dd-60367d2645c2",
   "metadata": {},
   "outputs": [
    {
     "name": "stdout",
     "output_type": "stream",
     "text": [
      "2\n",
      "16\n",
      "25\n",
      "8\n",
      "12\n",
      "19\n"
     ]
    }
   ],
   "source": [
    "from array import *\n",
    "vals = array('i',[2,16,25,8,12,19])\n",
    "newArr = array(vals.typecode, (a for a in vals))\n",
    "for e in newArr:\n",
    "    print(e)"
   ]
  },
  {
   "cell_type": "code",
   "execution_count": 61,
   "id": "ca8f4184-bce3-4c48-bbb8-7756e7afad22",
   "metadata": {},
   "outputs": [
    {
     "name": "stdout",
     "output_type": "stream",
     "text": [
      "4\n",
      "256\n",
      "625\n",
      "64\n",
      "144\n",
      "361\n"
     ]
    }
   ],
   "source": [
    "from array import *\n",
    "vals = array('i',[2,16,25,8,12,19])\n",
    "newArr = array(vals.typecode, (a*a for a in vals))\n",
    "for e in newArr:\n",
    "    print(e)"
   ]
  },
  {
   "cell_type": "code",
   "execution_count": 65,
   "id": "b3524d65-8827-4152-9f09-9e675ab452d4",
   "metadata": {},
   "outputs": [
    {
     "name": "stdout",
     "output_type": "stream",
     "text": [
      "4\n",
      "32\n",
      "50\n",
      "16\n",
      "24\n",
      "38\n"
     ]
    }
   ],
   "source": [
    "from array import *\n",
    "vals = array('i',[2,16,25,8,12,19])\n",
    "newArr = array(vals.typecode, (a+a for a in vals))\n",
    "for e in newArr:\n",
    "    print(e)"
   ]
  },
  {
   "cell_type": "code",
   "execution_count": 67,
   "id": "208e6d05-5fd9-496b-80c1-8e8a5ad13dff",
   "metadata": {},
   "outputs": [
    {
     "name": "stdout",
     "output_type": "stream",
     "text": [
      "4\n",
      "32\n",
      "50\n",
      "16\n",
      "24\n",
      "38\n"
     ]
    }
   ],
   "source": [
    "from array import *\n",
    "vals = array('i',[2,16,25,8,12,19])\n",
    "newArr = array(vals.typecode, (a+a for a in vals))\n",
    "i = 0\n",
    "while i<len(newArr):\n",
    "    print(newArr[i])\n",
    "    i+=1"
   ]
  },
  {
   "cell_type": "code",
   "execution_count": 69,
   "id": "fb00f7cc-93a7-4705-a196-20b178fb5895",
   "metadata": {},
   "outputs": [],
   "source": [
    "# Array values from user"
   ]
  },
  {
   "cell_type": "code",
   "execution_count": 71,
   "id": "71f46c45-28ca-49d9-8c46-4f196b81db16",
   "metadata": {},
   "outputs": [
    {
     "name": "stdin",
     "output_type": "stream",
     "text": [
      "Enter the length of the array 5\n",
      "Enter the next value 2\n",
      "Enter the next value 4\n",
      "Enter the next value 6\n",
      "Enter the next value 8\n",
      "Enter the next value 10\n"
     ]
    },
    {
     "name": "stdout",
     "output_type": "stream",
     "text": [
      "array('i', [2, 4, 6, 8, 10])\n"
     ]
    }
   ],
   "source": [
    "from array import*\n",
    "arr = array('i',[])\n",
    "n = int(input(\"Enter the length of the array\"))\n",
    "for i in range(5):\n",
    "    x = int(input(\"Enter the next value\"))\n",
    "    arr.append(x)\n",
    "print(arr)"
   ]
  },
  {
   "cell_type": "code",
   "execution_count": 81,
   "id": "b6d86e2c-d8e4-442c-b9e6-18b1f252f34b",
   "metadata": {},
   "outputs": [
    {
     "name": "stdin",
     "output_type": "stream",
     "text": [
      "Enter the length of the array 5\n",
      "Enter the next value 24\n",
      "Enter the next value 56\n",
      "Enter the next value 79\n",
      "Enter the next value 2\n",
      "Enter the next value 255\n"
     ]
    },
    {
     "name": "stdout",
     "output_type": "stream",
     "text": [
      "array('i', [24, 56, 79, 2, 255])\n"
     ]
    },
    {
     "name": "stdin",
     "output_type": "stream",
     "text": [
      "Enter the value for search 255\n"
     ]
    },
    {
     "name": "stdout",
     "output_type": "stream",
     "text": [
      "4\n",
      "4\n"
     ]
    }
   ],
   "source": [
    "from array import*\n",
    "arr = array('i',[])\n",
    "n = int(input(\"Enter the length of the array\"))\n",
    "for i in range(5):\n",
    "    x = int(input(\"Enter the next value\"))\n",
    "    arr.append(x)\n",
    "print(arr)\n",
    "val = int(input(\"Enter the value for search\"))\n",
    "k = 0\n",
    "for e in arr:\n",
    "    if e==val:\n",
    "        print(k)\n",
    "        break\n",
    "    k+=1\n",
    "print(arr.index(val))"
   ]
  },
  {
   "cell_type": "code",
   "execution_count": 85,
   "id": "f3fc0f77-592a-484e-b857-76dcd8959f15",
   "metadata": {},
   "outputs": [
    {
     "name": "stdout",
     "output_type": "stream",
     "text": [
      "[1 2 3 4 5 6]\n"
     ]
    }
   ],
   "source": [
    "from numpy import *\n",
    "arr = array([1,2,3,4,5,6])\n",
    "print(arr)"
   ]
  },
  {
   "cell_type": "code",
   "execution_count": null,
   "id": "f69c83d4-b1ba-49f1-aaec-5c34047ccaf1",
   "metadata": {},
   "outputs": [],
   "source": []
  }
 ],
 "metadata": {
  "kernelspec": {
   "display_name": "Python [conda env:base] *",
   "language": "python",
   "name": "conda-base-py"
  },
  "language_info": {
   "codemirror_mode": {
    "name": "ipython",
    "version": 3
   },
   "file_extension": ".py",
   "mimetype": "text/x-python",
   "name": "python",
   "nbconvert_exporter": "python",
   "pygments_lexer": "ipython3",
   "version": "3.12.7"
  }
 },
 "nbformat": 4,
 "nbformat_minor": 5
}
