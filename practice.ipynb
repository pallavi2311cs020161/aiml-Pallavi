{
 "cells": [
  {
   "cell_type": "code",
   "execution_count": 3,
   "id": "fb85885a-e994-40b3-a8f8-82d0c4f8f8bf",
   "metadata": {},
   "outputs": [],
   "source": [
    "#Conventional if-else"
   ]
  },
  {
   "cell_type": "code",
   "execution_count": 17,
   "id": "ff0bfc99-813b-4782-b364-fc3ca06be4fe",
   "metadata": {},
   "outputs": [
    {
     "name": "stdout",
     "output_type": "stream",
     "text": [
      "even\n"
     ]
    }
   ],
   "source": [
    "num = 6\n",
    "if num %2 == 0:\n",
    "    print(\"even\")\n",
    "else:\n",
    "    print(\"odd\")"
   ]
  },
  {
   "cell_type": "code",
   "execution_count": null,
   "id": "624aa3b2-4a0a-4469-afa3-bd54825cec38",
   "metadata": {},
   "outputs": [],
   "source": [
    "num = 5\n",
    "if num %2 == 1:\n",
    "    print(\"odd\")\n",
    "else:\n",
    "    print(\"even\")\n",
    "    "
   ]
  },
  {
   "cell_type": "code",
   "execution_count": null,
   "id": "827121ab-ed38-4177-8eec-1c7d518607f0",
   "metadata": {},
   "outputs": [],
   "source": [
    "#nested if-else in one line"
   ]
  },
  {
   "cell_type": "code",
   "execution_count": 19,
   "id": "e72464ab-7346-4e67-a8c5-322cc06ad90a",
   "metadata": {},
   "outputs": [
    {
     "name": "stdout",
     "output_type": "stream",
     "text": [
      "Zero\n"
     ]
    }
   ],
   "source": [
    "num = 0\n",
    "result = \"Positive\" if num > 0 else (\"Negative\" if num > 0 else \"Zero\")\n",
    "print(result)"
   ]
  },
  {
   "cell_type": "code",
   "execution_count": 21,
   "id": "ace28927-949e-4012-8bf2-1ee169d802a0",
   "metadata": {},
   "outputs": [
    {
     "name": "stdout",
     "output_type": "stream",
     "text": [
      "Zero\n"
     ]
    }
   ],
   "source": [
    "num = 0\n",
    "result = \"Positive\" if num < 0 else (\"Negative\" if num < 0 else \"Zero\")\n",
    "print(result)"
   ]
  },
  {
   "cell_type": "code",
   "execution_count": null,
   "id": "83bfd3aa-2654-4eb5-82e0-864b38f7a66d",
   "metadata": {},
   "outputs": [],
   "source": [
    "#List Comprehension"
   ]
  },
  {
   "cell_type": "code",
   "execution_count": 23,
   "id": "d9a5fe29-9c9c-40c2-9592-3ef632b7c4b0",
   "metadata": {},
   "outputs": [
    {
     "data": {
      "text/plain": [
       "[2, 18, 4, 20, 112, 178]"
      ]
     },
     "execution_count": 23,
     "metadata": {},
     "output_type": "execute_result"
    }
   ],
   "source": [
    "L =[1,9,2,10,56,89]\n",
    "[2*x for x in L]"
   ]
  },
  {
   "cell_type": "code",
   "execution_count": 25,
   "id": "e7320538-5e76-444c-a8dc-db647b0dc177",
   "metadata": {},
   "outputs": [
    {
     "data": {
      "text/plain": [
       "[3, 27, 6, 30, 168, 267]"
      ]
     },
     "execution_count": 25,
     "metadata": {},
     "output_type": "execute_result"
    }
   ],
   "source": [
    "L =[1,9,2,10,56,89]\n",
    "[3*x for x in L]"
   ]
  },
  {
   "cell_type": "code",
   "execution_count": 27,
   "id": "022438c7-0461-4212-ba4c-4eefae020b93",
   "metadata": {},
   "outputs": [
    {
     "data": {
      "text/plain": [
       "[2, 10, 56]"
      ]
     },
     "execution_count": 27,
     "metadata": {},
     "output_type": "execute_result"
    }
   ],
   "source": [
    "L =[1,9,2,10,56,89]\n",
    "[x for x in L if x%2 == 0]"
   ]
  },
  {
   "cell_type": "code",
   "execution_count": 29,
   "id": "6fa402bc-4727-45a5-8630-dc48379945a6",
   "metadata": {},
   "outputs": [
    {
     "data": {
      "text/plain": [
       "[1, 9, 89]"
      ]
     },
     "execution_count": 29,
     "metadata": {},
     "output_type": "execute_result"
    }
   ],
   "source": [
    "L = [1,9,2,10,56,89]\n",
    "[x for x in L if x%2 == 1]"
   ]
  },
  {
   "cell_type": "code",
   "execution_count": null,
   "id": "c1ca1a56-17f4-4b83-8f19-7a43fb0e7661",
   "metadata": {},
   "outputs": [],
   "source": [
    "#print avg value fo=rom the list comprehension"
   ]
  },
  {
   "cell_type": "code",
   "execution_count": 31,
   "id": "d4614aaf-1c24-46af-b9b9-c9807508bc90",
   "metadata": {},
   "outputs": [
    {
     "data": {
      "text/plain": [
       "27.833333333333332"
      ]
     },
     "execution_count": 31,
     "metadata": {},
     "output_type": "execute_result"
    }
   ],
   "source": [
    "L = [1,9,2,10,56,89]\n",
    "sum([ x for x in L])/len(L)"
   ]
  },
  {
   "cell_type": "code",
   "execution_count": null,
   "id": "931ea1ce-31d9-4927-9b6a-4f4b595b44b7",
   "metadata": {},
   "outputs": [],
   "source": [
    "#Dictionary comprehension"
   ]
  },
  {
   "cell_type": "code",
   "execution_count": 33,
   "id": "075d6e80-6f78-46ba-92e1-5c30353cd535",
   "metadata": {},
   "outputs": [
    {
     "data": {
      "text/plain": [
       "{'Ram': [70, 71, 98, 100], 'Jhon': [56, 98, 67, 65]}"
      ]
     },
     "execution_count": 33,
     "metadata": {},
     "output_type": "execute_result"
    }
   ],
   "source": [
    "d1 = {'Ram':[70,71,98,100], 'Jhon':[56,98,67,65]}\n",
    "d1"
   ]
  },
  {
   "cell_type": "code",
   "execution_count": null,
   "id": "0daa7a6e-5916-4954-9e6b-26426a19ac8e",
   "metadata": {},
   "outputs": [],
   "source": [
    "#Define function (reusable)"
   ]
  },
  {
   "cell_type": "code",
   "execution_count": 37,
   "id": "31fc3ab2-2dd7-44e5-a02f-3b04cf3cffd5",
   "metadata": {},
   "outputs": [],
   "source": [
    "def mean_value(given_list):\n",
    "    total = sum(given_list)\n",
    "    average_value = total/len(given_list)\n",
    "    return average_value"
   ]
  },
  {
   "cell_type": "code",
   "execution_count": null,
   "id": "06d096d8-c5d6-41c3-86ac-3209f9d1fed5",
   "metadata": {},
   "outputs": [],
   "source": [
    "#Call the function"
   ]
  },
  {
   "cell_type": "code",
   "execution_count": 39,
   "id": "036dc4f4-09c5-45a3-9115-1aea6f178d91",
   "metadata": {},
   "outputs": [
    {
     "data": {
      "text/plain": [
       "5.5"
      ]
     },
     "execution_count": 39,
     "metadata": {},
     "output_type": "execute_result"
    }
   ],
   "source": [
    "L = [1,2,3,4,5,6,7,8,9,10]\n",
    "mean_value(L)"
   ]
  },
  {
   "cell_type": "code",
   "execution_count": null,
   "id": "9f66de89-4715-4b3f-aa89-31f2f6555a55",
   "metadata": {},
   "outputs": [],
   "source": [
    "#Greeting"
   ]
  },
  {
   "cell_type": "code",
   "execution_count": 13,
   "id": "92d2c25c-d954-4210-9590-a61c60069874",
   "metadata": {},
   "outputs": [],
   "source": [
    "def greet(name):\n",
    "    print(f\"Good Morning {name}!\")"
   ]
  },
  {
   "cell_type": "code",
   "execution_count": null,
   "id": "eceaa2a7-cf3e-4c98-b972-cd1c89c83017",
   "metadata": {},
   "outputs": [],
   "source": [
    "#Lambda functions"
   ]
  },
  {
   "cell_type": "code",
   "execution_count": 7,
   "id": "39651b4e-558d-4455-9edd-87bdbc37b52d",
   "metadata": {},
   "outputs": [
    {
     "name": "stdout",
     "output_type": "stream",
     "text": [
      "Good morning Soumya!\n"
     ]
    }
   ],
   "source": [
    "greet = lambda name : print(f\"Good morning {name}!\")\n",
    "greet(\"Soumya\")"
   ]
  },
  {
   "cell_type": "code",
   "execution_count": 41,
   "id": "ddec1b84-9865-45eb-a560-acf41eb13040",
   "metadata": {},
   "outputs": [],
   "source": [
    "#product of 3 numbers"
   ]
  },
  {
   "cell_type": "code",
   "execution_count": 47,
   "id": "b29fabf2-a29d-4f0f-9389-92a8cccc53ac",
   "metadata": {},
   "outputs": [
    {
     "data": {
      "text/plain": [
       "24000"
      ]
     },
     "execution_count": 47,
     "metadata": {},
     "output_type": "execute_result"
    }
   ],
   "source": [
    "product = lambda a,b,c : a*b*c\n",
    "product(20,30,40)"
   ]
  },
  {
   "cell_type": "code",
   "execution_count": 57,
   "id": "576c2c4a-bb2c-408a-a6eb-e2cbf5837102",
   "metadata": {},
   "outputs": [
    {
     "name": "stdout",
     "output_type": "stream",
     "text": [
      "3.0\n"
     ]
    }
   ],
   "source": [
    " #take three values and compute average number\n",
    "average = lambda a, b, c: (a + b + c)/3\n",
    "result = average(2, 3, 4)\n",
    "print(result)"
   ]
  },
  {
   "cell_type": "code",
   "execution_count": 59,
   "id": "22109241-b12a-4d8c-9344-f62ec22f9c92",
   "metadata": {},
   "outputs": [
    {
     "data": {
      "text/plain": [
       "[100, 38, 56, 20]"
      ]
     },
     "execution_count": 59,
     "metadata": {},
     "output_type": "execute_result"
    }
   ],
   "source": [
    "#Lambda functions with list comprehension\n",
    "even = lambda L : [x for x in L if x%2 ==0]\n",
    "my_list = [100,3,9,38,43,56,20]\n",
    "even(my_list)"
   ]
  },
  {
   "cell_type": "code",
   "execution_count": 63,
   "id": "485cdb6e-c134-4d53-8197-7ccdf4dba836",
   "metadata": {},
   "outputs": [
    {
     "data": {
      "text/plain": [
       "[3, 9, 43]"
      ]
     },
     "execution_count": 63,
     "metadata": {},
     "output_type": "execute_result"
    }
   ],
   "source": [
    "odd = lambda L : [x for x in L if x%2 ==1]\n",
    "my_list = [100,3,9,38,43,56,20]\n",
    "odd(my_list)"
   ]
  },
  {
   "cell_type": "code",
   "execution_count": null,
   "id": "953cba55-b85c-4676-b3f6-39f34626132e",
   "metadata": {},
   "outputs": [],
   "source": []
  }
 ],
 "metadata": {
  "kernelspec": {
   "display_name": "Python [conda env:base] *",
   "language": "python",
   "name": "conda-base-py"
  },
  "language_info": {
   "codemirror_mode": {
    "name": "ipython",
    "version": 3
   },
   "file_extension": ".py",
   "mimetype": "text/x-python",
   "name": "python",
   "nbconvert_exporter": "python",
   "pygments_lexer": "ipython3",
   "version": "3.12.7"
  }
 },
 "nbformat": 4,
 "nbformat_minor": 5
}
