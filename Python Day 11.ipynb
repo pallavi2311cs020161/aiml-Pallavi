{
 "cells": [
  {
   "cell_type": "markdown",
   "id": "d8c914d8-93fe-42e4-b7e4-d502d3ac913f",
   "metadata": {},
   "source": [
    "#### Ways of creating Numpy"
   ]
  },
  {
   "cell_type": "code",
   "execution_count": 7,
   "id": "eaf5ea54-ed4a-4a64-8871-75f84a3d58ee",
   "metadata": {},
   "outputs": [],
   "source": [
    "from numpy import*"
   ]
  },
  {
   "cell_type": "code",
   "execution_count": 19,
   "id": "1eae1ad9-cebe-4d97-8fb3-3175bb032802",
   "metadata": {},
   "outputs": [
    {
     "name": "stdout",
     "output_type": "stream",
     "text": [
      "[1 2 3 4 5]\n"
     ]
    }
   ],
   "source": [
    "arr = array([1,2,3,4,5])\n",
    "print(arr)"
   ]
  },
  {
   "cell_type": "code",
   "execution_count": 17,
   "id": "129bb717-f074-4f1c-833d-8a0c12edd422",
   "metadata": {},
   "outputs": [
    {
     "name": "stdout",
     "output_type": "stream",
     "text": [
      "int32\n"
     ]
    }
   ],
   "source": [
    "arr = array([1,2,3,4,5])\n",
    "print(arr.dtype)"
   ]
  },
  {
   "cell_type": "code",
   "execution_count": 11,
   "id": "e3de9eca-917c-46cd-9637-fe945a730fb4",
   "metadata": {},
   "outputs": [
    {
     "name": "stdout",
     "output_type": "stream",
     "text": [
      "float64\n"
     ]
    }
   ],
   "source": [
    "arr = array([1,2,3,4,5.0])\n",
    "print(arr.dtype)"
   ]
  },
  {
   "cell_type": "code",
   "execution_count": 21,
   "id": "02f9d7b4-a5fc-48bb-806f-3eb5fa4e44f7",
   "metadata": {},
   "outputs": [
    {
     "name": "stdout",
     "output_type": "stream",
     "text": [
      "float64\n",
      "[1. 2. 3. 4. 5.]\n"
     ]
    }
   ],
   "source": [
    "arr = array([1,2,3,4,5.0])\n",
    "print(arr.dtype)\n",
    "print(arr)"
   ]
  },
  {
   "cell_type": "code",
   "execution_count": 23,
   "id": "5ffbd724-bfd7-4c44-a57a-b5c3dce82c19",
   "metadata": {},
   "outputs": [
    {
     "name": "stdout",
     "output_type": "stream",
     "text": [
      "float64\n",
      "[1. 2. 3. 4. 5.]\n"
     ]
    }
   ],
   "source": [
    "arr = array([1,2,3,4,5.0],float)\n",
    "print(arr.dtype)\n",
    "print(arr)"
   ]
  },
  {
   "cell_type": "code",
   "execution_count": 25,
   "id": "01eb399f-0b6c-4ec9-88d3-67b5d3892ecf",
   "metadata": {},
   "outputs": [
    {
     "name": "stdout",
     "output_type": "stream",
     "text": [
      "[ 0.          1.77777778  3.55555556  5.33333333  7.11111111  8.88888889\n",
      " 10.66666667 12.44444444 14.22222222 16.        ]\n"
     ]
    }
   ],
   "source": [
    "arr = linspace(0,16,10)\n",
    "print(arr)"
   ]
  },
  {
   "cell_type": "code",
   "execution_count": 29,
   "id": "4307a692-742b-4001-9da4-2f836c37cd73",
   "metadata": {},
   "outputs": [
    {
     "name": "stdout",
     "output_type": "stream",
     "text": [
      "[ 0.          1.46153846  2.92307692  4.38461538  5.84615385  7.30769231\n",
      "  8.76923077 10.23076923 11.69230769 13.15384615 14.61538462 16.07692308\n",
      " 17.53846154 19.        ]\n"
     ]
    }
   ],
   "source": [
    "arr = linspace(0,19,14)\n",
    "print(arr)"
   ]
  },
  {
   "cell_type": "code",
   "execution_count": 31,
   "id": "8130b9e4-3d36-4989-abde-374ff991a58a",
   "metadata": {},
   "outputs": [
    {
     "name": "stdout",
     "output_type": "stream",
     "text": [
      "[ 0.          0.3877551   0.7755102   1.16326531  1.55102041  1.93877551\n",
      "  2.32653061  2.71428571  3.10204082  3.48979592  3.87755102  4.26530612\n",
      "  4.65306122  5.04081633  5.42857143  5.81632653  6.20408163  6.59183673\n",
      "  6.97959184  7.36734694  7.75510204  8.14285714  8.53061224  8.91836735\n",
      "  9.30612245  9.69387755 10.08163265 10.46938776 10.85714286 11.24489796\n",
      " 11.63265306 12.02040816 12.40816327 12.79591837 13.18367347 13.57142857\n",
      " 13.95918367 14.34693878 14.73469388 15.12244898 15.51020408 15.89795918\n",
      " 16.28571429 16.67346939 17.06122449 17.44897959 17.83673469 18.2244898\n",
      " 18.6122449  19.        ]\n"
     ]
    }
   ],
   "source": [
    "arr = linspace(0,19)\n",
    "print(arr)"
   ]
  },
  {
   "cell_type": "code",
   "execution_count": 33,
   "id": "0ac4711d-e81b-4111-8683-16c249394037",
   "metadata": {},
   "outputs": [
    {
     "name": "stdout",
     "output_type": "stream",
     "text": [
      "[ 1  3  5  7  9 11 13]\n"
     ]
    }
   ],
   "source": [
    "arr = arange(1,15,2)\n",
    "print(arr)"
   ]
  },
  {
   "cell_type": "code",
   "execution_count": 37,
   "id": "f66f7e0a-5903-41c2-85f1-cafb54a3a180",
   "metadata": {},
   "outputs": [
    {
     "name": "stdout",
     "output_type": "stream",
     "text": [
      "[1.00000000e+01 5.62341325e+10 3.16227766e+20 1.77827941e+30\n",
      " 1.00000000e+40]\n"
     ]
    }
   ],
   "source": [
    "arr = logspace(1,40,5)\n",
    "print(arr)"
   ]
  },
  {
   "cell_type": "code",
   "execution_count": 41,
   "id": "a8823b29-fe3f-4cb7-bc03-9898369577a2",
   "metadata": {},
   "outputs": [
    {
     "name": "stdout",
     "output_type": "stream",
     "text": [
      "10000000000000000303786028427003666890752.00\n"
     ]
    }
   ],
   "source": [
    "arr = logspace(1,40,5)\n",
    "print('%.2f' %arr[4])"
   ]
  },
  {
   "cell_type": "code",
   "execution_count": 43,
   "id": "75f21ba0-4640-41aa-b807-4c5e5a44eda8",
   "metadata": {},
   "outputs": [
    {
     "name": "stdout",
     "output_type": "stream",
     "text": [
      "[0. 0. 0. 0. 0.]\n"
     ]
    }
   ],
   "source": [
    "arr = zeros(5)\n",
    "print(arr)"
   ]
  },
  {
   "cell_type": "code",
   "execution_count": 59,
   "id": "0278d023-4bfa-4c6c-a457-b3072526fba5",
   "metadata": {},
   "outputs": [
    {
     "name": "stdout",
     "output_type": "stream",
     "text": [
      "[1. 1. 1. 1. 1.]\n"
     ]
    }
   ],
   "source": [
    "arr = ones(5)\n",
    "print(arr)"
   ]
  },
  {
   "cell_type": "code",
   "execution_count": 47,
   "id": "65477957-288e-47b9-b8b8-669a6a6300ad",
   "metadata": {},
   "outputs": [
    {
     "name": "stdout",
     "output_type": "stream",
     "text": [
      "[1 1 1 1 1]\n"
     ]
    }
   ],
   "source": [
    "arr = ones(5,int)\n",
    "print(arr)"
   ]
  },
  {
   "cell_type": "markdown",
   "id": "e04274a7-a3aa-4fcd-8d40-454dbac68f02",
   "metadata": {},
   "source": [
    "#### Coping,adding,Aalising an Array"
   ]
  },
  {
   "cell_type": "code",
   "execution_count": 62,
   "id": "63431649-2324-4da5-b808-c9cdcf6482e0",
   "metadata": {},
   "outputs": [
    {
     "name": "stdout",
     "output_type": "stream",
     "text": [
      "[ 6  7  8  9 10]\n"
     ]
    }
   ],
   "source": [
    "arr = array([1,2,3,4,5])\n",
    "arr = arr + 5\n",
    "print(arr)"
   ]
  },
  {
   "cell_type": "code",
   "execution_count": 66,
   "id": "81e30ce6-cd99-4390-afc8-5ec331a1d66a",
   "metadata": {},
   "outputs": [
    {
     "name": "stdout",
     "output_type": "stream",
     "text": [
      "[6 8 5 5 8]\n"
     ]
    }
   ],
   "source": [
    "arr1 = array([1,2,3,4,5])\n",
    "arr2 = array([5,6,2,1,3])\n",
    "arr3 = arr1 + arr2\n",
    "print(arr3)"
   ]
  },
  {
   "cell_type": "code",
   "execution_count": 80,
   "id": "0acff85b-e2b1-40f9-a5a1-0d354dc1fe06",
   "metadata": {},
   "outputs": [
    {
     "name": "stdout",
     "output_type": "stream",
     "text": [
      "[ 0.84147098  0.90929743  0.14112001 -0.7568025  -0.95892427]\n"
     ]
    }
   ],
   "source": [
    "arr1 = array([1,2,3,4,5])\n",
    "\n",
    "\n",
    "print(sin(arr1))"
   ]
  },
  {
   "cell_type": "code",
   "execution_count": 78,
   "id": "a59d0c9b-b233-4853-9e33-af0c251d02dc",
   "metadata": {},
   "outputs": [
    {
     "name": "stdout",
     "output_type": "stream",
     "text": [
      "[ 0.54030231 -0.41614684 -0.9899925  -0.65364362  0.28366219]\n"
     ]
    }
   ],
   "source": [
    "arr1 = array([1,2,3,4,5])\n",
    "\n",
    "\n",
    "print(cos(arr1))"
   ]
  },
  {
   "cell_type": "code",
   "execution_count": 76,
   "id": "9bb257f5-5283-4b3e-ae23-759422c7f6d2",
   "metadata": {},
   "outputs": [
    {
     "name": "stdout",
     "output_type": "stream",
     "text": [
      "[0.         0.69314718 1.09861229 1.38629436 1.60943791]\n"
     ]
    }
   ],
   "source": [
    "arr1 = array([1,2,3,4,5])\n",
    "\n",
    "\n",
    "print(log(arr1))"
   ]
  },
  {
   "cell_type": "code",
   "execution_count": 82,
   "id": "29010924-1a07-4a2c-9dfb-3362b5cece8e",
   "metadata": {},
   "outputs": [
    {
     "name": "stdout",
     "output_type": "stream",
     "text": [
      "[1.         1.41421356 1.73205081 2.         2.23606798]\n"
     ]
    }
   ],
   "source": [
    "arr1 = array([1,2,3,4,5])\n",
    "\n",
    "\n",
    "print(sqrt(arr1))"
   ]
  },
  {
   "cell_type": "code",
   "execution_count": 84,
   "id": "409f30b7-0b66-4cd4-86a0-abad705236f3",
   "metadata": {},
   "outputs": [
    {
     "name": "stdout",
     "output_type": "stream",
     "text": [
      "15\n"
     ]
    }
   ],
   "source": [
    "arr1 = array([1,2,3,4,5])\n",
    "\n",
    "\n",
    "print(sum(arr1))"
   ]
  },
  {
   "cell_type": "code",
   "execution_count": 86,
   "id": "d3c33206-8c36-42b4-bf22-c11024b4f1e7",
   "metadata": {},
   "outputs": [
    {
     "name": "stdout",
     "output_type": "stream",
     "text": [
      "1\n"
     ]
    }
   ],
   "source": [
    "arr1 = array([1,2,3,4,5])\n",
    "\n",
    "\n",
    "print(min(arr1))"
   ]
  },
  {
   "cell_type": "code",
   "execution_count": 88,
   "id": "26b9f061-d53c-48f2-a40e-c9327e361be7",
   "metadata": {},
   "outputs": [
    {
     "name": "stdout",
     "output_type": "stream",
     "text": [
      "5\n"
     ]
    }
   ],
   "source": [
    "arr1 = array([1,2,3,4,5])\n",
    "\n",
    "\n",
    "print(max(arr1))"
   ]
  },
  {
   "cell_type": "code",
   "execution_count": 92,
   "id": "00f0f009-7fd3-4b86-99cb-d4b928b49d96",
   "metadata": {},
   "outputs": [
    {
     "name": "stdout",
     "output_type": "stream",
     "text": [
      "[1 2 3 4 5 5 6 2 1 3]\n"
     ]
    }
   ],
   "source": [
    "arr1 = array([1,2,3,4,5])\n",
    "arr2 = array([5,6,2,1,3])\n",
    "\n",
    "print(concatenate([arr1,arr2]))"
   ]
  },
  {
   "cell_type": "code",
   "execution_count": 94,
   "id": "7d648622-c5b3-4636-a511-54418430714d",
   "metadata": {},
   "outputs": [
    {
     "name": "stdout",
     "output_type": "stream",
     "text": [
      "[2 4 5 6 7]\n",
      "[2 4 5 6 7]\n"
     ]
    }
   ],
   "source": [
    "arr1 = array([2,4,5,6,7])\n",
    "arr2 = arr1\n",
    "print(arr1)\n",
    "print(arr2)"
   ]
  },
  {
   "cell_type": "code",
   "execution_count": 96,
   "id": "0a6c687b-c469-49e9-9c1d-f1c24c3ad7e5",
   "metadata": {},
   "outputs": [
    {
     "name": "stdout",
     "output_type": "stream",
     "text": [
      "[2 4 5 6 7]\n",
      "[2 4 5 6 7]\n",
      "1568385559376\n",
      "1568385559376\n"
     ]
    }
   ],
   "source": [
    "arr1 = array([2,4,5,6,7])\n",
    "arr2 = arr1\n",
    "print(arr1)\n",
    "print(arr2)\n",
    "print(id(arr1))\n",
    "print(id(arr2))"
   ]
  },
  {
   "cell_type": "code",
   "execution_count": 98,
   "id": "46f6af87-956d-4947-a3cf-9185ab8bdccd",
   "metadata": {},
   "outputs": [
    {
     "name": "stdout",
     "output_type": "stream",
     "text": [
      "[2 4 5 6 7]\n",
      "[2 4 5 6 7]\n",
      "1568385562448\n",
      "1568385564560\n"
     ]
    }
   ],
   "source": [
    "arr1 = array([2,4,5,6,7])\n",
    "arr2 = arr1.view()\n",
    "print(arr1)\n",
    "print(arr2)\n",
    "print(id(arr1))\n",
    "print(id(arr2))"
   ]
  },
  {
   "cell_type": "code",
   "execution_count": 100,
   "id": "bc5e201e-e1fa-4202-a779-b29c84721eb3",
   "metadata": {},
   "outputs": [
    {
     "name": "stdout",
     "output_type": "stream",
     "text": [
      "[2 9 5 6 7]\n",
      "[2 4 5 6 7]\n",
      "1568385559472\n",
      "1568387414608\n"
     ]
    }
   ],
   "source": [
    "arr1 = array([2,4,5,6,7])\n",
    "arr2 = arr1.copy()\n",
    "arr1[1] = 9\n",
    "print(arr1)\n",
    "print(arr2)\n",
    "print(id(arr1))\n",
    "print(id(arr2))"
   ]
  },
  {
   "cell_type": "code",
   "execution_count": 102,
   "id": "ed329153-9807-4ef4-8b15-ca692f290bd9",
   "metadata": {},
   "outputs": [
    {
     "name": "stdout",
     "output_type": "stream",
     "text": [
      "[2 9 5 6 7]\n",
      "[2 9 5 6 7]\n",
      "1568385562448\n",
      "1568385559472\n"
     ]
    }
   ],
   "source": [
    "arr1 = array([2,4,5,6,7])\n",
    "arr2 = arr1.view()\n",
    "arr1[1] = 9\n",
    "print(arr1)\n",
    "print(arr2)\n",
    "print(id(arr1))\n",
    "print(id(arr2))"
   ]
  },
  {
   "cell_type": "markdown",
   "id": "05a4d206-8e45-41d0-93a7-5350ecd3bfb6",
   "metadata": {},
   "source": [
    "#### Working with Matrix in Python"
   ]
  },
  {
   "cell_type": "code",
   "execution_count": 113,
   "id": "98e3da3a-c304-472b-8cbc-834bc427e373",
   "metadata": {},
   "outputs": [
    {
     "name": "stdout",
     "output_type": "stream",
     "text": [
      "[[1 9 7]\n",
      " [2 5 7]]\n"
     ]
    }
   ],
   "source": [
    "from numpy import *\n",
    "arr1 = array([\n",
    "    [1,9,7],\n",
    "    [2,5,7]\n",
    "])\n",
    "print(arr1)"
   ]
  },
  {
   "cell_type": "code",
   "execution_count": 115,
   "id": "fd680e01-07db-4f8b-9599-9ed9d6cd1607",
   "metadata": {},
   "outputs": [
    {
     "name": "stdout",
     "output_type": "stream",
     "text": [
      "(2, 3)\n"
     ]
    }
   ],
   "source": [
    "from numpy import *\n",
    "arr1 = array([\n",
    "    [1,9,7],\n",
    "    [2,5,7]\n",
    "])\n",
    "print(arr1.shape)"
   ]
  },
  {
   "cell_type": "code",
   "execution_count": 117,
   "id": "992971e9-2115-4feb-b4c6-3c2457255fd0",
   "metadata": {},
   "outputs": [
    {
     "name": "stdout",
     "output_type": "stream",
     "text": [
      "int32\n"
     ]
    }
   ],
   "source": [
    "from numpy import *\n",
    "arr1 = array([\n",
    "    [1,9,7],\n",
    "    [2,5,7]\n",
    "])\n",
    "print(arr1.dtype)"
   ]
  },
  {
   "cell_type": "code",
   "execution_count": 119,
   "id": "cba5127f-b5a7-41e1-a4e4-e7d48eefe447",
   "metadata": {},
   "outputs": [
    {
     "name": "stdout",
     "output_type": "stream",
     "text": [
      "2\n"
     ]
    }
   ],
   "source": [
    "from numpy import *\n",
    "arr1 = array([\n",
    "    [1,9,7],\n",
    "    [2,5,7]\n",
    "])\n",
    "print(arr1.ndim)"
   ]
  },
  {
   "cell_type": "code",
   "execution_count": 121,
   "id": "56cebb24-1fdb-475f-8759-52ab18c6cf16",
   "metadata": {},
   "outputs": [
    {
     "name": "stdout",
     "output_type": "stream",
     "text": [
      "(2, 3)\n"
     ]
    }
   ],
   "source": [
    "from numpy import *\n",
    "arr1 = array([\n",
    "    [1,9,7],\n",
    "    [2,5,7]\n",
    "])\n",
    "print(arr1.shape)"
   ]
  },
  {
   "cell_type": "code",
   "execution_count": 123,
   "id": "2d8c8f8b-d4e6-4b0c-9f11-5bebc87082bd",
   "metadata": {},
   "outputs": [
    {
     "name": "stdout",
     "output_type": "stream",
     "text": [
      "6\n"
     ]
    }
   ],
   "source": [
    "from numpy import *\n",
    "arr1 = array([\n",
    "    [1,9,7],\n",
    "    [2,5,7]\n",
    "])\n",
    "print(arr1.size)"
   ]
  },
  {
   "cell_type": "code",
   "execution_count": 137,
   "id": "2ede39c4-512e-4c5e-8b7f-fef99351587f",
   "metadata": {},
   "outputs": [
    {
     "name": "stdout",
     "output_type": "stream",
     "text": [
      "[[[1 2 3]\n",
      "  [6 2 9]]\n",
      "\n",
      " [[4 5 6]\n",
      "  [7 5 3]]]\n"
     ]
    }
   ],
   "source": [
    "from numpy import *\n",
    "arr1 = array([\n",
    "    [1,2,3,6,2,9],\n",
    "    [4,5,6,7,5,3]\n",
    "])\n",
    "arr2 = arr1.flatten()\n",
    "arr3 = arr2.reshape(2,2,3)\n",
    "\n",
    "print(arr3)"
   ]
  },
  {
   "cell_type": "code",
   "execution_count": 149,
   "id": "1d57e85a-997e-482c-af29-83fe84df6e3e",
   "metadata": {},
   "outputs": [
    {
     "name": "stdout",
     "output_type": "stream",
     "text": [
      "[[[1 2 3]\n",
      "  [6 2 9]]\n",
      "\n",
      " [[4 5 6]\n",
      "  [7 5 3]]]\n"
     ]
    }
   ],
   "source": [
    "from numpy import *\n",
    "arr1 = array([\n",
    "    [1,2,3,6],\n",
    "    [4,5,6,7]\n",
    "])\n",
    "m = matrix(arr1)\n",
    "\n",
    "\n",
    "\n",
    "print(arr3)"
   ]
  },
  {
   "cell_type": "code",
   "execution_count": 151,
   "id": "5fe06ac2-9e9b-4ac4-ab67-3307d3d06042",
   "metadata": {},
   "outputs": [
    {
     "name": "stdout",
     "output_type": "stream",
     "text": [
      "[[[1 2 3]\n",
      "  [6 2 9]]\n",
      "\n",
      " [[4 5 6]\n",
      "  [7 5 3]]]\n"
     ]
    }
   ],
   "source": [
    "from numpy import *\n",
    "arr1 = array([\n",
    "    [1,2,3,6],\n",
    "    [4,5,6,7]\n",
    "])\n",
    "m = matrix('1 2 3 6 ; 4 5 6 7')\n",
    "\n",
    "\n",
    "\n",
    "print(arr3)"
   ]
  },
  {
   "cell_type": "code",
   "execution_count": 161,
   "id": "9b364eff-c565-4de8-b0ec-83ea0abf8869",
   "metadata": {},
   "outputs": [
    {
     "name": "stdout",
     "output_type": "stream",
     "text": [
      "[[1 2 3]\n",
      " [6 4 5]\n",
      " [1 6 7]]\n"
     ]
    }
   ],
   "source": [
    "from numpy import *\n",
    " \n",
    "m = matrix('1 2 3; 6 4 5; 1 6 7')\n",
    "print(m)"
   ]
  },
  {
   "cell_type": "code",
   "execution_count": 163,
   "id": "7d223c2c-ab08-492c-9cb5-4afded88546f",
   "metadata": {},
   "outputs": [
    {
     "name": "stdout",
     "output_type": "stream",
     "text": [
      "[1 4 7]\n"
     ]
    }
   ],
   "source": [
    "from numpy import *\n",
    " \n",
    "m = matrix('1 2 3; 6 4 5; 1 6 7')\n",
    "print(diagonal(m))"
   ]
  },
  {
   "cell_type": "code",
   "execution_count": 165,
   "id": "3dd70f13-ea32-4e9b-9cf1-e150b24fb4f0",
   "metadata": {},
   "outputs": [
    {
     "name": "stdout",
     "output_type": "stream",
     "text": [
      "1\n"
     ]
    }
   ],
   "source": [
    "from numpy import *\n",
    " \n",
    "m = matrix('1 2 3; 6 4 5; 1 6 7')\n",
    "print(m.min())"
   ]
  },
  {
   "cell_type": "code",
   "execution_count": 169,
   "id": "4d81ae9d-21de-467d-a47f-d24e4dad07c0",
   "metadata": {},
   "outputs": [
    {
     "name": "stdout",
     "output_type": "stream",
     "text": [
      "7\n"
     ]
    }
   ],
   "source": [
    "from numpy import *\n",
    " \n",
    "m = matrix('1 2 3; 6 4 5; 1 6 7')\n",
    "print(m.max())"
   ]
  },
  {
   "cell_type": "code",
   "execution_count": 173,
   "id": "8759509c-b8cf-4753-83e1-70554414bb71",
   "metadata": {},
   "outputs": [
    {
     "name": "stdout",
     "output_type": "stream",
     "text": [
      "[[10  7  6]\n",
      " [ 7 10 10]\n",
      " [ 3 10 14]]\n"
     ]
    }
   ],
   "source": [
    "from numpy import *\n",
    " \n",
    "m1 = matrix('1 2 3; 6 4 5; 1 6 7')\n",
    "m2 = matrix('9 5 3; 1 6 5; 2 4 7')\n",
    "\n",
    "m3 = m1 + m2;\n",
    "print(m3)"
   ]
  },
  {
   "cell_type": "code",
   "execution_count": 175,
   "id": "e3dd541a-04c3-42a1-a393-6b937c48e376",
   "metadata": {},
   "outputs": [
    {
     "name": "stdout",
     "output_type": "stream",
     "text": [
      "[[17 29 34]\n",
      " [68 74 73]\n",
      " [29 69 82]]\n"
     ]
    }
   ],
   "source": [
    "from numpy import *\n",
    " \n",
    "m1 = matrix('1 2 3; 6 4 5; 1 6 7')\n",
    "m2 = matrix('9 5 3; 1 6 5; 2 4 7')\n",
    "\n",
    "m3 = m1 * m2;\n",
    "print(m3)"
   ]
  },
  {
   "cell_type": "code",
   "execution_count": null,
   "id": "cc5783a6-0bfe-49f1-8acd-75a3b18c8a56",
   "metadata": {},
   "outputs": [],
   "source": []
  }
 ],
 "metadata": {
  "kernelspec": {
   "display_name": "Python [conda env:base] *",
   "language": "python",
   "name": "conda-base-py"
  },
  "language_info": {
   "codemirror_mode": {
    "name": "ipython",
    "version": 3
   },
   "file_extension": ".py",
   "mimetype": "text/x-python",
   "name": "python",
   "nbconvert_exporter": "python",
   "pygments_lexer": "ipython3",
   "version": "3.12.7"
  }
 },
 "nbformat": 4,
 "nbformat_minor": 5
}
