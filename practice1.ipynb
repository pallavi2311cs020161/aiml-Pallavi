{
 "cells": [
  {
   "cell_type": "code",
   "execution_count": 1,
   "id": "1c47a7db-b4fb-45e5-8177-e85ad7007d2c",
   "metadata": {},
   "outputs": [
    {
     "name": "stdout",
     "output_type": "stream",
     "text": [
      "{'Virat': 90, 'Rohit': 100, 'Rahul': 70, 'Hardik': 9, 'Gill': 20, 'Jadeja': 30, 'Siraz': 15, 'Aswin': 15}\n"
     ]
    }
   ],
   "source": [
    "scores={\"Virat\":90,\n",
    "        \"Rohit\":100,\n",
    "        \"Rahul\":70,\n",
    "        \"Hardik\":9,\n",
    "        \"Gill\":20,\n",
    "        \"Jadeja\":30,\n",
    "        \"Siraz\":15}\n",
    "scores[\"Aswin\"]=15\n",
    "print(scores)"
   ]
  },
  {
   "cell_type": "code",
   "execution_count": 3,
   "id": "590e188a-e035-4953-8173-d74348e670d5",
   "metadata": {},
   "outputs": [
    {
     "data": {
      "text/plain": [
       "{'Virat': 90,\n",
       " 'Rohit': 100,\n",
       " 'Rahul': 70,\n",
       " 'Hardik': 9,\n",
       " 'Gill': 20,\n",
       " 'Jadeja': 30,\n",
       " 'Siraz': 15}"
      ]
     },
     "execution_count": 3,
     "metadata": {},
     "output_type": "execute_result"
    }
   ],
   "source": [
    "scores.popitem()\n",
    "scores"
   ]
  },
  {
   "cell_type": "code",
   "execution_count": null,
   "id": "49d56850-73a1-4773-8fc8-42c200db9f7f",
   "metadata": {},
   "outputs": [],
   "source": [
    "scores.get"
   ]
  },
  {
   "cell_type": "code",
   "execution_count": 5,
   "id": "581e2600-36b5-48a1-9359-37ab5621fbf2",
   "metadata": {},
   "outputs": [
    {
     "data": {
      "text/plain": [
       "{'A': 20, 'B': 20, 'C': 20, 'D': 20}"
      ]
     },
     "execution_count": 5,
     "metadata": {},
     "output_type": "execute_result"
    }
   ],
   "source": [
    "list1 = [\"A\",\"B\",\"C\",\"D\"]\n",
    "my_dict = dict.fromkeys(list1,20)\n",
    "my_dict"
   ]
  },
  {
   "cell_type": "code",
   "execution_count": 7,
   "id": "cf2f1198-c79d-4e33-a8f2-0984a1231483",
   "metadata": {},
   "outputs": [
    {
     "data": {
      "text/plain": [
       "{'A': 10, 'B': 10, 'C': 10, 'D': 10}"
      ]
     },
     "execution_count": 7,
     "metadata": {},
     "output_type": "execute_result"
    }
   ],
   "source": [
    "list1 = [\"A\",\"B\",\"C\",\"D\"]\n",
    "my_dict = dict.fromkeys(list1,10)\n",
    "my_dict"
   ]
  },
  {
   "cell_type": "code",
   "execution_count": null,
   "id": "4a1b96dd-1e50-4046-b83e-3b2bfb04426a",
   "metadata": {},
   "outputs": [],
   "source": [
    "print(scores.keys())\n",
    "print("
   ]
  },
  {
   "cell_type": "code",
   "execution_count": 11,
   "id": "58ed95f5-2622-419e-bd18-c9cd5e738ab4",
   "metadata": {},
   "outputs": [
    {
     "name": "stdout",
     "output_type": "stream",
     "text": [
      "{'Virat': 90, 'Rohit': 100, 'Rahul': 70, 'Hardik': 19, 'Gill': 20, 'Jadeja': 30, 'Siraz': 15}\n"
     ]
    }
   ],
   "source": [
    "for k in scores.keys():\n",
    "    if k == 'Hardik':\n",
    "        scores[k] = 19\n",
    "        print(scores)"
   ]
  },
  {
   "cell_type": "code",
   "execution_count": null,
   "id": "f058a352-c7c7-41f9-bda5-b17cd859a43c",
   "metadata": {},
   "outputs": [],
   "source": [
    "scores_list = []\n",
    "for v in scores.values():\n",
    "    scores_list.append(v)\n",
    "print(scores_list)\n",
    "pri"
   ]
  }
 ],
 "metadata": {
  "kernelspec": {
   "display_name": "Python [conda env:base] *",
   "language": "python",
   "name": "conda-base-py"
  },
  "language_info": {
   "codemirror_mode": {
    "name": "ipython",
    "version": 3
   },
   "file_extension": ".py",
   "mimetype": "text/x-python",
   "name": "python",
   "nbconvert_exporter": "python",
   "pygments_lexer": "ipython3",
   "version": "3.12.7"
  }
 },
 "nbformat": 4,
 "nbformat_minor": 5
}
