{
 "cells": [
  {
   "cell_type": "markdown",
   "id": "5186fc44-affd-4a56-9d61-50a65db79d26",
   "metadata": {},
   "source": [
    "#### Dictionary"
   ]
  },
  {
   "cell_type": "code",
   "execution_count": 2,
   "id": "7be5163a-c877-480c-92f7-1c52ac9f05a6",
   "metadata": {},
   "outputs": [
    {
     "data": {
      "text/plain": [
       "{1: 'Pallavi', 2: 'Vaishnavi', 3: 'Tejaswi', 4: 'Shruthi'}"
      ]
     },
     "execution_count": 2,
     "metadata": {},
     "output_type": "execute_result"
    }
   ],
   "source": [
    "data = {1:'Pallavi',2:'Vaishnavi',3:'Tejaswi',4:'Shruthi'}\n",
    "data"
   ]
  },
  {
   "cell_type": "code",
   "execution_count": 3,
   "id": "dfffd4cf-8478-415d-b72b-78996c36e3de",
   "metadata": {},
   "outputs": [
    {
     "data": {
      "text/plain": [
       "'Pallavi'"
      ]
     },
     "execution_count": 3,
     "metadata": {},
     "output_type": "execute_result"
    }
   ],
   "source": [
    "data[1]"
   ]
  },
  {
   "cell_type": "code",
   "execution_count": 4,
   "id": "f6dee6b4-f454-4b6b-b1da-40cf719b8fc0",
   "metadata": {},
   "outputs": [
    {
     "data": {
      "text/plain": [
       "'Shruthi'"
      ]
     },
     "execution_count": 4,
     "metadata": {},
     "output_type": "execute_result"
    }
   ],
   "source": [
    "data[4]"
   ]
  },
  {
   "cell_type": "code",
   "execution_count": 5,
   "id": "5ab3b89e-79ec-4a20-b3dd-e363d1115b2c",
   "metadata": {},
   "outputs": [
    {
     "data": {
      "text/plain": [
       "'Vaishnavi'"
      ]
     },
     "execution_count": 5,
     "metadata": {},
     "output_type": "execute_result"
    }
   ],
   "source": [
    "data.get(2)"
   ]
  },
  {
   "cell_type": "code",
   "execution_count": 6,
   "id": "dc460406-2d37-4a9a-9cdd-3e22307218fe",
   "metadata": {},
   "outputs": [
    {
     "data": {
      "text/plain": [
       "'Tejaswi'"
      ]
     },
     "execution_count": 6,
     "metadata": {},
     "output_type": "execute_result"
    }
   ],
   "source": [
    "data.pop(3)"
   ]
  },
  {
   "cell_type": "code",
   "execution_count": 7,
   "id": "f93fa831-9a6d-46bd-aab6-f2b86aa7952a",
   "metadata": {},
   "outputs": [
    {
     "data": {
      "text/plain": [
       "'Pallavi'"
      ]
     },
     "execution_count": 7,
     "metadata": {},
     "output_type": "execute_result"
    }
   ],
   "source": [
    "data.get(1,'Not found')"
   ]
  },
  {
   "cell_type": "code",
   "execution_count": 8,
   "id": "ce1ab6a4-3001-479e-b1ab-0aa0aba2d5f2",
   "metadata": {},
   "outputs": [
    {
     "data": {
      "text/plain": [
       "'Not found'"
      ]
     },
     "execution_count": 8,
     "metadata": {},
     "output_type": "execute_result"
    }
   ],
   "source": [
    "data.get(6,'Not found')"
   ]
  },
  {
   "cell_type": "code",
   "execution_count": 9,
   "id": "f7795556-925e-4294-be5f-45561c040db4",
   "metadata": {},
   "outputs": [],
   "source": [
    "keys = ('medak','Hyderabad','sangareddy')"
   ]
  },
  {
   "cell_type": "code",
   "execution_count": 10,
   "id": "6936eb69-28ee-45a4-864e-6083540a0d61",
   "metadata": {},
   "outputs": [
    {
     "data": {
      "text/plain": [
       "('medak', 'Hyderabad', 'sangareddy')"
      ]
     },
     "execution_count": 10,
     "metadata": {},
     "output_type": "execute_result"
    }
   ],
   "source": [
    "keys"
   ]
  },
  {
   "cell_type": "code",
   "execution_count": 11,
   "id": "dd649fd3-8d45-4866-a20c-4610e12b219a",
   "metadata": {},
   "outputs": [],
   "source": [
    "values = ('pallavi','pandu','sweety')"
   ]
  },
  {
   "cell_type": "code",
   "execution_count": 12,
   "id": "25271897-0108-42ae-9f28-eebbe07ffe40",
   "metadata": {},
   "outputs": [
    {
     "data": {
      "text/plain": [
       "('pallavi', 'pandu', 'sweety')"
      ]
     },
     "execution_count": 12,
     "metadata": {},
     "output_type": "execute_result"
    }
   ],
   "source": [
    "values"
   ]
  },
  {
   "cell_type": "code",
   "execution_count": 13,
   "id": "5a595f03-a423-4ad2-868b-10fbe6d012c3",
   "metadata": {},
   "outputs": [],
   "source": [
    "data = dict(zip(keys,values))"
   ]
  },
  {
   "cell_type": "code",
   "execution_count": 14,
   "id": "e7b10bda-3693-492f-9860-2c801080795b",
   "metadata": {},
   "outputs": [
    {
     "data": {
      "text/plain": [
       "{'medak': 'pallavi', 'Hyderabad': 'pandu', 'sangareddy': 'sweety'}"
      ]
     },
     "execution_count": 14,
     "metadata": {},
     "output_type": "execute_result"
    }
   ],
   "source": [
    "data"
   ]
  },
  {
   "cell_type": "code",
   "execution_count": 15,
   "id": "e241c29c-f019-4e15-bd52-4c16e61f4630",
   "metadata": {},
   "outputs": [
    {
     "data": {
      "text/plain": [
       "'pallavi'"
      ]
     },
     "execution_count": 15,
     "metadata": {},
     "output_type": "execute_result"
    }
   ],
   "source": [
    "data['medak']"
   ]
  },
  {
   "cell_type": "code",
   "execution_count": 16,
   "id": "cf8aa6cc-20a2-45b6-8a1d-985ce01240d9",
   "metadata": {},
   "outputs": [
    {
     "data": {
      "text/plain": [
       "'sangareddy'"
      ]
     },
     "execution_count": 16,
     "metadata": {},
     "output_type": "execute_result"
    }
   ],
   "source": [
    "keys[2]"
   ]
  },
  {
   "cell_type": "code",
   "execution_count": 17,
   "id": "e7124d4d-ea61-4a5a-a5c6-4e4ce9da4812",
   "metadata": {},
   "outputs": [
    {
     "data": {
      "text/plain": [
       "'sweety'"
      ]
     },
     "execution_count": 17,
     "metadata": {},
     "output_type": "execute_result"
    }
   ],
   "source": [
    "values[2]"
   ]
  },
  {
   "cell_type": "code",
   "execution_count": 18,
   "id": "9a511766-0c21-4543-883b-608fd97cbbc5",
   "metadata": {},
   "outputs": [],
   "source": [
    "del data['Hyderabad']"
   ]
  },
  {
   "cell_type": "code",
   "execution_count": 19,
   "id": "d4ac4b0d-f163-4cb9-8f6b-60eb1f16c7d8",
   "metadata": {},
   "outputs": [
    {
     "data": {
      "text/plain": [
       "{'medak': 'pallavi', 'sangareddy': 'sweety'}"
      ]
     },
     "execution_count": 19,
     "metadata": {},
     "output_type": "execute_result"
    }
   ],
   "source": [
    "data"
   ]
  },
  {
   "cell_type": "code",
   "execution_count": 20,
   "id": "882e1678-a355-401a-af28-22bea67bdbf2",
   "metadata": {},
   "outputs": [],
   "source": [
    "data = ['chennai']"
   ]
  },
  {
   "cell_type": "code",
   "execution_count": 21,
   "id": "6a125343-71bc-4f59-a44d-216427a462ff",
   "metadata": {},
   "outputs": [
    {
     "data": {
      "text/plain": [
       "['chennai']"
      ]
     },
     "execution_count": 21,
     "metadata": {},
     "output_type": "execute_result"
    }
   ],
   "source": [
    "data"
   ]
  },
  {
   "cell_type": "code",
   "execution_count": 22,
   "id": "04b8a322-3223-4cee-a977-466d9898bb43",
   "metadata": {},
   "outputs": [],
   "source": [
    "prog = {'MRU':'faculty','Hostel':'students','school':'friends','University':['staff','HOD','Dean'],'Home':{'Mother','Father'}}"
   ]
  },
  {
   "cell_type": "code",
   "execution_count": 23,
   "id": "3ac05c22-d14a-4613-ab39-8820070a1445",
   "metadata": {},
   "outputs": [
    {
     "data": {
      "text/plain": [
       "{'MRU': 'faculty',\n",
       " 'Hostel': 'students',\n",
       " 'school': 'friends',\n",
       " 'University': ['staff', 'HOD', 'Dean'],\n",
       " 'Home': {'Father', 'Mother'}}"
      ]
     },
     "execution_count": 23,
     "metadata": {},
     "output_type": "execute_result"
    }
   ],
   "source": [
    "prog"
   ]
  },
  {
   "cell_type": "code",
   "execution_count": 24,
   "id": "b0e5ae80-2b9a-4ae2-af0b-d29b33780e7d",
   "metadata": {},
   "outputs": [
    {
     "data": {
      "text/plain": [
       "'faculty'"
      ]
     },
     "execution_count": 24,
     "metadata": {},
     "output_type": "execute_result"
    }
   ],
   "source": [
    "prog['MRU']"
   ]
  },
  {
   "cell_type": "code",
   "execution_count": 25,
   "id": "ffb30d04-2718-46a6-b617-782ccbf43902",
   "metadata": {},
   "outputs": [
    {
     "data": {
      "text/plain": [
       "'HOD'"
      ]
     },
     "execution_count": 25,
     "metadata": {},
     "output_type": "execute_result"
    }
   ],
   "source": [
    "prog['University'][1]"
   ]
  },
  {
   "cell_type": "code",
   "execution_count": 26,
   "id": "e1ad320c-e681-43f4-b2fd-b53d6fed48f7",
   "metadata": {},
   "outputs": [
    {
     "data": {
      "text/plain": [
       "{'Father', 'Mother'}"
      ]
     },
     "execution_count": 26,
     "metadata": {},
     "output_type": "execute_result"
    }
   ],
   "source": [
    "prog['Home']"
   ]
  },
  {
   "cell_type": "code",
   "execution_count": null,
   "id": "62cdb8b8-a993-4de1-8539-068c9966912d",
   "metadata": {},
   "outputs": [],
   "source": []
  }
 ],
 "metadata": {
  "kernelspec": {
   "display_name": "Python [conda env:base] *",
   "language": "python",
   "name": "conda-base-py"
  },
  "language_info": {
   "codemirror_mode": {
    "name": "ipython",
    "version": 3
   },
   "file_extension": ".py",
   "mimetype": "text/x-python",
   "name": "python",
   "nbconvert_exporter": "python",
   "pygments_lexer": "ipython3",
   "version": "3.12.7"
  }
 },
 "nbformat": 4,
 "nbformat_minor": 5
}
