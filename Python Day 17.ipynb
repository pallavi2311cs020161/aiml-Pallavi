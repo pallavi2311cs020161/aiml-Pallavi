{
 "cells": [
  {
   "cell_type": "code",
   "execution_count": 2,
   "id": "7795af71-d118-44bb-bf36-827df2e65280",
   "metadata": {},
   "outputs": [
    {
     "name": "stdout",
     "output_type": "stream",
     "text": [
      "i5, 16gb,. 1TB\n",
      "i5, 16gb,. 1TB\n"
     ]
    }
   ],
   "source": [
    "class Computer:\n",
    "    def config(self):\n",
    "        print(\"i5, 16gb,. 1TB\")\n",
    "com1 = Computer()\n",
    "com2 = Computer()\n",
    "\n",
    "com1.config()\n",
    "com2.config()"
   ]
  },
  {
   "cell_type": "code",
   "execution_count": 4,
   "id": "26b28ec2-7bc5-49a8-b84b-be1f5fd5ac47",
   "metadata": {},
   "outputs": [
    {
     "name": "stdout",
     "output_type": "stream",
     "text": [
      "in init\n",
      "in init\n",
      "i5, 16gb,. 1TB\n",
      "i5, 16gb,. 1TB\n"
     ]
    }
   ],
   "source": [
    "class Computer:\n",
    "    def __init__(self):\n",
    "        print(\"in init\")\n",
    "    def config(self):\n",
    "        print(\"i5, 16gb,. 1TB\")\n",
    "com1 = Computer()\n",
    "com2 = Computer()\n",
    "\n",
    "com1.config()\n",
    "com2.config()"
   ]
  },
  {
   "cell_type": "code",
   "execution_count": 6,
   "id": "755372e1-40d4-4443-8db9-6636e4c83193",
   "metadata": {},
   "outputs": [
    {
     "name": "stdout",
     "output_type": "stream",
     "text": [
      "Config is  i5 16\n",
      "Config is  Ryzen 3 8\n"
     ]
    }
   ],
   "source": [
    "class Computer:\n",
    "    def __init__(self,cpu,ram):\n",
    "        self.cpu = cpu\n",
    "        self.ram = ram\n",
    "        \n",
    "        \n",
    "    def config(self):\n",
    "        print(\"Config is \", self.cpu, self.ram)\n",
    "com1 = Computer('i5',16)\n",
    "com2 = Computer('Ryzen 3',8)\n",
    "\n",
    "com1.config()\n",
    "com2.config()"
   ]
  },
  {
   "cell_type": "code",
   "execution_count": null,
   "id": "2c884fdf-1c85-4d96-9a9f-5a8e2b28129e",
   "metadata": {},
   "outputs": [],
   "source": []
  }
 ],
 "metadata": {
  "kernelspec": {
   "display_name": "Python [conda env:base] *",
   "language": "python",
   "name": "conda-base-py"
  },
  "language_info": {
   "codemirror_mode": {
    "name": "ipython",
    "version": 3
   },
   "file_extension": ".py",
   "mimetype": "text/x-python",
   "name": "python",
   "nbconvert_exporter": "python",
   "pygments_lexer": "ipython3",
   "version": "3.12.7"
  }
 },
 "nbformat": 4,
 "nbformat_minor": 5
}
