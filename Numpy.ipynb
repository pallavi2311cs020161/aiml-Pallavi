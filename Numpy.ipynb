{
 "cells": [
  {
   "cell_type": "code",
   "execution_count": 3,
   "id": "d011c397-771f-41e8-aa47-b67891a245ef",
   "metadata": {},
   "outputs": [
    {
     "name": "stdout",
     "output_type": "stream",
     "text": [
      "['A' '67' '57' '9.8']\n",
      "<class 'numpy.ndarray'>\n",
      "<U32\n"
     ]
    }
   ],
   "source": [
    "import numpy as np\n",
    "x = np.array([\"A\",67,57,9.8])\n",
    "print(x)\n",
    "print(type(x))\n",
    "print(x.dtype)"
   ]
  },
  {
   "cell_type": "code",
   "execution_count": 7,
   "id": "dc335129-4a00-4751-93da-ec426c84efa1",
   "metadata": {},
   "outputs": [
    {
     "name": "stdout",
     "output_type": "stream",
     "text": [
      "[[20 40]\n",
      " [30 60]]\n",
      "<class 'numpy.ndarray'>\n"
     ]
    }
   ],
   "source": [
    "#create a2 array\n",
    "a2 = np.array([[20,40],[30,60]])\n",
    "print(a2)\n",
    "print(type(x))"
   ]
  },
  {
   "cell_type": "code",
   "execution_count": 9,
   "id": "c75cc806-1d51-4255-9fbd-deda15c8ce6e",
   "metadata": {},
   "outputs": [
    {
     "name": "stdout",
     "output_type": "stream",
     "text": [
      "[[10 20]\n",
      " [30 40]]\n",
      "(2, 2)\n"
     ]
    }
   ],
   "source": [
    "#Reshaping an array\n",
    "a = np.array([10,20,30,40])\n",
    "b = a.reshape(2,2)\n",
    "print(b)\n",
    "print(b.shape)"
   ]
  },
  {
   "cell_type": "code",
   "execution_count": 11,
   "id": "b131127f-7076-4f57-b367-db80c483e5a3",
   "metadata": {},
   "outputs": [
    {
     "name": "stdout",
     "output_type": "stream",
     "text": [
      "[ 3  4  5  6  7  8  9 10 11 12 13 14 15 16 17 18 19]\n"
     ]
    },
    {
     "data": {
      "text/plain": [
       "numpy.ndarray"
      ]
     },
     "execution_count": 11,
     "metadata": {},
     "output_type": "execute_result"
    }
   ],
   "source": [
    "#Create an array with arange() \n",
    "c = np.arange(3,20)\n",
    "print(c)\n",
    "type(c)"
   ]
  },
  {
   "cell_type": "code",
   "execution_count": 13,
   "id": "d7d18ed6-e22d-48e1-b660-acc83e204d95",
   "metadata": {},
   "outputs": [
    {
     "data": {
      "text/plain": [
       "array([1.35, 3.11, 4.91])"
      ]
     },
     "execution_count": 13,
     "metadata": {},
     "output_type": "execute_result"
    }
   ],
   "source": [
    "d = np.array([1.3467, 3.10987,4.91236])\n",
    "np.around(d,2)"
   ]
  },
  {
   "cell_type": "code",
   "execution_count": 15,
   "id": "1ce77d24-9788-4f62-8292-051a2cd95ac8",
   "metadata": {},
   "outputs": [
    {
     "data": {
      "text/plain": [
       "array([1.3467 , 3.10987, 4.91236])"
      ]
     },
     "execution_count": 15,
     "metadata": {},
     "output_type": "execute_result"
    }
   ],
   "source": [
    "d"
   ]
  },
  {
   "cell_type": "code",
   "execution_count": 17,
   "id": "a75abc2f-1419-4819-abbe-68ff260fbe3c",
   "metadata": {},
   "outputs": [
    {
     "name": "stdout",
     "output_type": "stream",
     "text": [
      "[1.16 1.76 2.22]\n"
     ]
    }
   ],
   "source": [
    "#Use of np.sqrt()\n",
    "print(np.around(np.sqrt(d),2))"
   ]
  },
  {
   "cell_type": "code",
   "execution_count": 27,
   "id": "37344cfd-8c6e-4860-a044-10389457c080",
   "metadata": {},
   "outputs": [
    {
     "name": "stdout",
     "output_type": "stream",
     "text": [
      "[[ 2.  3.  5.  7. nan]]\n",
      "<class 'numpy.ndarray'>\n"
     ]
    }
   ],
   "source": [
    "#Use astype() to convert the data type\n",
    "a1 = np.array([[2,3,5,7,np.NAN]])\n",
    "a1_copy1 = a1.astype(float)\n",
    "print(a1)\n",
    "print(type(a1))"
   ]
  },
  {
   "cell_type": "code",
   "execution_count": 29,
   "id": "b0ee2b8f-9ab0-4fc1-8f1a-1ad07b5b980b",
   "metadata": {},
   "outputs": [
    {
     "name": "stdout",
     "output_type": "stream",
     "text": [
      "[[ 3.  4.  5.  8.]\n",
      " [ 7.  2.  8. nan]]\n",
      "<class 'numpy.ndarray'>\n"
     ]
    }
   ],
   "source": [
    "a1 = np.array([[3,4,5,8],[7,2,8,np.NAN]])\n",
    "a1_copy1 = a1.astype(float)\n",
    "print(a1)\n",
    "print(type(a1))"
   ]
  },
  {
   "cell_type": "code",
   "execution_count": 31,
   "id": "4b33863f-29d3-4dca-8295-21f6bab5bd4c",
   "metadata": {},
   "outputs": [
    {
     "name": "stdout",
     "output_type": "stream",
     "text": [
      "[['3.0' '4.0' '5.0' '8.0']\n",
      " ['7.0' '2.0' '8.0' 'nan']]\n"
     ]
    },
    {
     "data": {
      "text/plain": [
       "dtype('<U32')"
      ]
     },
     "execution_count": 31,
     "metadata": {},
     "output_type": "execute_result"
    }
   ],
   "source": [
    "a1_copy1 = a1.astype(str)\n",
    "print(a1_copy1)\n",
    "a1_copy1.dtype"
   ]
  },
  {
   "cell_type": "code",
   "execution_count": 35,
   "id": "07733fb9-adee-46d9-a520-46f763b1b3a4",
   "metadata": {},
   "outputs": [
    {
     "data": {
      "text/plain": [
       "array([[ 3,  4,  6],\n",
       "       [ 7,  9, 10],\n",
       "       [ 4,  6, 12]])"
      ]
     },
     "execution_count": 35,
     "metadata": {},
     "output_type": "execute_result"
    }
   ],
   "source": [
    "#Mathematical operations on rows and columns\n",
    "a2 =np.array([[3,4,6],[7,9,10],[4,6,12]])\n",
    "a2"
   ]
  },
  {
   "cell_type": "code",
   "execution_count": 37,
   "id": "e5de549e-c215-4e7e-a43b-23a8c6e96bd7",
   "metadata": {},
   "outputs": [
    {
     "name": "stdout",
     "output_type": "stream",
     "text": [
      "[13 26 22]\n",
      "[14 19 28]\n"
     ]
    }
   ],
   "source": [
    "print(a2.sum(axis=1))\n",
    "print(a2.sum(axis=0))"
   ]
  },
  {
   "cell_type": "code",
   "execution_count": 43,
   "id": "4664f6b8-ead2-453b-8c77-2b5a2e5f019f",
   "metadata": {},
   "outputs": [
    {
     "name": "stdout",
     "output_type": "stream",
     "text": [
      "[[ 3  4  6]\n",
      " [ 7  9 10]\n",
      " [ 4  6 12]]\n",
      "[4.33333333 8.66666667 7.33333333]\n",
      "[4.66666667 6.33333333 9.33333333]\n"
     ]
    }
   ],
   "source": [
    "#find the nean values along row and col\n",
    "print(a2)\n",
    "print(np.mean(a2, axis =1))\n",
    "print(np.mean(a2, axis =0))"
   ]
  },
  {
   "cell_type": "code",
   "execution_count": 45,
   "id": "c75165fc-b294-4120-b32c-9ba3f32c3971",
   "metadata": {},
   "outputs": [
    {
     "name": "stdout",
     "output_type": "stream",
     "text": [
      "[[3 4 5]\n",
      " [7 2 8]\n",
      " [9 1 6]]\n",
      "[[0 4 5]\n",
      " [7 0 8]\n",
      " [9 1 0]]\n"
     ]
    }
   ],
   "source": [
    "#Matrix operations\n",
    "a3 = np.array([[3,4,5],[7,2,8],[9,1,6]])\n",
    "print(a3)\n",
    "np.fill_diagonal(a3,0)\n",
    "print(a3)"
   ]
  },
  {
   "cell_type": "code",
   "execution_count": 49,
   "id": "639720e7-bb00-428b-bc64-bf644ba1a093",
   "metadata": {},
   "outputs": [],
   "source": [
    "#Define two matrices and multiply them\n",
    "A = np.array([[1, 2], [3, 4]])\n",
    "B = np.array([[5, 6], [7, 8]])\n"
   ]
  },
  {
   "cell_type": "code",
   "execution_count": 53,
   "id": "a25ac983-eabd-45ac-bf34-7ac266e787be",
   "metadata": {},
   "outputs": [
    {
     "name": "stdout",
     "output_type": "stream",
     "text": [
      "[[19 22]\n",
      " [43 50]]\n"
     ]
    }
   ],
   "source": [
    "#Perform matrix multiplication\n",
    "C = np.matmul(A, B)\n",
    "print(C)"
   ]
  },
  {
   "cell_type": "code",
   "execution_count": 55,
   "id": "b5d1cdf0-bfad-46e5-b899-ac4d0e27fece",
   "metadata": {},
   "outputs": [
    {
     "name": "stdout",
     "output_type": "stream",
     "text": [
      "[[1 3]\n",
      " [2 4]]\n",
      "[[5 7]\n",
      " [6 8]]\n"
     ]
    }
   ],
   "source": [
    "#Print the Transpose of the matrices\n",
    "print(A.T)\n",
    "print(B.T)"
   ]
  },
  {
   "cell_type": "code",
   "execution_count": 59,
   "id": "181e3240-5c1b-4b59-9866-a060daa6ec6c",
   "metadata": {},
   "outputs": [
    {
     "data": {
      "text/plain": [
       "array([[ 3,  4,  5],\n",
       "       [ 7,  2,  8],\n",
       "       [ 9,  1,  6],\n",
       "       [10,  9, 18]])"
      ]
     },
     "execution_count": 59,
     "metadata": {},
     "output_type": "execute_result"
    }
   ],
   "source": [
    "#Accessing the array elements\n",
    "a4 = np.array([[3,4,5],[7,2,8],[9,1,6],[10,9,18]])\n",
    "a4"
   ]
  },
  {
   "cell_type": "code",
   "execution_count": 61,
   "id": "98482cb5-2b83-4913-adcf-5911a5e9a9b6",
   "metadata": {},
   "outputs": [
    {
     "data": {
      "text/plain": [
       "array([[ 3,  5],\n",
       "       [10, 18]])"
      ]
     },
     "execution_count": 61,
     "metadata": {},
     "output_type": "execute_result"
    }
   ],
   "source": [
    "a4[0::3,0::2]"
   ]
  },
  {
   "cell_type": "code",
   "execution_count": 81,
   "id": "15ac929d-7c88-46bd-892f-827c233f3300",
   "metadata": {},
   "outputs": [
    {
     "data": {
      "text/plain": [
       "array([[7, 2],\n",
       "       [9, 1]])"
      ]
     },
     "execution_count": 81,
     "metadata": {},
     "output_type": "execute_result"
    }
   ],
   "source": [
    "a4[1:3,0:2]"
   ]
  },
  {
   "cell_type": "code",
   "execution_count": null,
   "id": "6ba7fed6-3c21-4c32-b70a-b977eddf9a76",
   "metadata": {},
   "outputs": [],
   "source": []
  }
 ],
 "metadata": {
  "kernelspec": {
   "display_name": "Python [conda env:base] *",
   "language": "python",
   "name": "conda-base-py"
  },
  "language_info": {
   "codemirror_mode": {
    "name": "ipython",
    "version": 3
   },
   "file_extension": ".py",
   "mimetype": "text/x-python",
   "name": "python",
   "nbconvert_exporter": "python",
   "pygments_lexer": "ipython3",
   "version": "3.12.7"
  }
 },
 "nbformat": 4,
 "nbformat_minor": 5
}
