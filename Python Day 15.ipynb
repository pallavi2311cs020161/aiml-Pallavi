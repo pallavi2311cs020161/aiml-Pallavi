{
 "cells": [
  {
   "cell_type": "markdown",
   "id": "8be036cc-aba3-426a-9388-1b09065e7e6b",
   "metadata": {},
   "source": [
    "##### Factorial Using Recursion"
   ]
  },
  {
   "cell_type": "code",
   "execution_count": 3,
   "id": "08c1dda0-042f-4be1-ac02-2b4783d89bf4",
   "metadata": {},
   "outputs": [
    {
     "name": "stdout",
     "output_type": "stream",
     "text": [
      "120\n"
     ]
    }
   ],
   "source": [
    "def fact(n):\n",
    "    if n==0:\n",
    "        return 1\n",
    "    return n * fact(n-1)\n",
    "result = fact(5)\n",
    "print(result)"
   ]
  },
  {
   "cell_type": "code",
   "execution_count": 5,
   "id": "9bed7e95-9420-44cf-8c64-223a8ff43a4d",
   "metadata": {},
   "outputs": [
    {
     "name": "stdout",
     "output_type": "stream",
     "text": [
      "24\n"
     ]
    }
   ],
   "source": [
    "def fact(n):\n",
    "    if n==0:\n",
    "        return 1\n",
    "    return n * fact(n-1)\n",
    "result = fact(4)\n",
    "print(result)"
   ]
  },
  {
   "cell_type": "code",
   "execution_count": 15,
   "id": "25d11b87-e26e-4e0b-bb80-3c55fe2db57c",
   "metadata": {},
   "outputs": [
    {
     "name": "stdout",
     "output_type": "stream",
     "text": [
      "24\n"
     ]
    }
   ],
   "source": [
    "def fact(n):\n",
    "    if n==1:\n",
    "        return 1\n",
    "    return n * fact(n-1)\n",
    "result = fact(4)\n",
    "print(result)"
   ]
  },
  {
   "cell_type": "code",
   "execution_count": 17,
   "id": "51bc61dd-3f4f-4315-831a-d03923bf10ef",
   "metadata": {},
   "outputs": [
    {
     "name": "stdout",
     "output_type": "stream",
     "text": [
      "6\n"
     ]
    }
   ],
   "source": [
    "def fact(n):\n",
    "    if n==0:\n",
    "        return 1\n",
    "    return n * fact(n-1)\n",
    "result = fact(3)\n",
    "print(result)"
   ]
  },
  {
   "cell_type": "markdown",
   "id": "f15281e6-41ce-4f70-b3fe-a164be5c5084",
   "metadata": {},
   "source": [
    "#### Anonymous Function|Lambda"
   ]
  },
  {
   "cell_type": "code",
   "execution_count": 20,
   "id": "0a912a43-8f26-4530-b306-dc747955796f",
   "metadata": {},
   "outputs": [
    {
     "name": "stdout",
     "output_type": "stream",
     "text": [
      "25\n"
     ]
    }
   ],
   "source": [
    "def square(a):\n",
    "    return a*a\n",
    "result = square(5)\n",
    "print(result)"
   ]
  },
  {
   "cell_type": "code",
   "execution_count": 26,
   "id": "7f470edc-0880-46bf-ad63-a99b9bf5f022",
   "metadata": {},
   "outputs": [
    {
     "name": "stdout",
     "output_type": "stream",
     "text": [
      "10\n"
     ]
    }
   ],
   "source": [
    "def square(a):\n",
    "    return a+a\n",
    "result = square(5)\n",
    "print(result)"
   ]
  },
  {
   "cell_type": "code",
   "execution_count": 22,
   "id": "a3273e61-8fc8-4d6d-9fef-05318a5aaef1",
   "metadata": {},
   "outputs": [
    {
     "name": "stdout",
     "output_type": "stream",
     "text": [
      "11\n"
     ]
    }
   ],
   "source": [
    "f = lambda a,b : a+b\n",
    "result = f(5,6)\n",
    "print(result)"
   ]
  },
  {
   "cell_type": "code",
   "execution_count": 24,
   "id": "2190250b-500a-4971-8f8c-725640576307",
   "metadata": {},
   "outputs": [
    {
     "name": "stdout",
     "output_type": "stream",
     "text": [
      "30\n"
     ]
    }
   ],
   "source": [
    "f = lambda a,b : a*b\n",
    "result = f(5,6)\n",
    "print(result)"
   ]
  },
  {
   "cell_type": "markdown",
   "id": "5c2844a3-fd23-42bd-95a9-2a70785c27cd",
   "metadata": {},
   "source": [
    "#### Filter Map Reduce"
   ]
  },
  {
   "cell_type": "code",
   "execution_count": 29,
   "id": "3a108c93-88bb-4e2e-9c57-1ca58412bc5f",
   "metadata": {},
   "outputs": [
    {
     "name": "stdout",
     "output_type": "stream",
     "text": [
      "[2, 6, 8, 4, 6, 2]\n"
     ]
    }
   ],
   "source": [
    "def is_even(n):\n",
    "    return n%2==0\n",
    "nums = [3,2,6,8,4,6,2,9]\n",
    "evens = list(filter(is_even,nums))\n",
    "print(evens)\n"
   ]
  },
  {
   "cell_type": "code",
   "execution_count": 47,
   "id": "b609f619-daf2-4e2c-9aac-c848daa8ca9b",
   "metadata": {},
   "outputs": [
    {
     "ename": "NameError",
     "evalue": "name 'odd' is not defined",
     "output_type": "error",
     "traceback": [
      "\u001b[1;31m---------------------------------------------------------------------------\u001b[0m",
      "\u001b[1;31mNameError\u001b[0m                                 Traceback (most recent call last)",
      "Cell \u001b[1;32mIn[47], line 5\u001b[0m\n\u001b[0;32m      3\u001b[0m nums \u001b[38;5;241m=\u001b[39m [\u001b[38;5;241m3\u001b[39m,\u001b[38;5;241m2\u001b[39m,\u001b[38;5;241m6\u001b[39m,\u001b[38;5;241m8\u001b[39m,\u001b[38;5;241m4\u001b[39m,\u001b[38;5;241m6\u001b[39m,\u001b[38;5;241m2\u001b[39m,\u001b[38;5;241m9\u001b[39m]\n\u001b[0;32m      4\u001b[0m odds \u001b[38;5;241m=\u001b[39m \u001b[38;5;28mlist\u001b[39m(\u001b[38;5;28mfilter\u001b[39m(is_odd,nums))\n\u001b[1;32m----> 5\u001b[0m \u001b[38;5;28mprint\u001b[39m(odd)\n",
      "\u001b[1;31mNameError\u001b[0m: name 'odd' is not defined"
     ]
    }
   ],
   "source": [
    "def is_odd(n):\n",
    "    return n%1==0\n",
    "nums = [3,2,6,8,4,6,2,9]\n",
    "odds = list(filter(is_odd,nums))\n",
    "print(odds)"
   ]
  },
  {
   "cell_type": "code",
   "execution_count": 31,
   "id": "bef6af53-9911-44bc-ab41-914ebb1300bb",
   "metadata": {},
   "outputs": [
    {
     "name": "stdout",
     "output_type": "stream",
     "text": [
      "[4, 8, 10, 6, 8, 4]\n"
     ]
    }
   ],
   "source": [
    "nums = [3,2,6,8,4,6,2,9]\n",
    "evens = list(filter(lambda n : n%2==0,nums))\n",
    "doubles = list(map(lambda n : n+2,evens))\n",
    "print(doubles)"
   ]
  },
  {
   "cell_type": "code",
   "execution_count": 33,
   "id": "f2933739-45bf-46b7-8a8e-8b71b20a547d",
   "metadata": {},
   "outputs": [
    {
     "name": "stdout",
     "output_type": "stream",
     "text": [
      "[4, 12, 16, 8, 12, 4]\n"
     ]
    }
   ],
   "source": [
    "nums = [3,2,6,8,4,6,2,9]\n",
    "evens = list(filter(lambda n : n%2==0,nums))\n",
    "doubles = list(map(lambda n : n*2,evens))\n",
    "print(doubles)"
   ]
  },
  {
   "cell_type": "code",
   "execution_count": 35,
   "id": "95e49699-3095-4be6-98e6-8bd1bc44eae9",
   "metadata": {},
   "outputs": [
    {
     "name": "stdout",
     "output_type": "stream",
     "text": [
      "56\n"
     ]
    }
   ],
   "source": [
    "from functools import reduce\n",
    "def add_all(a,b):\n",
    "    return a+b\n",
    "nums = [3,2,6,8,4,6,2,9]\n",
    "evens = list(filter(lambda n : n%2==0,nums))\n",
    "doubles = list(map(lambda n : n*2,evens))\n",
    "sum = reduce(add_all,doubles)\n",
    "print(sum)"
   ]
  },
  {
   "cell_type": "code",
   "execution_count": 39,
   "id": "a7dafe88-5c0f-4369-818d-f8c046fc86e6",
   "metadata": {},
   "outputs": [
    {
     "name": "stdout",
     "output_type": "stream",
     "text": [
      "[4, 12, 16, 8, 12, 4]\n",
      "56\n"
     ]
    }
   ],
   "source": [
    "from functools import reduce\n",
    "\n",
    "nums = [3,2,6,8,4,6,2,9]\n",
    "evens = list(filter(lambda n : n%2==0,nums))\n",
    "doubles = list(map(lambda n : n*2,evens))\n",
    "print(doubles)\n",
    "sum = reduce(add_all,doubles)\n",
    "print(sum)"
   ]
  },
  {
   "cell_type": "code",
   "execution_count": null,
   "id": "8665ea1a-dd04-425b-aec5-630b88e9cd24",
   "metadata": {},
   "outputs": [],
   "source": []
  }
 ],
 "metadata": {
  "kernelspec": {
   "display_name": "Python [conda env:base] *",
   "language": "python",
   "name": "conda-base-py"
  },
  "language_info": {
   "codemirror_mode": {
    "name": "ipython",
    "version": 3
   },
   "file_extension": ".py",
   "mimetype": "text/x-python",
   "name": "python",
   "nbconvert_exporter": "python",
   "pygments_lexer": "ipython3",
   "version": "3.12.7"
  }
 },
 "nbformat": 4,
 "nbformat_minor": 5
}
